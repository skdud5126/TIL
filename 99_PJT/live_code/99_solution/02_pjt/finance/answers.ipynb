{
 "cells": [
  {
   "cell_type": "code",
   "execution_count": 1,
   "id": "7eede26c",
   "metadata": {},
   "outputs": [],
   "source": [
    "# 패키지 import\n",
    "import pandas as pd\n",
    "import matplotlib.pyplot as plt"
   ]
  },
  {
   "cell_type": "markdown",
   "id": "d4042158",
   "metadata": {},
   "source": [
    "## A. 데이터 전처리 - 데이터 읽어오기\n",
    "\n",
    "- 특정 필드만 Pandas 의 Dataframe 으로 읽어옵니다."
   ]
  },
  {
   "cell_type": "code",
   "execution_count": 2,
   "id": "a96bcd50",
   "metadata": {},
   "outputs": [],
   "source": [
    "# CSV 파일 경로 설정\n",
    "csv_file = 'archive/NFLX.csv'\n",
    "\n",
    "# CSV 파일을 DataFrame으로 읽어오기 (특정 필드만 읽어오기)\n",
    "df = pd.read_csv(csv_file, usecols=['Date', 'Open', 'High', 'Low', 'Close'])"
   ]
  },
  {
   "cell_type": "code",
   "execution_count": 3,
   "id": "b0c959d9",
   "metadata": {},
   "outputs": [
    {
     "data": {
      "text/html": [
       "<div>\n",
       "<style scoped>\n",
       "    .dataframe tbody tr th:only-of-type {\n",
       "        vertical-align: middle;\n",
       "    }\n",
       "\n",
       "    .dataframe tbody tr th {\n",
       "        vertical-align: top;\n",
       "    }\n",
       "\n",
       "    .dataframe thead th {\n",
       "        text-align: right;\n",
       "    }\n",
       "</style>\n",
       "<table border=\"1\" class=\"dataframe\">\n",
       "  <thead>\n",
       "    <tr style=\"text-align: right;\">\n",
       "      <th></th>\n",
       "      <th>Date</th>\n",
       "      <th>Open</th>\n",
       "      <th>High</th>\n",
       "      <th>Low</th>\n",
       "      <th>Close</th>\n",
       "    </tr>\n",
       "  </thead>\n",
       "  <tbody>\n",
       "    <tr>\n",
       "      <th>0</th>\n",
       "      <td>2018-02-05</td>\n",
       "      <td>262.000000</td>\n",
       "      <td>267.899994</td>\n",
       "      <td>250.029999</td>\n",
       "      <td>254.259995</td>\n",
       "    </tr>\n",
       "    <tr>\n",
       "      <th>1</th>\n",
       "      <td>2018-02-06</td>\n",
       "      <td>247.699997</td>\n",
       "      <td>266.700012</td>\n",
       "      <td>245.000000</td>\n",
       "      <td>265.720001</td>\n",
       "    </tr>\n",
       "    <tr>\n",
       "      <th>2</th>\n",
       "      <td>2018-02-07</td>\n",
       "      <td>266.579987</td>\n",
       "      <td>272.450012</td>\n",
       "      <td>264.329987</td>\n",
       "      <td>264.559998</td>\n",
       "    </tr>\n",
       "    <tr>\n",
       "      <th>3</th>\n",
       "      <td>2018-02-08</td>\n",
       "      <td>267.079987</td>\n",
       "      <td>267.619995</td>\n",
       "      <td>250.000000</td>\n",
       "      <td>250.100006</td>\n",
       "    </tr>\n",
       "    <tr>\n",
       "      <th>4</th>\n",
       "      <td>2018-02-09</td>\n",
       "      <td>253.850006</td>\n",
       "      <td>255.800003</td>\n",
       "      <td>236.110001</td>\n",
       "      <td>249.470001</td>\n",
       "    </tr>\n",
       "    <tr>\n",
       "      <th>...</th>\n",
       "      <td>...</td>\n",
       "      <td>...</td>\n",
       "      <td>...</td>\n",
       "      <td>...</td>\n",
       "      <td>...</td>\n",
       "    </tr>\n",
       "    <tr>\n",
       "      <th>1004</th>\n",
       "      <td>2022-01-31</td>\n",
       "      <td>401.970001</td>\n",
       "      <td>427.700012</td>\n",
       "      <td>398.200012</td>\n",
       "      <td>427.140015</td>\n",
       "    </tr>\n",
       "    <tr>\n",
       "      <th>1005</th>\n",
       "      <td>2022-02-01</td>\n",
       "      <td>432.959991</td>\n",
       "      <td>458.480011</td>\n",
       "      <td>425.540009</td>\n",
       "      <td>457.130005</td>\n",
       "    </tr>\n",
       "    <tr>\n",
       "      <th>1006</th>\n",
       "      <td>2022-02-02</td>\n",
       "      <td>448.250000</td>\n",
       "      <td>451.980011</td>\n",
       "      <td>426.480011</td>\n",
       "      <td>429.480011</td>\n",
       "    </tr>\n",
       "    <tr>\n",
       "      <th>1007</th>\n",
       "      <td>2022-02-03</td>\n",
       "      <td>421.440002</td>\n",
       "      <td>429.260010</td>\n",
       "      <td>404.279999</td>\n",
       "      <td>405.600006</td>\n",
       "    </tr>\n",
       "    <tr>\n",
       "      <th>1008</th>\n",
       "      <td>2022-02-04</td>\n",
       "      <td>407.309998</td>\n",
       "      <td>412.769989</td>\n",
       "      <td>396.640015</td>\n",
       "      <td>410.170013</td>\n",
       "    </tr>\n",
       "  </tbody>\n",
       "</table>\n",
       "<p>1009 rows × 5 columns</p>\n",
       "</div>"
      ],
      "text/plain": [
       "            Date        Open        High         Low       Close\n",
       "0     2018-02-05  262.000000  267.899994  250.029999  254.259995\n",
       "1     2018-02-06  247.699997  266.700012  245.000000  265.720001\n",
       "2     2018-02-07  266.579987  272.450012  264.329987  264.559998\n",
       "3     2018-02-08  267.079987  267.619995  250.000000  250.100006\n",
       "4     2018-02-09  253.850006  255.800003  236.110001  249.470001\n",
       "...          ...         ...         ...         ...         ...\n",
       "1004  2022-01-31  401.970001  427.700012  398.200012  427.140015\n",
       "1005  2022-02-01  432.959991  458.480011  425.540009  457.130005\n",
       "1006  2022-02-02  448.250000  451.980011  426.480011  429.480011\n",
       "1007  2022-02-03  421.440002  429.260010  404.279999  405.600006\n",
       "1008  2022-02-04  407.309998  412.769989  396.640015  410.170013\n",
       "\n",
       "[1009 rows x 5 columns]"
      ]
     },
     "execution_count": 3,
     "metadata": {},
     "output_type": "execute_result"
    }
   ],
   "source": [
    "# DataFrame 출력\n",
    "df"
   ]
  },
  {
   "cell_type": "code",
   "execution_count": 4,
   "id": "3f262e48",
   "metadata": {},
   "outputs": [
    {
     "data": {
      "text/plain": [
       "Date      object\n",
       "Open     float64\n",
       "High     float64\n",
       "Low      float64\n",
       "Close    float64\n",
       "dtype: object"
      ]
     },
     "execution_count": 4,
     "metadata": {},
     "output_type": "execute_result"
    }
   ],
   "source": [
    "df.dtypes"
   ]
  },
  {
   "cell_type": "markdown",
   "id": "e478a8b0",
   "metadata": {},
   "source": [
    "## B. 데이터 전처리 – 2021년 이후의 종가 데이터 출력하기\n",
    "- csv 파일을 DataFrame 으로 읽어와 2021년 이후의 데이터만 필터링합니다.\n",
    "- 기본 df['Close'] 타입은 object(문자열) 이므로, Date 형식으로 변환하여 필터링을 진행합니다.\n",
    "- 필터링이 완료된 DataFrame 의 종가 데이터를 Matplotlib 를 사용하여 시각화합니다."
   ]
  },
  {
   "cell_type": "code",
   "execution_count": 5,
   "id": "536e0284",
   "metadata": {},
   "outputs": [
    {
     "data": {
      "image/png": "[encoded data removed]",
      "text/plain": [
       "<Figure size 432x288 with 1 Axes>"
      ]
     },
     "metadata": {
      "needs_background": "light"
     },
     "output_type": "display_data"
    }
   ],
   "source": [
    "# CSV 파일을 DataFrame으로 읽어오기 (특정 필드만 읽어오기)\n",
    "df = pd.read_csv(csv_file, usecols=['Date', 'Open', 'High', 'Low', 'Close'])\n",
    "\n",
    "# 'Date' 컬럼을 날짜 형식으로 변환\n",
    "df['Date'] = pd.to_datetime(df['Date'])\n",
    "\n",
    "# 2021년 이후의 데이터 필터링\n",
    "df = df[df['Date'] >= pd.to_datetime('2021-01-01')]\n",
    "\n",
    "# Matplotlib을 사용하여 종가 데이터 시각화\n",
    "plt.plot(df['Date'], df['Close'])\n",
    "\n",
    "# 그래프 제목 설정\n",
    "plt.title('NFLX Close Price')\n",
    "\n",
    "# x축 레이블 설정\n",
    "plt.xlabel('Date')\n",
    "\n",
    "# y축 레이블 설정\n",
    "plt.ylabel('Close Price')\n",
    "\n",
    "# x축 눈금 라벨 회전 설정\n",
    "plt.xticks(rotation=45)\n",
    "\n",
    "# 그래프 출력\n",
    "plt.show()"
   ]
  },
  {
   "cell_type": "markdown",
   "id": "8b2f49c0",
   "metadata": {},
   "source": [
    "## C. 데이터 분석 – 2021년 이후 최고, 최저가 출력하기\n",
    "- csv 파일을 DataFrame 으로 읽어와 2021년 이후의 데이터만 필터링합니다.\n",
    "- 기본 df['Close'] 타입은 object(문자열) 이므로, Date 형식으로 변환하여 필터링을 진행합니다.\n",
    "- 종가(Close) 필드를 활용하여, 2021년 이후 가장 높은 종가와 가장 낮은 종가를 출력합니다."
   ]
  },
  {
   "cell_type": "code",
   "execution_count": 6,
   "id": "0ffa5f95",
   "metadata": {
    "scrolled": false
   },
   "outputs": [
    {
     "name": "stdout",
     "output_type": "stream",
     "text": [
      "최고 종가: 691.690002\n",
      "최저 종가: 359.700012\n"
     ]
    }
   ],
   "source": [
    "# CSV 파일을 DataFrame으로 읽어오기 (특정 필드만 읽어오기)\n",
    "df = pd.read_csv(csv_file, usecols=['Date', 'Open', 'High', 'Low', 'Close'])\n",
    "\n",
    "# 'Date' 컬럼을 날짜 형식으로 변환\n",
    "df['Date'] = pd.to_datetime(df['Date'])\n",
    "\n",
    "# 2021년 이후의 데이터 필터링\n",
    "df = df[df['Date'] >= pd.to_datetime('2021-01-01')]\n",
    "\n",
    "# 최고가 출력\n",
    "max_price = df['Close'].max()\n",
    "print(\"최고 종가:\", max_price)\n",
    "\n",
    "# 최저가 출력\n",
    "min_price = df['Close'].min()\n",
    "print(\"최저 종가:\", min_price)"
   ]
  },
  {
   "cell_type": "code",
   "execution_count": 7,
   "id": "1e131840",
   "metadata": {},
   "outputs": [
    {
     "name": "stdout",
     "output_type": "stream",
     "text": [
      "최고 종가: 691.690002\n",
      "최저 종가: 359.700012\n"
     ]
    }
   ],
   "source": [
    "print(\"최고 종가:\", max_price)\n",
    "print(\"최저 종가:\", min_price)"
   ]
  },
  {
   "cell_type": "markdown",
   "id": "d2b75eb6",
   "metadata": {},
   "source": [
    "## D. 데이터 분석- 2021년 이후 월 별 평균 종가 출력하기\n",
    "- csv 파일을 DataFrame 으로 읽어와 2021년 이후의 데이터만 필터링합니다.\n",
    "- 기본 df['Close'] 타입은 object(문자열) 이므로, Date 형식으로 변환하여 필터링을 진행합니다.\n",
    "- 월 별로 그룹화하여 평균 종가를 계산한 새로운 DataFrame 을 만듭니다. (groupby 활용)"
   ]
  },
  {
   "cell_type": "code",
   "execution_count": 8,
   "id": "21c7252c",
   "metadata": {},
   "outputs": [
    {
     "data": {
      "image/png": "[encoded data removed]",
      "text/plain": [
       "<Figure size 432x288 with 1 Axes>"
      ]
     },
     "metadata": {
      "needs_background": "light"
     },
     "output_type": "display_data"
    }
   ],
   "source": [
    "# CSV 파일을 DataFrame으로 읽어오기 (특정 필드만 읽어오기)\n",
    "df = pd.read_csv(csv_file, usecols=['Date', 'Open', 'High', 'Low', 'Close'])\n",
    "\n",
    "# 'Date' 컬럼을 날짜 형식으로 변환\n",
    "df['Date'] = pd.to_datetime(df['Date'])\n",
    "\n",
    "# 2021년 이후의 데이터 필터링\n",
    "df = df[df['Date'] >= pd.to_datetime('2021-01-01')]\n",
    "\n",
    "# 월별 평균 종가 계산 (numeric_only=True를 명시적으로 설정)\n",
    "monthly_avg_close = df.groupby(df['Date'].dt.to_period('M')).mean(numeric_only=True)\n",
    "\n",
    "# Date 열이 행으로 변경되었으므로, reset_index 를 통해 열로 다시 변경\n",
    "monthly_avg_close.reset_index(inplace=True)\n",
    "\n",
    "# 'Date' 컬럼을 datetime 형식으로 변환\n",
    "monthly_avg_close['Date'] = monthly_avg_close['Date'].dt.to_timestamp()\n",
    "\n",
    "# 월별 평균 종가 시각화\n",
    "plt.plot(monthly_avg_close['Date'], monthly_avg_close['Close'])\n",
    "plt.title('Monthly Average Close Price')\n",
    "plt.xlabel('Date')\n",
    "plt.ylabel('Average Close Price')\n",
    "plt.xticks(rotation=45)\n",
    "\n",
    "\n",
    "plt.show()"
   ]
  },
  {
   "cell_type": "markdown",
   "id": "d6553bd4",
   "metadata": {},
   "source": [
    "## E. 데이터 시각화 – 2022년 1월 이후 일 별 최고, 최저, 종가 시각화\n",
    "- csv 파일을 DataFrame 으로 읽어와 2021년 이후의 데이터만 필터링합니다.\n",
    "- 기본 df['Close'] 타입은 object(문자열) 이므로, Date 형식으로 변환하여 필터링을 진행합니다.\n",
    "- Matplotlib 를 활용하여 3가지 필드를 한 번에 분석할 수 있도록 시각화합니다."
   ]
  },
  {
   "cell_type": "code",
   "execution_count": 9,
   "id": "3d30dbd8",
   "metadata": {},
   "outputs": [
    {
     "data": {
      "image/png": "[encoded data removed]",
      "text/plain": [
       "<Figure size 432x288 with 1 Axes>"
      ]
     },
     "metadata": {
      "needs_background": "light"
     },
     "output_type": "display_data"
    }
   ],
   "source": [
    "# CSV 파일을 DataFrame으로 읽어오기 (특정 필드만 읽어오기)\n",
    "df = pd.read_csv(csv_file, usecols=['Date', 'Open', 'High', 'Low', 'Close'])\n",
    "\n",
    "# 'Date' 컬럼을 날짜 형식으로 변환\n",
    "df['Date'] = pd.to_datetime(df['Date'])\n",
    "\n",
    "# 2022년 이후의 데이터 필터링\n",
    "df = df[df['Date'] >= pd.to_datetime('2022-01-01')]\n",
    "\n",
    "# 최고가, 최저가, 종가 시각화\n",
    "plt.plot(df['Date'], df['High'], label='High')\n",
    "plt.plot(df['Date'], df['Low'], label='Low')\n",
    "plt.plot(df['Date'], df['Close'], label='Close')\n",
    "plt.title('High, Low, and Close Prices since January 2022')\n",
    "plt.xlabel('Date')\n",
    "plt.ylabel('Price')\n",
    "plt.xticks(rotation=45)\n",
    "plt.legend()\n",
    "\n",
    "\n",
    "plt.show()"
   ]
  },
  {
   "cell_type": "code",
   "execution_count": null,
   "id": "74cee8bd",
   "metadata": {},
   "outputs": [],
   "source": []
  },
  {
   "cell_type": "code",
   "execution_count": null,
   "id": "a156b082",
   "metadata": {},
   "outputs": [],
   "source": []
  }
 ],
 "metadata": {
  "kernelspec": {
   "display_name": "Python 3 (ipykernel)",
   "language": "python",
   "name": "python3"
  },
  "language_info": {
   "codemirror_mode": {
    "name": "ipython",
    "version": 3
   },
   "file_extension": ".py",
   "mimetype": "text/x-python",
   "name": "python",
   "nbconvert_exporter": "python",
   "pygments_lexer": "ipython3",
   "version": "3.10.2"
  }
 },
 "nbformat": 4,
 "nbformat_minor": 5
}
