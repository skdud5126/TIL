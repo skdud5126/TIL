{
 "cells": [
  {
   "cell_type": "markdown",
   "metadata": {},
   "source": [
    "# 2강 실습\n",
    "\n",
    "### 1) 웹 크롤링을 통한 데이터 수집\n",
    "\n",
    "## **🔍 Objectives**\n",
    "\n",
    "### **1. 실습 개요**\n",
    "- 🌐 **웹 크롤링 실습**   \n",
    "- 🔄 **CSV 데이터 처리 실습**  \n",
    "\n",
    "---\n",
    "\n",
    "### **2. 실습 진행 목적 및 배경**\n",
    "- 본 실습에서는 **정적 페이지와 동적 페이지 웹 크롤링**을 실습하며, 다양한 라이브러리의 활용법을 배웁니다.  \n",
    "- **JSON, CSV, XML**과 같은 다양한 데이터 포맷의 구조를 이해하고 이를 변환하거나 저장하는 방법을 학습합니다.  \n",
    "- 학습자는 데이터를 수집, 처리, 저장하는 유연한 워크플로우를 체득하게 됩니다.  \n",
    "\n",
    "---\n",
    "\n",
    "### **3. 실습 수행으로 얻어갈 수 있는 역량**\n",
    "- 실시간 데이터를 **수집**하고 **분석**하는 기술 습득  \n",
    "- 데이터를 다룰 때 **포맷 변환 및 저장 능력** 향상  \n",
    "- **Selenium**, **BeautifulSoup** 등 웹 크롤링 라이브러리 활용 능력 향상  \n",
    "\n",
    "\n",
    "---\n",
    "\n",
    "### **4. 실습 핵심 내용**\n",
    "- 💻 **동적 웹 크롤링 실습** (Selenium 활용)  \n"
   ]
  },
  {
   "cell_type": "markdown",
   "metadata": {},
   "source": [
    "### **Prerequisites**\n",
    "\n",
    "```\n",
    "selenium>=4.0.0\n",
    "webdriver-manager>=3.8.5\n",
    "beautifulsoup4>=4.9.3\n",
    "requests>=2.25.1\n",
    "lxml>=4.6.2\n",
    "\n",
    "```"
   ]
  },
  {
   "cell_type": "markdown",
   "metadata": {},
   "source": [
    "### 웹 크롤링 실습\n",
    "\n",
    "- HTML 구조 실습\n"
   ]
  },
  {
   "cell_type": "code",
   "execution_count": 3,
   "metadata": {},
   "outputs": [],
   "source": [
    "html_doc ='''<html><head><title>웹크롤링 연습</title></head>\n",
    "<body>\n",
    "<p class=\"title\"><b><h1>HTML 연습</h1></b></p>\n",
    "<p class=\"link\">인터넷 링크를 작성하는 방법은\n",
    "<a class=\"naver\" href='https://sports.news.naver.com/wfootball/index' id=\"link1\">네이버 스포츠 뉴스</a>와\n",
    "<a class=\"daum\" href=\"https://sports.daum.net/worldsoccer\" id=\"link2\">다음 스포츠 뉴스</a>처럼\n",
    "HTML 링크로 작성할 수 있습니다.\n",
    "</p>\n",
    "<p class=\"story\">그리고 HTML 문서는 글자의 크기도 조정 가능해서\n",
    "<h2>크게</h2>작성할 수도 있고, <h4>작게</h4> 작성할 수도 있습니다.\n",
    "</p>\n",
    "</body></html>\n",
    "'''\n",
    "\n",
    "with open('웹크롤링 연습.html','w',encoding='utf-8') as f:\n",
    "  f.write(html_doc)"
   ]
  },
  {
   "cell_type": "markdown",
   "metadata": {},
   "source": [
    "- 코드 작성 이후 실행하고 코랩 탐색기에서 '웹크롤링 연습.html'을 다운받아서 실행해보기\n",
    "- 각 링크를 보며 어떤 구조로 연결이 되었는지 생각해보기\n",
    "- HTML 태그에 따른 구조를 생각하며 보기\n",
    "\n",
    "<hr>"
   ]
  },
  {
   "cell_type": "markdown",
   "metadata": {},
   "source": [
    "# 1. BeautifulSoup\n",
    "\n",
    "### 1-1. bs4 설치"
   ]
  },
  {
   "cell_type": "code",
   "execution_count": 4,
   "metadata": {},
   "outputs": [
    {
     "name": "stdout",
     "output_type": "stream",
     "text": [
      "Collecting bs4\n",
      "  Downloading bs4-0.0.2-py2.py3-none-any.whl (1.2 kB)\n",
      "Collecting beautifulsoup4\n",
      "  Downloading beautifulsoup4-4.12.3-py3-none-any.whl (147 kB)\n",
      "     -------------------------------------- 147.9/147.9 KB 2.2 MB/s eta 0:00:00\n",
      "Collecting soupsieve>1.2\n",
      "  Downloading soupsieve-2.6-py3-none-any.whl (36 kB)\n",
      "Installing collected packages: soupsieve, beautifulsoup4, bs4\n",
      "Successfully installed beautifulsoup4-4.12.3 bs4-0.0.2 soupsieve-2.6\n"
     ]
    },
    {
     "name": "stderr",
     "output_type": "stream",
     "text": [
      "WARNING: You are using pip version 22.0.4; however, version 24.3.1 is available.\n",
      "You should consider upgrading via the 'C:\\Users\\skdud\\AppData\\Local\\Programs\\Python\\Python39\\python.exe -m pip install --upgrade pip' command.\n"
     ]
    }
   ],
   "source": [
    "# bs4를 import로 사용하기 위해 설치\n",
    "\n",
    "!pip install bs4"
   ]
  },
  {
   "cell_type": "markdown",
   "metadata": {},
   "source": [
    "- HTML 구조 실습에서 작성해서 저장한 html 문서를 다시 불러들여 문서를 파싱하여 사람이 이해하기 쉬운 언어로 변환하고 필요한 정보를 추출하는 과정"
   ]
  },
  {
   "cell_type": "markdown",
   "metadata": {},
   "source": [
    "### 1-2. 문서 파싱(parsing)\n",
    "\n",
    "- 앞서 저장한 html 문서를 다시 읽어들여 html 태그의 형태를 그대로 유지하면서 파싱하는 방법인 BeautifulSoup 클래스를 사용하여 읽는다.\n",
    "\n",
    "- 이를 사람이 식벽ㄹ하기 좋게 태그 단위로 출력하는 prettify 메소드를 활용한다."
   ]
  },
  {
   "cell_type": "code",
   "execution_count": 8,
   "metadata": {},
   "outputs": [
    {
     "name": "stdout",
     "output_type": "stream",
     "text": [
      "<html><head><title>웹크롤링 연습</title></head>\n",
      "<body>\n",
      "<p class=\"title\"><b><h1>HTML 연습</h1></b></p>\n",
      "<p class=\"link\">인터넷 링크를 작성하는 방법은\n",
      "<a class=\"naver\" href=\"https://sports.news.naver.com/wfootball/index\" id=\"link1\">네이버 스포츠 뉴스</a>와\n",
      "<a class=\"daum\" href=\"https://sports.daum.net/worldsoccer\" id=\"link2\">다음 스포츠 뉴스</a>처럼\n",
      "HTML 링크로 작성할 수 있습니다.\n",
      "</p>\n",
      "<p class=\"story\">그리고 HTML 문서는 글자의 크기도 조정 가능해서\n",
      "<h2>크게</h2>작성할 수도 있고, <h4>작게</h4> 작성할 수도 있습니다.\n",
      "</p>\n",
      "</body></html>\n",
      "\n",
      "<html>\n",
      " <head>\n",
      "  <title>\n",
      "   웹크롤링 연습\n",
      "  </title>\n",
      " </head>\n",
      " <body>\n",
      "  <p class=\"title\">\n",
      "   <b>\n",
      "    <h1>\n",
      "     HTML 연습\n",
      "    </h1>\n",
      "   </b>\n",
      "  </p>\n",
      "  <p class=\"link\">\n",
      "   인터넷 링크를 작성하는 방법은\n",
      "   <a class=\"naver\" href=\"https://sports.news.naver.com/wfootball/index\" id=\"link1\">\n",
      "    네이버 스포츠 뉴스\n",
      "   </a>\n",
      "   와\n",
      "   <a class=\"daum\" href=\"https://sports.daum.net/worldsoccer\" id=\"link2\">\n",
      "    다음 스포츠 뉴스\n",
      "   </a>\n",
      "   처럼\n",
      "HTML 링크로 작성할 수 있습니다.\n",
      "  </p>\n",
      "  <p class=\"story\">\n",
      "   그리고 HTML 문서는 글자의 크기도 조정 가능해서\n",
      "   <h2>\n",
      "    크게\n",
      "   </h2>\n",
      "   작성할 수도 있고,\n",
      "   <h4>\n",
      "    작게\n",
      "   </h4>\n",
      "   작성할 수도 있습니다.\n",
      "  </p>\n",
      " </body>\n",
      "</html>\n",
      "\n"
     ]
    }
   ],
   "source": [
    "# bs4 모듈에서 BeautifulSoup 클래스를 import 하고 bs라는 약칭으로 사용\n",
    "from bs4 import BeautifulSoup as bs\n",
    "\n",
    "# 이전에 생성한 HTML 파일('웹크롤링 연습.html)을 읽기 모드('r')로 열기\n",
    "with open('웹크롤링 연습.html', 'r',encoding='utf-8') as f:\n",
    "    # HTML파일의 내용을 읽어와서 변수 html_doc에 저장\n",
    "    html_doc = f.read()\n",
    "\n",
    "# BeautifuleSoup 객체 생성 - html_doc을 'html.parser'를 사용하여 파싱\n",
    "soup = bs(html_doc,'html.parser')\n",
    "\n",
    "# BeautifulSoup 객체 출력(HTML 구조를 그대로 출력)\n",
    "print(soup)\n",
    "\n",
    "# prettify() 메서드를 사용해 HTML 문서를 들여쓰기 및 정리하여 출력\n",
    "print(soup.prettify())"
   ]
  },
  {
   "cell_type": "markdown",
   "metadata": {},
   "source": [
    "- prettify()를 사용해 출력시키면 태그의 시작과 종료 위치, 상위 및 하위 태그의 종속 관계를 이해하기 쉬워진다.\n",
    "\n",
    "- 여기서 저장한 soup 객체는 html 태그가 그대로 살아있어서 이 태그들의 특성을 이용해 필요한 정보를 추출할 수 있다."
   ]
  },
  {
   "cell_type": "code",
   "execution_count": 9,
   "metadata": {},
   "outputs": [
    {
     "name": "stdout",
     "output_type": "stream",
     "text": [
      "HTML 연습\n",
      "인터넷 링크를 작성하는 방법은\n",
      "네이버 스포츠 뉴스와\n",
      "다음 스포츠 뉴스처럼\n",
      "HTML 링크로 작성할 수 있습니다.\n",
      "\n",
      "그리고 HTML 문서는 글자의 크기도 조정 가능해서\n",
      "크게작성할 수도 있고, 작게 작성할 수도 있습니다.\n",
      "\n",
      "HTML 연습\n",
      "인터넷 링크를 작성하는 방법은\n",
      "네이버 스포츠 뉴스와\n",
      "다음 스포츠 뉴스처럼\n",
      "HTML 링크로 작성할 수 있습니다.\n",
      "\n",
      "그리고 HTML 문서는 글자의 크기도 조정 가능해서\n",
      "크게작성할 수도 있고, 작게 작성할 수도 있습니다.\n",
      "\n"
     ]
    }
   ],
   "source": [
    "# soup 객체에서 모든 <p> 태그를 찾은 후 반복문을 통해 텍스트만 출력\n",
    "for p in soup.find_all('p'):\n",
    "    # 찾은 <p> 태그의 텍스트 내용을 출력\n",
    "    print(p.text)\n",
    "\n",
    "# soup 객체에서 CSS 선택자 'p'를 사용하여 <p> 태그를 찾은 후 텍스트 출력\n",
    "for p in soup.select('p'):\n",
    "    # 찾은 <p> 태그의 텍스트 내용을 출력\n",
    "    print(p.text)"
   ]
  },
  {
   "cell_type": "markdown",
   "metadata": {},
   "source": [
    "- 결과를 보면 soup 객체의 메소드인 title과 태그명들을 활용하여 필요한 부분만 정보를 추출할 수 있다.\n",
    "\n",
    "- find_all, select 함수를 이용하는 방법이 필요한 부분의 정보를 추출하는데 더 효율적이다.\n"
   ]
  },
  {
   "cell_type": "markdown",
   "metadata": {},
   "source": [
    "### 1-3. find 함수 활용\n",
    "\n",
    "- **find**함수는 태그, 속성과 속성값을 활용해서 HTML 문서의 텍스트를 추출할 수 있다.\n",
    "\n",
    "- **find_all**함수는 여러 개의 내용을 리스트 형태로 가져올 수 있으며, 특정 하나의 태그만을 추출하려면 find 함수를 사용한다.\n",
    "\n",
    "- 태그 내의 **class**혹은 **id** 등에 해당하는 속성과 속성값을 활용하여 해당 태그의 내용을 추출할 수 있다."
   ]
  },
  {
   "cell_type": "code",
   "execution_count": 18,
   "metadata": {},
   "outputs": [
    {
     "name": "stdout",
     "output_type": "stream",
     "text": [
      "모든 <p>태그 : [<p class=\"title\"><b><h1>HTML 연습</h1></b></p>, <p class=\"link\">인터넷 링크를 작성하는 방법은\n",
      "<a class=\"naver\" href=\"https://sports.news.naver.com/wfootball/index\" id=\"link1\">네이버 스포츠 뉴스</a>와\n",
      "<a class=\"daum\" href=\"https://sports.daum.net/worldsoccer\" id=\"link2\">다음 스포츠 뉴스</a>처럼\n",
      "HTML 링크로 작성할 수 있습니다.\n",
      "</p>, <p class=\"story\">그리고 HTML 문서는 글자의 크기도 조정 가능해서\n",
      "<h2>크게</h2>작성할 수도 있고, <h4>작게</h4> 작성할 수도 있습니다.\n",
      "</p>]\n",
      "첫번째 <p>태그 :  <p class=\"title\"><b><h1>HTML 연습</h1></b></p>\n",
      "None\n",
      "<a class=\"naver\" href=\"https://sports.news.naver.com/wfootball/index\" id=\"link1\">네이버 스포츠 뉴스</a>\n",
      "<a class=\"daum\" href=\"https://sports.daum.net/worldsoccer\" id=\"link2\">다음 스포츠 뉴스</a>\n"
     ]
    }
   ],
   "source": [
    "# soup 객체에서 모든 <p>태그를 찾아 리스트 형태로 출력\n",
    "print(\"모든 <p>태그 :\", soup.find_all('p'))\n",
    "\n",
    "# soup 객체에서  첫 번째 <p> 태그를 찾아 출력\n",
    "print(\"첫번째 <p>태그 : \", soup.find('p'))\n",
    "\n",
    "# soup 객체에서 속성이 'class'이고 값이 'python'인 요소를 찾아 출력\n",
    "print(soup.find(attrs={'class':'python'}))\n",
    "\n",
    "# soup 객체에서 태그가 'a'이고, 속성 'id'가 'link1'인 요소를 찾아 출력\n",
    "print(soup.find('a',{'id':'link1'}))\n",
    "\n",
    "# soup 객체에서 속성이 'id'이고 값이 'link2'인 요소를 찾아 출력\n",
    "print(soup.find(attrs={'id':'link2'}))"
   ]
  },
  {
   "cell_type": "markdown",
   "metadata": {},
   "source": [
    "- 기본적으로 태그 명을 사용하고, 여기에 클래스나 아이디 등의 속성과 그에 해당하는 속성 값을 넣어 해당 태그의 텍스트를 추출할 수 있다.\n",
    "\n",
    "- 실제 값을 추출할 경우, find_all은 여러 개의 결과를 반환하므로, 각 결과를 처리하기 위해 for문을 사용한다.\n",
    "\n",
    "- find의 경우는 단일값을 가지고 있기 때문에 속성값을 추출할 때는 get 함수를 이용하고, 태그에 둘러싸여 있는 텍스트를 추출하고자 할 때는 text 메소드를 활용하면 된다."
   ]
  },
  {
   "cell_type": "code",
   "execution_count": 20,
   "metadata": {},
   "outputs": [
    {
     "name": "stdout",
     "output_type": "stream",
     "text": [
      "HTML 연습\n",
      "['title']\n"
     ]
    }
   ],
   "source": [
    "# 첫 번째 <p> 태그 내부에서 <h1>태그를 찾아 텍스트 출력\n",
    "print(soup.find('p').find('h1').text)\n",
    "\n",
    "# 첫 번째 <p> 태그의 'class' 속성 값을 가져와 출력\n",
    "print(soup.find_all('p')[0].get('class'))"
   ]
  },
  {
   "cell_type": "markdown",
   "metadata": {},
   "source": [
    "### 1-4. CSS선택자(Selector)이용 : select 함수\n",
    "\n",
    "- CSS(Cascading Style Sheets)에서 선택자는 디자인 스타일을 적용하고자 하는 HTML요소를 선택할 때 사용된다.\n",
    "\n",
    "- 다양한 종류가 있으며 여러 개의 선택자를 통해서 하나의 태그를 공통으로 제어할 수 있다.\n",
    "\n",
    "- 태그 선택자, 클래스 선태갖, 아이디 선택자가 있다.\n",
    "\n",
    "- 우선 적용 순위로는 조금 더 구체적인 선택자가 우선순위로 적용된다.\n",
    "\n",
    "- find_all 함수와 같은 기능으로는 select 함수(여러 개의 시리즈)\n",
    "\n",
    "- find 함수와 같은 기능으로는 select_one 함수(하나의 태그)"
   ]
  },
  {
   "cell_type": "code",
   "execution_count": 27,
   "metadata": {},
   "outputs": [
    {
     "name": "stdout",
     "output_type": "stream",
     "text": [
      "[<p class=\"title\"><b><h1>HTML 연습</h1></b></p>, <p class=\"link\">인터넷 링크를 작성하는 방법은\n",
      "<a class=\"naver\" href=\"https://sports.news.naver.com/wfootball/index\" id=\"link1\">네이버 스포츠 뉴스</a>와\n",
      "<a class=\"daum\" href=\"https://sports.daum.net/worldsoccer\" id=\"link2\">다음 스포츠 뉴스</a>처럼\n",
      "HTML 링크로 작성할 수 있습니다.\n",
      "</p>, <p class=\"story\">그리고 HTML 문서는 글자의 크기도 조정 가능해서\n",
      "<h2>크게</h2>작성할 수도 있고, <h4>작게</h4> 작성할 수도 있습니다.\n",
      "</p>]\n",
      "첫 번째 CSS 선택자 :  <p class=\"title\"><b><h1>HTML 연습</h1></b></p>\n",
      "클래스 이름이 title 요소 :  <p class=\"title\"><b><h1>HTML 연습</h1></b></p>\n",
      "클래스 이름이 python인 요소 :  None\n",
      "<a class=\"naver\" href=\"https://sports.news.naver.com/wfootball/index\" id=\"link1\">네이버 스포츠 뉴스</a>\n",
      "<a class=\"daum\" href=\"https://sports.daum.net/worldsoccer\" id=\"link2\">다음 스포츠 뉴스</a>\n"
     ]
    }
   ],
   "source": [
    "# CSS 선택자 'p'를 사용하여 모든 <p> 태그를 리스트 형태로 출력\n",
    "print(soup.select('p'))\n",
    "\n",
    "# CSS 선택자 'p'를 사용하여 첫 번째 <p>태그를 찾아 출력\n",
    "print(\"첫 번째 CSS 선택자 : \",soup.select_one('p'))\n",
    "\n",
    "# 클래스 이름이 'title'인 요소를 찾아 출력 (CSS 선택자 사용)\n",
    "print(\"클래스 이름이 title 요소 : \",soup.select_one('.title'))\n",
    "\n",
    "# 클래스 이름이 'python'인 요소를 찾아 출력\n",
    "print(\"클래스 이름이 python인 요소 : \",soup.select_one('.python'))\n",
    "\n",
    "# 태그 'a'와 id='link1' 속성을 가진 요소를 찾아 출력(CSS 선택자 사용)\n",
    "print(soup.select_one('a#link1'))\n",
    "\n",
    "# id='link2' 속성을 가진 요소를 찾아 출력\n",
    "print(soup.select_one('#link2'))"
   ]
  },
  {
   "cell_type": "markdown",
   "metadata": {},
   "source": [
    "- find 함수와 다른 문법상 'class','id'태그를 '.'과 '#'으로 대체하여 사용하며, 기능은 동일하다."
   ]
  },
  {
   "cell_type": "markdown",
   "metadata": {},
   "source": [
    "![image.png](data:image/png;base64,iVBORw0KGgoAAAANSUhEUgAAAowAAAKJCAYAAAAx/nhlAAAAAXNSR0IArs4c6QAAAARnQU1BAACxjwv8YQUAAAAJcEhZcwAADsMAAA7DAcdvqGQAANG/SURBVHhe7P0NcFXXeucNPtjdTai4iNt+aYXiQyjVIgHeaeUlzckVFUNnrDaonCtGQ+RLVdRmptXQkOaKa+tqqDElesZq3ENzhS+6ysUNUWagdWcwCq2Scl0Ct6gEnELOocNc9TtAgqojhOF11Cq7HModx9Wx76xn7bXPWXuftb/O2eecfc75/6iFzt5nn/259rP+63metfeSnwoIAAAAAAAAD55SfwEAAAAAADACwQgAAAAAAHyBYAQAAAAAAL5AMAIAAAAAAF8gGD1YuNhJy5cvp+Un0jxFo3vFZzF9ctr6PqmkT1j72XlxQc0JS5pO8vEu76TRx+7jj4npk9Y6l58UW7O3V+A5fTxKnZl1Jpgi72fo6/XJn9P7/6+jdGhXC21R51+Wf9xC3/zto3ThP/05/dXfqmULJP+6CAAAIGnUrGC0G7PckmDhkREdlqiLQkZQGEo8IjgrqnNL/ue0KMI1LjLXw6PsHRVnJS6cgj4f/kYI9m/+2hb6ze4f0IU/TNOfq/mS+2m6PvIDOrR7C/3j/4O4Xv9dzdfxEr2VItoBAADkDTyMcZDxnIUosYoIEEzWkxlYkihKY2OB/uD/2U/XhdhMHR6hW7P/jZ48eZItn/43mv3PI/TtZrHkjX7695PlqqURrpddqvq6AQBAMsgVjJrXxOx50jxJtqEOKZjs0JTTu/cC/eD/K2cbmKEfbNeW1RqGrMesMK9G29lZZ8P5pJdS6ruqpH2YZh3H+4R6hUiIk76rat33hqlNzatu+mhKP6dX+9T8yuJnfuZn1Kcg+qklc/+KsqGLJtQ3AAAAqpMEeBhn6NKNGfXZyd/84SUa9BSTCaK5NysWvEocIuK//SXNyw/z9JefyA85YdGW42q+F2Nd1KgtXzsezzYavme4Lno5Us1dhTr65v+5j7avEh220520pfEfZOsAl+f+Aa35n3+TfiA6iXXb+uhfttap30XBKSQD66KRFPWaro1fqerrBgAAySAewegSTFNH1XyXN2tkj6sR+mab9EDNvHOJrv+NNSvL39CfvP8DIWbEMu1qVk3zVzTxHwaFvGZmaPD/c12coWIwQV0bllPj/jh9RkpI7OhX0+H5y08siUz/dV4JW1euZK14t/7qL9Xx/wk9+N/kh8j8jLhP/+C9IX+v77/8ffrPP+6l1M+qaSMuj2pRPMneA80wmAYAAEpPeT2M/+hX6Vf/F/H38SV6f9olfz55n0Z/R/z99SZqet6aVQwm9jdmxUeCG6H5i69Tz+/yvtVR3SrRnP7Ov6B/dVGIqVUdNKI13hmx7oU7JH2+Q6wxqSzQ/bTyPn/wE/qz4ijkGHCFaPMQxoHc/XMalx8WaOa/FlBHly5TH5we19mzSvL9T8/Sz1mf8sApJAPrYp58oUZx//zPhg2hAwAAKJQyh6T/EW37PzaJvwv0gz94n/7KmilZ+E+X6IL4+1J7itbZ4ddycLxFiIBG6hpT0yXnryj9O79JLfs5dFxHHWen6D//Xh+l2AOzv4V+c+A6LcT0GBQLS0hkBEQsKCERNSx/f5zetc+76FT8wX/iGiLOwfmsKAnv3bI8p3rnILckdZTv39D1ibPiiltMjI07RzjryPpqHY/lmXMNIsl4ZJ3nI+NR1n4vi3FASSlyGOuofqP16c8e6wJ5gf7bfetT3f+Uv7QFAAAQDV/B2L9DaxQyJU7xtIyaWv8ZbeePv/s+Xc8Iw3m6OsZN0EvUtu2XrFlFwj3oJSdsXk7+6jr1v/iPqeX/+r5oJlO0/0dTNLynnn6uuZd+NN5L21ct0Pv/929S4ze+S++HFdXuHEYuicxjFIL4eyfpffGpqTkl5MMCnR06S+kkeRld3t2cEpf39r+co/7fyXqXafIk/bvfT94ViwUtJ9fOgRz953oUIGt/MvYJTx4AAICiU/5BL+t3UEcrf7hAl/6TMvv/ZYLOTYq/na/Srl+wZpWNo1Oi8Z+l4XLkUf7cdur9QS+9+k+/TcMf/pi+98169YWQDr/eR38w9Qd0vP0l6vvBv6GXihi2LwfzF9+gNzg9YNW36d9c+h3q5Toy3U9vnE5HzN2MMogivhHyseXZ/fc0new9Kj2fqX/9I5r6d/uleB7te4NGH1qLOJD11Toea/R7HoNI9KIPKAkSyK7zlzpizU9UJwwAAEBe+ArGzONRHCVu8VRPO9qtoOLE2FU5CnjmDy/JwR2v/tPtBeRTJYuFx39mfdhYH8nr9DMb99PQ5ePUsdGQr7VqO337/O8LYRCcy1W3Z8RwLVWRnjBbWIxQxypt+TxGoGY8P3mFKv+G/vx3u1QIPkV9v9dH23/uF2n/yWG5X+njLfQbvRM0H2sYvgRkxFYEUfpX1+nkt36L+jm03HycBnpSVP/Nf0M/OirW8HiUunb8Jv3glp7IEYK/XaD0xZP03b3fpBf0kPSvfZO++dv9NHornMAN80D1vESzJkozaRGaCH7yZIqsxAYtBzPRebgAAFAdlN/DKKj7p6/Qq/xhcpSu3k3T+++wXNxPL/3viy8X3YNeuMTz5hMXf/ul+pA/cb31xO+tLzmlwG1FY4He7/2ntOV1Fou/SK/+3nBWDK/toN/5fx+nl1g0/vtOanl9wpHzWk5Mbw2yw6n51q+/uXuWfvMb36T+G0JsNffR1H/8NnG2r+hCUOrIMA13/qIQje/T0Rc76Qf/JaTP9eEoHfpGoxDj/XR27DrNaG+MWfgv1+n6yEnqerGRtvz2qHp8EwAAAGCRCMFIz2+nl/4Ff7hON373Ek1wQ/avvkkvlcm96Eyyj4f5ecvX1lafDSsXg/KFAV2DURwlrFetjl76v/0ufa/zJeod/zEN/abzXP3M//Jt+v33Rujbv9lHP/q3bb7e50iiOKfk//q9uGDP8u/88Nv0UucQ3fqP7sfc1FPHD39Mf9DzkhDVQ/TtfxRmtPBf0cT3u+jCfXGWW/voD/5/H9F/+1S7Rh9/RP/rj/ukIP/zkS76wR+ElOPuQTJaye85jAAAAJJIMgSjaPpf+ua35aeJ3z1LM0I4fPulX6ViPjTDFlamMvybIcVWhFcCmjxORfFkhsA3PK1KvKOkI/Czv0j7f/j71PfrHtfgF9ro+O+5BVR5cdalj2jq376khUhT9O3LzoFVYd+sU/frx+n3f/gq/aLxWOto+7/+/RxR7c3f0JdqYNSr/6qXtq/9OfqZv2NNS37256h+Wy99u9Oa/Mv/XvrRRW6Rbx653ULWQ4vco97LL/IBAKCaSYhg5IcKv0Tf5hGgzKr9tOvXw8pF1yM+ZEnq41FAqQgjir2LlccZmr/5K/qrhzM08e+/S7/5j9dYo9rXv0rHT+4XcjFNP9jdSFt2f5dOXrxOf77wV/Q3Zcm//BlaqgZGXfh3/TRxf8G5H/99gf78D/rpeyM8UUc//3Mh7z9HfqGzFOs5jAAAAEpPYgQj/cx22vV/svwyTQdeCj8woJyEeSWgT8n7Hc4+YcBMwaNGSsLf/OFRavwHa2jN//wCdfaepffv19H2fzVMt64N0bf/5ffoxx8O07f/6S/Sn/+ns9S//5u0pXEN/YP/3XdpouTPFv05avvOML26nmjhxknq/MeN9A+e0+rLSiFqf+skXX9M9Iudb9G3W0Pmg8QYki6pyAcAABCJXMGojVI0CxotV81jBG0mROcxejHzvev3qSNW6O6Dw1Z6v4V5e/6NS4SRqAAUwM/8+v+FBv5FHf3iljba/6+Haere/0p/8G876BeV3vqZjR10/PIt+ug//z4NHX6Vtv+jX6SO/l5qK8djkNZ20NCHszR1to/2t2+nJk1g1f2j7dT2L/po+Nos3fphBxU30xYAAEClseSnAvUZAAAAAACAHJITkgYAAAAAAIkEghEAAAAAAPgCwQgAAAAAAHyBYAQAAAAAAL5AMAIAAAAAAF8gGAEAAAAAgC8QjAAAAAAAwBcIRgAAAAAA4AsEIwAAAAAA8AWCEQAAAAAA+ALBCAAAAAAAfIFgBAAAAAAAviz5qUB9zvD555/T48eP6bPPPqP/8T/+h5oLAAAAAAAqnb/7d/8uPfvss7Rq1Sp65pln1Fx/cgTjwsIC/df/+l/p7//9v08/+7M/S3/n7/wd9Q1IGn/xF39Bv/ALv6CmAEgOqJsA5A/uH1Bs/vZv/5b++q//mj755BP6h//wH1JdXZ36xhtHSJo9iywWV65cST/3cz8HsQgAAAAAUGWwvlu+fLn0MM7Ozkr9F4RDMHIYmj2LS5cuVXMAAAAAAEA18vf+3t+Tuo/1XxAOwcg5ixyGBgAAAAAA1Q/rPtZ/QTgEIw9wQRgaAAAAAKA2YC9jmAHOeKwOAAAAAADwBYIRAAAAAAD4AsEIAAAAAAB8gWAEAAAAAAC+FE0wLo530y/9Ujf9+C9/Qu/80i9R9/ii+iaY7G/VjLJg7fcv/fAnatomd/5PfiimeV6mWPsu53/nx7T4lz+mbjE/yjkAAAAAAEgKBQvGXLH0S/TOn6ovA4gmDJVQ8yo5wq7E7PweffBnf0Z/Jssg/cbPq/kAAAAAABVOPB5GWyz96DtqRvF46cQHSpS5ym//sloimKJ4MK98l16wxSt7FdVsOf+ffJfeV5MAAAAAAJVGDeYwLtKf/KGQb93/3NcLuDj+e/R9/nD/kRR/lshkQbjHmu9G9zB+/zdohZot5//R9+glNQkAAAAAUGkURTB+/7d+iV44EuxTe/yYl3mfHvEbaVSeH4uyML/Nmz+9TN+9QvSdX/XxSIp96bf34cp36fKfEq3YNai8mRep+H5UAAAAAIDkUBTB+J0f/Rl9cCLApyZE2e8NWh+//yc/Ifr536BB5aEL/G3eLNKP/8P3pddv96+oWW7+9B36JRlCfom+90fWvrAADszL1EPSomCACwAAAACqhTKFpIVw+39Youw73UIcDv5e6HzC94+8kBFljqLnDXphexf/mRYydqAEJX2HLqqBK9Kz+KPvSNHoJQJ/+bdVKForg7vMWwAAAAAAqDTKIBh5tPMLlnD70SAd+O1Butj9Pn33nwQNQvllOuASZY6i5w168JM/CfAuijX8xvd5fQfE1jR+5YDcRlQRKIUk75fynkJEAgAAAKASiUcw2uHY3zIOB3FgDybhsPUBJdxYWH1wgkKIxgJQIfCXfv1XA4WlhEPT4pjCPiKIMT1iSC8IUwMAAACgEilYMJrCsbYQNGEPHnEvY803Pb9wkX78HbMAMxUvUfaT/8gh8O/QPy/Yy6c8nYbH+JjOhSwYJQ0AAACACqZMOYxRsMPE4Yox7Gt7F0/sdoaaAQAAAABAIBUgGAtn8U/ez9u7yINdTJ7MUINsAAAAAACqgCU/FajP9Md//Mf0C7/wC2qqWuBBNnvo+90XI70NphL4i7/4iyq8XqAaQN0EIH9w/4BSw3Xu137t19SUmRrwMHrnHAIAAAAAgGBqIiQNAAAAAADyB4IRAAAAAAD4AsEIAAAAAAB8gWAEAAAAAAC+QDACAAAAAABfIBgBAAAAAIAvEIwAAAAAAMCXIgtG9R7oH/5ETYNk4HVd1Hz9LTZ/+WPqNr3pJvNbfjC6Pg1AvCyOd4s69w79RNXFd/5UfeGJVSf5vfI/+SHXV/Fb9Q0AtYHBlruw7itlzzOlm378l2qBP31HzvO/35T9d5fMdqO2D8XUDHG0VR7Hmym6rVHHYlpO7kMxj7U4FCgY/U4ejHQ18Z0f2e/r/oC+t1PMGNyjrvMe+r61CAAFotuTYPthbvDysDuqYfQuWiNqE/CbYFELQLw474cX6LtXxMwr36UXtHrJnSibFbsGlU23ygcnXlLfREG9GMMuP/qOnPsSva+2m9s+WJ04Q4kinNyODBaoOfdkETUIvzlOP+5MOSDOiM0K+o3vq/nqvGTa0Qp9kUiBglGrLO4T4jhxIFk8pkdsTO4/snqBmRtNGZkwZG6Yi2RdeQAK4yc/FI3Lzu/RB6JefXDiLu0JeF97psGTtucl+t4f5Wl3fuWAqsu5xb8RtbeZWw78iloEgBKRFYBum/wduqjq5eCuFWqeD3+i2oPfiuoKWKQf/wf+zXfon3/fa1+Eavjt7H1iFeWEyIOM3vj+bwh5xuj3ZHI0yOKju/Lv3Ud+Fi35IIexBpENM38Qvc/L7AnJNJj537gAFMZP6MNBYe5//Vel4V/xqy/RS8o78sKR961FAABmHB6336PVjo7MN+jDzHdZb7nbQ5+5z35VtQfKCRSWn/zQcjh850cHiDJexDARKOXAKBWZ6Ji7GCIJXkRZx5++kzm37//hn+R2gtW6dO9vUolNMFaLgq52OBywRzTMsmcmDML3fyvP8BlC0iBO/vIRsQXZuNrpAXnpxAeBoTLL9rxPjx7bOUNR6qRPnpEoEKugIvj536DBjEAcpN/4eTVfooeN3d9lvY+Z7x9H9TBaqSR7Bi3vHnvXs17E8BGol1atUp+KhSt8nlPc58aEvg7lYFFREdM6pCiX51Gcmx99z+oEuyMnKloXyvtbZmISjIv0J38YrKArKbmzGrHEYvamlp7FP/oe3RWiMah3w8LSakRV2BohaZAIsrbn7iNSOUNR6qSWZ2Qo+eV1AVBaPPMCTSWoHbYjTiE8jJaXcg/dFR07s+BSAisnZ88SmZ7tTgI1Q+45NueJysL7/Zc/pn7ucEpBKc7Nr7CoFyKTePkI3swEEYtgXBzvt1zR3aKC2WFOHVtcVGiiZ7Vg9fpcN7XqmVq9G9V4ZvJBBI6eq1ZwLUGc/Pxq2ij+uCMU7x95wd/L96eXpe15aedLYtnLhSe5y3xetzHfSKuNnof36bv/xNVQqFIJ4SVQPXjmBTq8X6o4bPf3aU8BddfOmxxcfdmxjpwSVfiF1AxZR4a4Z0WH0XlPZge9xCGoc8+xT+H9tttOvT3NdFC5HVafK6gtXfJTgfpMf/zHf0y/8Au/oKbCwT0MadD5AosDt6c55HngVzjcI1T4eus7EC9/8Rd/Efl6STjf5Z98V9xaHrCRcVRyG3U9Xfkm1rVWEwAI8qmb0gN+36p7j7XPJG3KRrr4R6vp90S93WjXNxZ3HO6RtofoHRmK5hAb52xZXo9//vgF2jPI80ImwMt13qXv/ZHVsbK88hF+D0AM5Gfb2Wvnl45Rjnqs9knpgyzWfL5HnaHY/DSDpTsoc98WG8suqAmbnGNU2HbKC6/flRiuc7/2a7+mpswU5mFULlfOM7IPWPY4ZG5cZbpcawIvr6HvoBe+wcWNTKIR13+j8iDhUQGF8su/fZG+o8I7UqQZOy02omHhEZncuZG255fpwB99j14SzeWHMT7SxvIqQCyCSsA7R887tcI/h5dLqBx36Zk3/T5JOe4BYfBQWOfL6kTq51jYLg6jm57s4PkUhsobZFqYYHSEMzXkCSqN0gd54H6GVabkeg8z/OmH8sb/zj9zNeK/sltWemPuKgCR0Bu8IJHmnT4RxdudE6qSngCPULPKSzLfO6aCTjMoJZYgMtVF77QOnxzeiKOkmexj9VxFOZSy95slJDnlxLGvP/wTuZwvBnFqHZ/pvo37WYxqRHf3N1z26ZfpG93iz5VHYonqJbZR0qDykJ5h081t8uz8yjfkQILv/wdXD8rOIVOPQwGgksg7LylUQacZlB5Pu54AT3ng/fbbv6qW9MHTY2cqcR/zKlrNXsHBD11C1HosGO1cLZaoXiAYa5ic3l2mmDwj7P2xR3hpy/7W92WvshIeCQAAANWOt10v/huIsoNQ3KWIb12JSLR2z43lkb3Y7R4spPI0fdNoKp+CB72A8pH3oBcAigzqJgD5g/sHlJriD3oBAAAAAABVDwQjAAAAAADwBYIRAAAAAAD4AsEIAAAAAAB8gWAEAAAAAAC+QDACAAAAAABfIBgBAAAAAIAvOc9hBAAAAAAAtUXQcxgdgvH+/fu0fv16NQWSDq4XSCqomwDkD+4fUGrC1DmEpAEAAAAAgC8QjAAAAAAAwBcIRgAAAAAA4AsEIwAAAAAA8AWCEQAAAAAA+ALBCAAAAAAAfIFgBAAAAAAAvhT8HMYvv/ySvvjiC/r6669JW1XFsmTJEnrqqado2bJltHTpUjU3meBZXSCpwJZUPpVkC6uNpNw/qAO1Q9Gfw8gV9PPPP6evvvqqagw8HwcfDx8XHx8gSp9YTsuXu8qJtPrW+v7ktJrwJU0n947Sgvg3ureTRh+r2QaM21x+Uqwh+71pm+H3JT8WLnZGXL84Zm2/I/F4lDrl+YrruHhfTOdVFe2alppqtCWVDmxh5VCs+6fgOjB9UtmVYJsfHW97ZttKL3vN8zsvsmW14f2z7HThttZu56qPggQj92aqmWo8Pr5RTDeYXpw3ElHqyBN68iRbZs+2Ud+2lPrWjC743OsLS99VfbtT1KfmFxvHOQq88U1GK6JhZKPqWkeYc6af49xiEqkp6tWuo6PcG6Y2tVQ5qHZbUung+iSbUlwfv22Y2pVA0cUdYtdv9BJsAzV7drWP2s7OZuxZb7NapBgY7DWXKCIzV7CaCOjgl0GUFiQY2fVdzVTj8dXtGcmKBFGmjpLjRuMysqdOLW0iTRf2N9F2vxtS3FAtNKXWN0VN+3ti7lkWEbHvjeL4ptS5mG0dp0Zfz5tbhM3ScLv6KgpH7fNlFf9rYOEW8tniJa59DNCGLppQS5WDarcllQ6uT7IpxfUJ2oa7HQkUbas6aERbXi/slIjCwvwMTczPW5818dq4X7dq7EXMzp/Y32gtF1V4NfcWuL8LdGNSbF/trz99mbYop5zvoOBWIl4KEoyxuL5vDVFDQ4MoB2niYzUvX3hdg7fVRC63Bxto6JaaELin3VR9aIyF3V1R0cWNE7Z3lD7RQjNnX6V67aZsOa6+VKRvzNBwp+2BTNGrZ4nGP4i/L9S/g7ef682z5ptKcGg4faOf+q72ir22qNszQMN3WzLrcBqgSsTHAB3x9xoXk4q+18powxied3BsUU0Fszh2MGcbPM9vHVVvCyucUlyf5NYBdmIIu3x8ULYFulPEKeTqqON8dn5G4JZYeC1c7KGujcOyXQn2MvZTi6MNy5bCwub5Uf5R0lsO0dxcmk6/rKaLhTDEu+kyHdqipgWbu9O09nwMRr4CkeHMd9bR7PkR0cubpXXviOmAnhb33NhzyN4v/aZkL2WWBZq/qz5qWL25FlH948MKWY9Qxyo1Q+DtdeOSFYJmeN/baN1aNSmpo/qNbTR8z1pH1J5vaI5nRWnkkHYkvA1QGEENDJTRhsXFivYztO+jlG8HGgA/Mh67EtsSy4khxN/VJup6owRhWkNIOpwjwYrwNM53i855hxSv3fN8zvzOlXcHv6hhdw+KIBgXaeIQ97atkjVA+vwwIs1n+Y8n6KBaf8OhCbGkWvaVAaK3dxt+c5uGXiG63L1ZTdusoLa9m+jwqHePvrrIhiSvbxOVLtOzUj2vt4h65PfuCmz9rocG8vZCWb25aHmITk9hvGIzNnLycBqpa0zMf2jPD7nfjpC0JoLHuqhRrMftxc0PnxxGWYIEdakR9619n+v3s37/NwyJpRi2AdoyGU8dzx+iCfaqOZb3Q7c9hdgw8YvMdl1ewNhsmAnn/vt5LHU2d5ymO+d5X0BV4fBae9UNa34hHQZnSFqzJbIzrOxizLDjo+XuMA1wCk9zL01tFPYyRIh5ft4OCdttYsT9c6UQcfEWcPY2rtN2XlZrQy0Hx3a6Lr9Pfoc9dsG4OHaMJl9Mix73nCx2b5jnP9xrzZu72UqTx/0Nk/fywnBunaTWm+q7oTYh+4TwGxKfL/UQvXZZbfsMta2UPxA3zE0aeG0rGU3tlm/R6fvnQhn/yicrGOzK7Ui+zeSUaDe77E0N0rp74fLqLI+c+qjRVB/N6W/2FGb3i7/Xb1D/ASCu4pmTyPs+QQ8eqkkJex0nqGuD9VtjT7J9mGYd+ykEX7N9LgscrKPW7fTiRiWbuxOmhBlwUwpuD+4muqTu88z9LBq249n7P33qDu0OFEQDdPijfaGXj8uGsSg8prbLHsjWa8eUnYnXhm3unqMz7SvUFKPWpbbrtm/sTZwzCc+VbbRv/WF6F17GqoHTFRqmt2rX26tu8HyOuEVLbwiFFFd55nb7IVOqhH3UQsrcLrBo7PG1YWm6zh3w49fFJ7tNLML+ZbC34dUh9/s+WRGh2AXjim+0Er2ecvVqF2n62hUaeEX1arYepivqGzM+y0vDuS9rSEOw+OgO9TR79cxX0Or1V+jhIzUJnMgEX2fYN4j6eqKuEbsqhxgkYyTrDfUqeg6HfyjaVXy8pKltfdS/I3sjWvkm2d5k0ULScdO+jsRlUGRzd8KUcB2D4rO5uUfaAKdnbpqE1KJmdf+vaN9HPfcf+Qs32kmnO6z7n+3TzoDl47Fh4hcfTtKVjLcwRYffU1/EbsNyyXo2te2GYM2anXTnUcyCAZQBy2N4bo3o+Lg6B951wxKTnJoQ1itdTAKdDNw2GfIPuS3ws2Ecwu4XInb27Ay1lPFRYsEkLyIUf0ha9FLPcO+l+aaslFljL4y23aPmInvVfkRd3h9/I7iT1q5WH4EZ7ZmAQXB+4xTZOXktRNogkvA4bxYp1FyePFMIgD2NBSUDCyMkDYkSpY2Tu2i2FINBHDmMohTyyITH8zSjPjoJEOFJM54yN3CO3qRj0pbEll+3frW/LYnNholfnMp6Kh0ewzwILeTYs/n6Jrostxk9t3LT6kIsLUgEt941dxRC1A3uNNDb0aNuzhzGwuwJh4xDE6Ftknn4x/toSth0e0BjXhEVt71WJSnRmWJRvEEvbOwv9dCVjz4SE5YXb/LDsD1Xn+W3bKUer8q8eq3Re7Bi9Sa1HyYW6dH9TbS6AENeKZjCto7HC+glws3uDg8zusfPO7cjJMIg9AjhNtU6HhBqiAfHo4fCjKBTeYbucxhauBoe0+C7XUPStaPwI3Iy+6SHLXx6rGV+DqMfHEJNn1Ker5WradN7kzSt7v/FsXM0IAWgHingfL8B+b2b26OHuUVUUwLO7/ISowXZMGV3rk3nejNjt2EGXl5L8ijZIxvBw8ibQOe5ClCdLaO30LNuWF7JY6KLFrVz435cmyyeHe3gFBnO2bZz2AsRYbxf2faHo11Ew/dsB0Yddbw1TLT/gmYjQ2Cy16qYPJvR06WSm0JUhBzGbJJ3g5akvbn7Mm3iMI/9narE1vLsGr9Ch7eK+TIB3Ht58Q0durTJWpbnq+UlK5uplQ5TSv5GSxiXBvqmOdmdb5r1HvmNVUZcYdtSIp+pteEBdQsBlRI3/wD1iJskQcnBPs8SK1goe+FjsHKL7t318TCW+TmMJmT+lbr/U9da6U2Zpyfuf84fVPc/z0/bNkaFsBsaztHaUz1ynoWyLWJ5HmXszPfLJS4bxo325fW2PeJiD7iJ2Ya50dchGt7W19T8QG7TzfvZcD+ofDi/VXrK7fbTs26wWEzJHN2g+6NwypUiwx1mV3qVtN/FDe1Gb3eTm0JU0LukP/nkE/Up+bBRT3ECuiOfg2+SY0RHvXtTzz//vPqUPEr6Lml2+/uJCk5sDhSZQrDsnadXz2+jG3tFg/6Wd24kC0X2fvLIu9wbgoVPC/VziNrliZOj5jxHFPMjCgozDrxfF+r1XmsQvK88Oi6P7fI5f4NoQBzjvDguHtlemAi1z38Ir2mBJMeWBN/jlYLZhsUHC/SbzdlBPm6SbAurjaS2xZHrAEdDbmwXbUM9jQbY/LyJpW1ir94Fqj/fS1SwrS2dnY2TMHWuIMH46aefVtQDXd0GMchA8ovXn3vuOTWVPEoqGEEVoIS2msqlcEFtkxxbUj2CkQmyWfnCYpRDkV7epaTbwmojiW0x6kB1U3TB+Nlnn8kXk1crTz/9ND377LNqKnlAMIKkAltSXSTdFlYbSbx/UAeqmzB1rqAcxmXLlqlP1Um1Hx8ASQH3WrLB9Uk2pbg+qAOgIMG4dOlSeuaZZ2TPg93V1QAfBx8PHxcfHwCg+FSjLal0YAsrh2LdP6gDQKegkDQoL7heIKmgbgKQP7h/QKkpekgaAAAAAABUPxCMAAAAAADAFwhGAAAAAADgCwQjAAAAAADwBYIRAAAAAAD4AsEINPiVRqMU9VXm/Dq+k9NqQkO+BzrnvcWdNPpYLQAAAACAigCCsabg92W6BZwofiKR3wXqXl6Wk0JeeiPfBT3fbXhZejc92ADRCAAA8cGv/XTZZLbdJ+w5hu81jJ1+x+8BgGCsMeqo47xLwN0bpraN9d4vSW/uzSw7dZSo76r923jeOQwAAKDUOJ0HLceJ+ndkpzsvRo0zgVoAgrHGWfhgnJq25SH9Ho9Sp2Zs3NTtGaHZ+sGMAcqWQVp3b4Q6VqkFAQAAlBiD80ArI3s8XQighoFgrGnSdGF/E21vVpO+LND8XaKZedXzXNVBI8q4sOfRBItGaYDYi9k+TLNyeYhFAACIn35q0TvnO/rVfG9y88yRLgS8gWCsYdInWoiuukLLY13UKA2HK9/l8Q0apzai/Rc882AkppzHDV00kVmvXvzzIAEAAISlj6ZUJ16Wq31qvo0SlHbO+uNR6pncpTrydummB29EH/gIagMIxhqFe5YtNEW9bu9ixhPoFJLpkS5qOjBCA2dnaJDzW7xC0lrOY3BBHiQAAJQGJSjPd1g566s6aKB13NWRH6R1b6nvmeMtcj5yGgEDwVhzWMnOPTRAT46Ek2u6uKzbM0C7Jhup84NtviFp8yN17IKwBwAAxEv0kLSdNpQd0OhKGTo6Jb9HTiNgIBhrCekV7CF6K7wB4MctNHLYIiMuOVl6VopG07MXddrOzkpj4yyzNNyuFgAAABADKerNsbWieDoF+DE7WXHpHiXt+6g1ULNAMNYScqBKtEEnqSPC6NghjAzWCLuccDYAAICywZGdcOFjD4FplxybDwAEIyg7Vk8XOTIAAFAsWCAacsY56uTlTeR89JBpS6A2gGAERWNif2M2xJEpjdQ1phaQWD1d5MgAAAAAyQWCEWgI8ZZHKILD1u7wdOYZjMaCZzECAEAxMHfUrWLMOzc+8kwV5DICjSU/FajPdP/+fVq/fr2aAkkH1wskFdRNAPIH9w8oNWHqHDyMAAAAAADAFwhGAAAAAADgCwQjAAAAAADwBYIRAAAAAAD4AsEIAAAAAAB8gWAEAAAAAAC+QDACAAAAAABfcp7DCAAAAAAAaoug5zDiwd0VDK4XSCqomwDkD+4fUGrC1DmEpAEAAAAAgC8QjAAAAAAAwBcIRgAAAAAA4AsEIwAAAAAA8AWCEQAAAAAA+ALBCAAAAAAAfIFgBAAAAAAAvhT8HMYvv/ySvvjiC/r6669JWxXwYMmSJfTUU0/RsmXLaOnSpWpufuBZXSCpwJaAMMRpD6uJWrLtxbrvUbeiUfTnMPKF/vzzz+mrr76CgQ8Jnyc+X3ze+PxVAukTy2n5clc5kVbfWt+fnFYTvqTp5N5RWhD/Rvd20uhjNduAcZvLT4o1ZL83bTP8vgQwfdJxjDYLFzuD1y9+23lxQU1Y6PvF63B/b0acL3XMeR/X41HqlOc8xnNTBGBLapNKtIeJJxG2S/udx/4wxbzvC61bmf3XbGhc5J5HZ5vof57N7WeUa5MvBQlG7hWA/CnH+eNKlSvEnMVd6VJHntCTJ9kye7aN+ral1Ldm+GbzWl9Y+q7q252iPjW/eLBAU/u9o5/oeEvBxxCMtk1H8RfUObBRdq0jzD7r1ym3ZAV6sYEtAagDhVAO2+VtP8Jus1TX3Hs7LL7c+x9s9/zb0Yi2OxR6O9FIXWMT1LUhu81SOQIKEozsQgb5U47zV7dnRBNhT2jqKFHb2VnHvJE9dWppE2m6sL+JtjerSRNCvLTQlFrfFDXt7ynCDVQMUtRrn4erQp4etY8h6JwUgrXNqaNtNHzPOl997cM0+2SEOlapRcKi7W/YfXZ3BrKlFAI9C2wJQB0ohHLYLmU/xPbsNsS2Y2G3Wapr7r8d2/bapVecTX/c7Wi2zNJwu1ooVrTrayi9fu1xjBQkGGNxId8aooaGBlEO0sTHal6+8LoGb6uJ0rM4dpAOji2qqdxpN2UPvbGwu9tGtL8xdA8lfaKFZs6+SvVaD6vluPpSkb4xQ8Od9i2XolfPEo1/EH8vt38Hbz+3N2fNN5XwHrOF+Rmiu/NWGIJDEmodjfsn5PdBTIhzqm+bz5G9X2HXUUuU/V4ohCq2YQzPi7RPH0/QwYYhcvyC5x2aIG9rWOF1IEFUku0q1TVPYt1ynmf2GqovfMj16JYuCsSUf5T0lkM0N5em0y+r6UpFGMRj11rpzfYVagbRivYztO+jFA3dUjMShKx476yj2fMjNCJ6ReveEdMBeRrshmfPIfce9R4WeymzLND8XfVRw7o5WqhfTceBFbJ2euK8PWZcgnuOEiGkGyd30VTrOPVwaGVVhzhH1jo4HB8Gt9eWz5EdYjevY8IS1Y/naWbsAc2ruZHQwlDFCYsAI1Vsw2JjZRud2fuQUmUUwzVBWWyXsF6TN4TlZ9s/QQ8eqpkVgzO865VvGTfO85zrmbQFZcaZ44jcqXJvHQ2WaH+ZIgjGRZo4xL1tq2TFkj4/TE/cZ3nZg1XfyV6rWvaVAaK3d4fexu1BtQ5RMr1qXvfgRHbbeq8440kQxWH4xPaPT1Lr0TZym9rNHafpznn/nnXpyOZBXN8mKtv5DrICB3XUcV5Mv0XUI79391qs3/XQAD05Ekpy5WDdHNHCnE5PYbxi0wuZm7Jjhobf6qDUngHaNSlu2qLfkMLQkjDEbHQfPiAShmM+I/b6qUUcv9uLa8QRktaE9FgXNYZdR6K4TUP2/abfz/r9n/FksQ3Qlsl46nj+EE2wl8yxvB+67SnEholfZLar2RimgmxYLvmcU8GWb9Hp++dCnTcQnfLYLrFd0btto3G6ITq7D9iOzWfdDtKGc05lnnD9tu+/24PifhgzePO5Tgd4r/1xhaS1Nk7u/4YuISlLjy0oM+Hm5l4hF3WnAO/bA+rW9jdHZMZM7IJxcewYTb6YFj3uOVkObcnOf7jXmjd3s5Umj/tfYO/lRSOyVRi2m+q7ITZwK6htSHy+1EP02mW17TPUtlL+wIyoZLvJXvYybXr9WLYCvn1YbTtNp2mSpuV8sd3zayktl58Tv9ydbUg+nhZLtVKzaXuiZ71v/WF6NxFexmwehF0J2chkEpQzvVHNEyd6NcuXD9K60HkpdVS/UX3UaKqPlkdj9hRm94u/1/M2/AdvuIqXEeXe+f4mmsqILUtIy5s0ouE1hXU8eXxDmNtuGmgdp8YdRN0H9BB+n9gftxc3IjInssB1lIHbg7uJLln3W/Z+VsJG3f/pU3dod6DXaoAOf7Qv9PJx2TAWbsfUdtmWtF6zbUxl2TCOlMx1b1ZTNj7nlL2Jc4fI/QuxJmrbu4kOj4aSlyAK5bJdorN7Y1LYrLd20fiGFqID3VbHV30rPZOcUxkZq7N4szl7/xFdocPXVP29JOqRff+xh5+912E7LhGQ+39vmGVw7DjPc7iQtNUusjfSFrnOqFmOyIyZ2AXjim+0Er2eyum9Tl+7QgOvqJ7t1sPi0vvhs/ytmzTw2j5/QxqC29MD1NNsm7TN9K1TRA8fqcmXT9O3ZCVdQavXX7Hm83bfOywqpbVPu9/m7xWPHhK92CyWNrNmzU668yj//k9ZEb0ad9g3iPp6oq4R20iFGCRjxGv0cLbovSj/ULSreHlJ5bHmhq3luqN4VuV6XNsUxesmXvhgnJq2pajuhV3UdnQ7pZpfpV2TF1xe3jLQvo7EpSwbm5t7pA1weuacwmZF+z7quf/IX7jRTjrdYd3rbJ92Biwfjw0Tv/hwkq5kvIUpOvye+qICbVgu0c5phtVrwy8LwlMm2yU7uxuFzVq1jXa19wk7n6JXRcf3QiEeLul9P0drRYcqKxYtevYqD/iWrdTz3kP6SM4VsGi8uZbOhfT8F5cmqg9oL82DZnzaWS0X1TRKuhSeZCb+kLTsXYoeQPNNaZSyxl4YGLtHzUX2qv2IunwJyPT8raJX5isfZaqukU2ry773hRHhWVR8M2Rd56LXeTXXkAXjHBUmc2eUp8yeZzJi7GmM1x3PwjUboudjC9d748c1hEhIFue1Z3IXvdosln9jnHbJwUJ11HGAaPBixExGRw6jKIU8O4xzKdXHsiFzA+foTTombUk2NFwg61f725LYbJj4xamspzLQY1gKCrBhvgSdU50oy4ICKLLt4uWUzVq42EPjra9KO1+3p5vondH88rAFt0eDO2OSl9fSGvVRsnI1bWIvZGQPtkt8iZJ/GzJPD0J4Ci2c18cXLRfVWKJ0CgqgeINe2Nhf6lFGyOrlTn4Ytl/pszz3LN72yIOJ0Htlr9/AtF2xbtO7rxOtXa0mTfC6375pdnkHbJdPge+6S4QpbMuj3twhCFki9Fjc4WFG9/iFM1I+KFGVSeQuITwqvJ/zCGPswbHhzoT32RDIXFIOIWk9TNHTH9kTwb9n8gxkclQNyFQD1zXXC+ftqNzHUo/Ec8Mh0fQp5aXnRuE9O8TKYeJzNCAFiOZJ43AW5wIa4MZI3PxqSqBy+oxitCAbJn6xWjRf16Zz7UIF2jA/cs6pH+zJDLssKIii2y7NZjnni86+sD35Ric2d3NnZh893OrdScze9wp5H9+krdwRykmf8MMK3bttp2eb5fD0mYo65/Jz/gMPnedTg+22x/X0/E2MFCGHMZvk3fAK0WV18TZ3c45NKvudCvdYy3O4RvQMRAWxk1e9lufQyyHOX+Bleb6e7LqymVrJDrn4u6a5EeIcHmv9nCsV0Ptf2UZvcq6OvT/6+uV2s42Yk9t0875HfmOJiSVsW2JkIjcn9goDlBI3xAD1iBuxBAJGCaqWuyr/T3lMi5VMXHI8Qk/mko+HuHD0AR2pzOhdcf9z/qC6/3l+2rYxKoTdwOGsUz1ynoWyLWJ5zvk7EzAKOC4bxoLz8vpsCDg7OKTSbJiJaOfU5vb0HWr9BvyLRaUqbJe4R4T42zrtFI12Soh+30uxKHNzTXmzMRPk6XOUaKlclUBB75L+5JNP1CeQqbSuMBU3es7EXSfPP/+8+hSdkr5vlHtWfqPFeIRuoMhM08m98/Tq+W10Y69o0N/yvqFYKLL3k5N4c3tN7MoXPTkOUbu8aOxF9U7S5gEkAeInc5ymZdV25ai6IGPAYR2/ROYQ+yK3d522i+VIHBePbI/sreXjeUMYWnGe5vNdRx4kx5bwiN5jon4mIBycdDxsWC55nlNe//RWXw9QIfawmsjLtifKdlm2WNobEgL2xnZj+xDlvg9qS4OIWrcy+782a0Pj9d/Z18QDQ/smOwN+o85DtcNmwtS5ggTjp59+muyHrXLyrCk5/eXTIYxidNjTcIzezPS23dNu+OXozz33nJqKTkkFIwARSI4tqXDBWGYbZiaPc8rHITpyb/rsc6H2sJqoFdse5b4vRDCibgVTdMH42WefyZd7g/x4+umn6dlnn1VT0YFgBEkFtgREpVB7WE3Uim0v1X2PuhVMmDpXUA7jsmXL1CeQDzh/AFjgXgCoA7VHqa456lY8FCQYly5dSs8884xU7+zyBcHweeLzxeeNzx8AALakVoE9rG2Ked+jbsVPQSFpUF5wvUBSQd0EIH9w/4BSU/SQNAAAAAAAqH4gGAEAAAAAgC8QjAAAAAAAwBcIRgAAAAAA4AsEY83BT/F3v/9SK3tHxRKFkKaTeayDn6pvenWVfDVgzn7m/45OAAAAAEQHgrHmML9s3SpT1KeW8sZDcPqJRPVu09zi/05o+XrA+W7DfnbTgw0QjQAAAECpgGCsOfw8jD7vtcxgEJz3hqltY733ezabezPLTh0l6rtq/zb4faQAAAAAKD8QjDUJv4DeFm2ukscL1hc+GKembXlIP35ZvhKrLcfVPI26PSM0Wz/oErVcBmld4Av0AQAAABAXEIw1yQR1bXCLMLtEDfWm6cL+JtrerCZ9WaD5u0Qz8yp4vaqDRpRQZc+jCRaNUsiyF7N9mGbl8hCLAAAAQCmBYKw5/HIYuUQTY+kTLURXXaHlsS5qlOLTlaP4+AaNUxvR/gu+uYvGnMcNXTSRWa9e/PMgAQAAAFA4EIw1BI9Edootn3IiWIbxoJQWmqJet3cx4wl0Csn0SBc1HRihgbMzNHhxwTskreU8BhfkQQIAAADFBoKxhkgdMQkuj3LET4ZZA2d6aCBguSy6uKzbM0C7Jhup84NtviFp8yN17IJR0gAAAECpgGCsOQp8DqP0CvYQvfWERvaEGx7Dns3GyV00mxGXHBaflaLR9OxFnbazs7li9sksDberBQAAAABQdCAYa44Cn8MoB6pEy3OUns2c0dfWfuSEswEAAACQOCAYa45Cn8OYRNQxhci7BAAAAEB0IBhrkj6aMnoYRcnjOYzFZGJ/o0HYNlLXmFpAorymIfMpAQAAABCNJT8VqM90//59Wr9+vZoCSSe/68XeOLfg0uGHeuM5h6AwYEsAyB/cP6DUhKlz8DDWHPE+hxEAAAAA1Q8EIwAAAAAA8AWCEQAAAAAA+ALBCAAAAAAAfIFgBAAAAAAAvkAwAgAAAAAAXyAYAQAAAACALznPYQQAAAAAALVF0HMY8eDuCgbXCyQV1E0A8gf3Dyg1YeocQtIAAAAAAMAXCEYAAAAAAOALBCMAAAAAAPAFghEAAAAAAPgCwQgAAAAAAHyBYAQAAAAAAL5AMAIAAAAAAF/wHMYKBtcLJJV86uaXX35JX3zxBX399dekmSVQJpYsWUJPPfUULVu2jJYuXarmglKQlPsHdaB2KONzGBdodO9yWr53lBYej1Ln8uXUeXFBfVca0ifE9pefpLSatkjTSbEvy73KCefS1QufB+e5WbjYaV0jvl583dR8z3NmL8PL533euJ500uhj8XH6ZOnPf86xMqrumo6ZS87yZcZ4DFz/1XnNweN6lrnuc2P3+eef01dffQWxmBD4OvD14OvC1wckl2LdPwXXgYxd12x9bHi35yenrSW4XbM/62Tauwy8f1abyNrB9JvwiP1KWjsREwULRkuY6SVMpQholEOtw7ro2d+4xaGJFPU+eUJPcsosDberRYCBPppyn7PzHVSnvg3GcGOHuKFy65ZewlxvgeqwWL8JU6/qqOO861jtcm+Y2tRSuZiMl9c+BtX/oGPTfr+hiybGuqjR/q2v8ON9bCG6mntsU9RSVtHInhGQXHB9kk0pro/fNpxtsVUCRZfDNueWYCeT1p5f7aO2s7MZe9bbrBYpBiyCDfsbRWTmClYT3oJYljKI0ng8jO3DNGtfuCcj1LFKzffEp1EWFz4U4qI17p+gPtX4TR3tp5bAhtbrAjRS15hapIrJCrAW6hf/WuzjFxVvXi1TPFyiM4TgTB3RlneUKbG2MIjrvWGcdt1Tv7u3i8Y3BIlGHzHH4kwt5UAavkFaZ2/HLldJnGPT9nzqf6hj037PIla//46k1DKVBYfRQHLB9Uk2pbg+QdvQBRuXQNG2qoNGtOX1MnvWu2tuYmF+hibmrVZMF6+sEbJkbTvPn9jfaC0XVXg19xa4vwt0Y1JsX+2vPwZnjV0iOW3ioWIHvaRv9Euh+qqqlKlO9v700/UQKt9dsTOlQhvbsHgKMFHx6tUyeXG8xbrxyhzWdLNwcZBmzg5kOzDCQA2cJRr/IMg8tNGwW/xp58p9k6ZHuqjpqqGjJAzLrHF7fj1HFvPh4W2zh/FCTr2foK4NvD5dsHKPfJbWvePe5nIarBf3RBnrf0WHoW8NUUNDgygHaeJjNS9feF2Dt9VELrcHG2jolppQ8LyDY4tqKpjFsYM52+B5futAmkCyKcX1SW4dSNMFFobHB6Wtq9szkrHXTiGX7Wjz/IwOKLHwWrjYQ10bh2n4bksIL6Pm2HGVwsLm+RGPYNRDYiVxky7Q/F3xZ2N99kKvqqcm8WdmPnjrmZ5FTgkZ5qxkIodoQ3B0yrrxfAWHs+IH3yiFMz8/QU31TlNQV98Uomdniy1Tya0j9fXResMWPj3HJ71C2gVhic6Wu+xdnCLaIfbNIdht0esWsmbv5sieUvdVq4gth2huLk2nX1bTxUKIyd10mQ5tUdMxsqL9DO37KJUjRgEIi7NdLV1bmj7RQjMs/q42UdcbJdAfhpC005PphWWzG+e7RVvZIe1w9zyfM79z5d1OFDXs7kH8IWldrbOQ9ArjlQWvHEa7hGmoKxlXiPZJNz3YEObGNvdyook+Z8XPChQlznZE8asVE79wMZfcOlL3wi6a2WEQ3zJtgmjXCzGLMSn6lZGU95tVr2UeorHDFpQz6SylEPPhuE1D0nPn8t59PEEHM/OHxFLMIk0c0pbJeOp4/hBNsFfNsbwf/Bt7/bpHT58fzpsovXlqPQ4Pnn4MhybEmtW6Xxkgenu3YRviXLxCdLl7s5r2gdc9OJHdVx+Ppc7mjtN05zzvC6gqdK+1Z92w6l8hHQZn5E6zkzICVZy0L06z4k7zALcnzb00tVFojhBOK3YmWI4DO9oTcf9sJ4lWvAWcvY3rtJ2X1RwrVtRvO12X3yffYVXckDQLSd+BArlwLkIwdVS/Ufy5O5+tGI/niX/p9ihZVGqDGTN8jtp30baMxylF249mw/iyh5gj8L1FthR9nIdSUChTecLC5q5GgD1/bo8z16+2enMA3n+Qjavo3jyZi8Pi27XMDhIi2Sun1zvUwMU33KByf9xeQWl8VIctdUTfbpAIdpakeBtvD+4mujRHc3NczlDbSp4rGrbjk9R605qfPnWHdgcKogE6/NG+0Msvjh2jyRfTartzGY8ez3+4V+3PzVaaPB4grkTjfExtlz2QrdeOKQEoxN/W7DHMDbXRCvGvbUh8vtRD9Npl9Rv7mAW3btLAa1vJJBc3d8/RmfYVakrx9mG1r2k6fX+3QwiwN3HOJDxXttG+9YfpXXgZqwZOV2iY3uq83sa6wfUvTWvPR0tvCIUUV0UYWCo65DLCojmp2AayaOzxbcPTdP24+HP8uvhkt2/FHPhqb8PLIeX3vV87UXqBmdAcxiaqNzayWVLbhMDQcrdkLhf10Xajyq/MBjN2OGw/Nk43Mp4wvnGy50z2EH0EvklQlU1ct68LzLus29NNTft7sp6/x6PUs7+Juj2ur/cgG0PJEckmYR1kIKziyKdRJTjcYPdavUuu6Az4TcJyUDc399DAK27P3DQJqUXNSkitaN9HPfcfBXjFdtLpDqvBXPGNVtoZsDwvQ6+nXJ65RZq+dkXuj/TMbD1MV9Q3Xix+OElXMt7CFB1+T30hxd++rBgMweKjO9TTHMK7aPPyafqWFLorqPnFnXTnUTgRsGZN+GVBkrE8hufWiI6Pu3PgWTesTgunJoT1ShcTs/NHgwefGPIP2Y77teEcwu4XInb27Ay1JMzmOTG1KXrxal+KR/w5jKJ0Xsx/zC27ikPBleVqH/Vz7pbYZosQPlNBJzBgGH85hqmXFlEB5Uhh+5h5ZG+YSmd5aOXACFellTkYoW46d0+pgPxJ5U0OxnW8MhwfdLwB3ujE1JFc0el8WoGX6PTIiSmCh7dgZG7gHL1Jx6Toii2/bv1q0TT6sLKNzrCHr/mm3G5WsArhaXsFM55Bf3aeynoqHR7DPChEyG1aHbSnWaIsCxLKrXezHZQA3NebOw309rlQKRc6OWMDChBjoXUAw+16SLvMI6ilVhAd/ro9AyEHnhiwB3q6StVGJxUFC0aTV2Zkj4/vx+MZRnZpYVdxRlwEuFwdw9vDq237UTx6mTqqvqx2HI8yCPMIJGaeHpDKE3GROjJFfXpqgBFTT8ln2wF1xPnswYA6ktfxeoySdntfgzogjmIJZJOX1vGIB72ENbgyV7KJhlvHqTHRPeb84BBq+pTyhKxcTZvem6Rp1Zgtjp2jASkAV9Dq9Vfo4SOey/l+A/J7N7dHD3OLqKYEaoSzUYyyYL3UQ1c++khMWOuf/DC8aFuxehNduTad683cspV6vBrk1WuNHlC5LrkfUblN775OtHa1mgyANxF2WZBgVGfL31vorhuWV/KY6KJF7dzoI5MzxTNVKThFjHWA7QwqRITxfmU7zjyamoRtt7VCHXW8NUy0/4J/G+LGoTucxeTZjJ7qlNwUutKHpH1Odm4JLwJBMamndWTOC5HufX20ehxUSh1xiNGgYonVwsLebpRhkbmSvdQhjKMc+BLD6HfrWWblTcKW+VcynNtAqWut9KbM09tMhzh/cGt2flqF3OwQdkPDOVp7qkfOs7hCh9XyPMo4J9/PhT5QpUEbaLK5+zJt4lC1/Z1qiK3lOeSstiMHsQhEo315/WFK2ctnBtyIY7i0KbNPmeWZlc3USvZvtEEvUmTeVL8PwXv2OjgPNGzjf5tu3s+G+0Hlw/mt0lOui0Zj3WCxmJK5jUH3R+GUK0WMHRcup4G04cVtQ6Lb/OSm0CU0h7G42D0XvVieTWDGqsDWIwCc563cz+8rDh6P1UnQiH9L0DXSeCunCWQNnmWc1AAcY5jGI4naNUrd8hiUt8MmGztT+NcOGbvnK6+K9I60i8+Z3C0tlOzO51K/0R9VIweF2OufO6QNNBFCLzM/uy7n8qJo++Q4Bn1dmX11Ls+eTDn4RX6nC73N9K1QA3wUL5+mtFp/2MfwyEFGe4PD7KDC4Lqm13tj3bDqXTEe2VQSXGlxjlKFUZdyseSn2tM483nhOSgfuF4gqUStm59++mmRHgzMnpNjREejhdiSCntdbzYHNOz86BTRAX4zRI6lDXtJORTp5V1asmQJPffcc2oKFJui3T951A0b1IHqJkydg2CsYHC9QFKJWjc/++wz+uqrr9QUSBpPP/00Pfvss2oKFJsk3j+oA9VNmDpXkyFpAECyWLZsmfoEkgiuT7IpxfVBHQAQjACAsrN06VJ65plnpBeDQ1+g/PB14OvB14WvD0guxbp/UAeADkLSFQyuF0gqqJsA5A/uH1BqEJIGAAAAAAAFA8EIAAAAAAB8gWAEAAAAAAC+QDACAAAAAABfIBgBAAAAAIAvEIwAAAAAAMAXCEYAAACgoknTyeUnxf8a0ye19ygbvtdIn1hOJ6fVhI3j9wBAMAIAAAA1xgKN7l1Oy5dbpeU4Uf+O7HTnxQW1HABZIBgBAACAmqKOOs4/oSdPzGVkT51aDoAsEIwAAABAxdNPLcpDKMuOfjXfm4WLndnlZemk0cfqSwBcQDACAAAAFU8fTemewqt9ar6NEpR7R0kGnB+PUs/kLprVf/Okmx68ob4HwAUEIwAAAFD1KEF5voNkwHlVBw20jlOjw8M4SOveUt8zx1vkfOQ0AgaCEQAAAKh4ooek6/aMSM/i1FEhJ6+yh3GEOlapL5mjU/J75DQCBoIRAAAAqGhS1JsJK2vlSEp974Yfs5MVl+5R0pmwNQAaEIwAAABAFcCDWMKFjz0Epl3ssDUAGhCMAAAAQFXDArFX/O/i8Sh1enkTm3t9PJSgFoFgBAAAAAAAvkAwAgAAAFXCxP7GbC6iq+S8/o8Z63KNlNYKchmBxpKfCtRnun//Pq1fv15NgaSD6wWSCuomAPmD+weUmjB1Dh5GAAAAAADgCwQjAAAAAADwBYIRAAAAAAD4AsEIAAAAAAB8gWAEAAAAAAC+QDACAAAAAABfIBgBAAAAAIAvOc9hBAAAAAAAtUXQcxjx4O4KBtcLJBXUTQDyB/cPKDVh6hxC0gAAAAAAwBcIRgAAAAAA4AsEIwAAAAAA8AWCEQAAAAAA+ALBCAAAAAAAfIFgBAAAAAAAvkAwAgAAAAAAXwp+DuOXX35JX3zxBX399dekrQp4sGTJEnrqqado2bJltHTpUjU3P/CsLpBUYEtAKYnTriYB2PYslWoXKq1OFv05jHwhP//8c/rqq69g4EPC54nPF583Pn/lIU0nl58U/2dZuNhJnRcXiB6PUufeURKfFLzsclruLvYyvPwJfU1eeKzHLo5t+jB9kpbL7S3Q6N5OGn1szS4VmfOkw/tkOiZVTk6r5Rzw/huWD3seAkifcJ8b7/NvH0/6hNe+Fh/YElAIybCr5cbDpmSK0+Z7orUBRbcJAe1HJdsF3zrpajP0c2xsYxJCQYKRVT/In8o5f3009eQJPdHL+Q6qU9+GI0W97nXY5d4wtamlbNhQ6TfU8uXRxWG+Nx7/LrPdMAKuudd8XKJMHVXLOGDD3kgPDhh+c+ABNYbYpmMfM8XvHGnnn8/30anMNkf2RLuSxQC2BMRF7dalOuo4r+7xnDIlrLgTkw2JLA5zHAxuPDqqoZwM1XMtHcfBYvGddTSrXRvaUb7OehQKEozsIo5KQ0ODsZgwfW9/9vqNTphlvLC3616H1zr15fXiRz7nrxCyIqyF+sW/FvvmFTf8vFqmaPh54TZ00cTGeocATR3Rjd0sDberL0KzQDcmJ2hiPuKRif1snNyVuZlnW8eDBZzPsbUcV8vETN2eEe382OeoiepXqQX8ePiAJu7OB4rSUlLqewFULzVbl1i8GWyQVYTNb19H9WpRxm1DzJ1bfxY+GKeJsQc+7YfBUXC1j9rq9T3xplqupX4c6RszNPyW7nAR50ick/4b4UR0OSlIMObjIp6bmzMWk7gK+r5Y8LaibltfXi9+vy21i90pwrRyvsNhSCJzvMUySn69Rh8vnMnDWCgLF3uoa+MwDd9tieBlXKDRd5w3c92eARqmcboR5N3UPHbu0tuslsnAnoBZWveO26iLwj3PyN5bweMbNL5xuzA9QfAx9hONddGFBPVoKy3c5ODWkLzPGxoO0sTHal6+8LoGb6uJXG4PNtDQLTWh4HkHxxbVVDJZHDuoztEQeR+dm9s0lHNOeZ7/Oiq6LhXCqg4aMdgfq+R6GAtGCNSe/U00fHaGWsJEYhRpIZh2vRDOwiXrWi7SxCHlDPK5R01US50s+Shpy2jklrjhdQYJtrjRj8cuvA+JwtELjSkH0BZLR4LlihdNrh6nMyTdSF1j6otArBBI43y32J8OGaLpnm8U6wiTvzNPD8bcXro6qt84QQ8eqkkvbNFsKGbB6hE+ykcsCtIjXdS0LYRcZCEtJPAs92h3hMxpAv5sOSTu8zSdfllNFwshJnfTZTq0RU1XECvaz4hzdJl61HT+bKZDN9fSuUMTovkGkXBFcdwh6SjREGmfNzyg7ie91MGeSk6lEesIDKuK9mfw7i7aFiYSkjhWUNvQHM1dKqwWp7Y1UdcbusAWbdaOfuoLYb/LTckFo+59s4s9Py50ocZ/ebrY2Nt0l2QhKuaGcdp1zxYo3fRgQxjRoIWvtRLOcxeUiC3Khi7q38+izrnOvquakHoyQh22kZHizC0i7VyZ67Sdl9fEq+VZ3U7X5fdFEEl+3lNR9BzB3NxMnxIyz4dD4i005fJkTlDXBms9thHnbTfub6IpFqVin2fZM1CM8xEb7E2yO1+ap+njCTqYmW97m7j3ry2T8dTx/CGaiOTh0jwJomQ9evr8cN7ErGfN5QXUj0GKH7XuVwaI3t5t2IY4F68QXe7erKbzJOMNFcX2ksh5+nm099V5HjLL874PDlnXZnDCWiZzDFHPtX6NwywvWNlG+9YfpnddntZaJtiutFC/IRLUdnbWYasyNmSsSwpAt4i0t3N9Gy/fm41oKBu4/Yb1vVk4irbgDdH+OMKxAnu/IngpTfeVnJfpSFj1yrp39TqWXf724EEaEkXeZ2PWfSGXl/Vb1Wv+TRhvoum+8oLPlRLY9rUh0dblRqKSR0kFY+aEuor+nRt7vi6+TMsxpmUZnra/Kwb2eu1tmEoieDxPM+167y5F24/203V1c0+waON8QmtS4T1YRQohDoP4ehb9ErFzS6gBGNKj6c5rtPdTM2IOgr5n6mld+wzNO7yuCzR/t43WrVWTOr45Q+5ieXM90wJMJYzHlvdhB9FUzrJtNKw6BtIQsag8zoOXssfPOUxSNIYVpiXm9uBuokt25+sMta3kuUKUHJ+k1pvW/PSpO7Q70KAP0OGP9oVefnHsGE2+mFbbnct49Hj+w71qf2620uTxAC+XaHiOqe2yB7L12jElAEUDtjV7DHNDbbRC9168dln9xj5mwa2bNPDaVjLJxc3dc3SmfYWa8kNs9/xaSst1z9Fl2m01kFsOyfNyjhvSW+/S4fWX1frUPqn9P33/XFbAvn2H1t68TD1vHxbnRPx97yF9JL+Idq5vD54T61HbuESu5TfTIf0caGzuOE13zsPLaBO7XWkflnnc7rxGezte4sbv+/SJRhpvHch2/G3sCFXY6IrHfcVe7MuqI7E4do7unEqre5frkV2PL9Om199VHZMrorbuE/WU6PC1tXT51E6680jVKFmvrfWfvq/uE0887is/XE6GShCLTEkFo3XB/IsOCy3TfPe0jWlZG7/vCsVet19JBKvqqWlMz8dL03UhIraryip7mz75hKZebPj8QNsD6FESIVqEuD3gDBdYuZDduUaO8c0ZchfNQxrkdQ3Z05YhpTdEE+0rghXSQOUuJxPfwzQgZWBzcw8NvOL2zE2TkFrUrETEivZ91HP/UYBw2EmnOyypteIbrbQzYHlehl5PuTwFizR9TTQwYn9kJ3DrYdHc+LP44SRdyXgLU3T4PfWFFH/7jELIi8VHd6inuVDvotjue4cppTqxu99W8wUr2t8UDa84ZpcXM+vJ0fafeVldg5dP07ccIfIo5/o23Xz7Ch3eqs4pe1fDsnI1bcqIVGARj12JH8v2s1cyjicyeN5Xgs3dl4nEPZq61kpvap0ozvO1lt8tRGIW+57q2dtGa+QnRaZer6DmFzUhacLnvqo2qjaHsdSYjskuySFFvfd20bgKVS5fPkjr7oUQG8oQDdY7wxdcZH5gKLHn7an0Eqn9OzRjJ0sJwqccquWR0WqbcsR0kKDyGwEuSm54JtrjL3KxroeQU9FzHnlfE+pRzEHmBs7Rm3RM3keBvfawrF8tmgEfVrbRGe7oNd+U280KViGGbG8YF+kZ9Gfnqayn0uExzAPfRissGe+lVZz5kDtpp56HyZ6c1zfRZblsnjmaQeda1GJr/apECbm/vNbZyNc80e2KjCo57FUnjQbla0dB2kYrTShOL5rvffWyqMfqo4Rzf++fVh7A/PJoN60OuNN97ysDHBkqm4DPn+IIRhXPNxl4/aRysUmWsMoP97Hpx5cYHF4x3evlxzw9oGEaMPQOU0eEIQr1iBYfD2NOGDwb2nAWb3EbZ26g43ETYQWZxyhp7+cwGvZLFn7kURBWwxD38xP5nCcxNMKhprQdLpKepUmaVqFRDj0NSFGyglavv0IPH/Hc2zTk4a26PXqYaI0mM3xslRSsl3roykfsx7LWP/lheNG2YvUmunJtOtfDtmUr9bythXd1Vq81euXkuuR+hEXlH+qDQ3jdb99U4TgntwdT9HDvGTqz1xUWtkUZe3Z1D2MIcs51Dmto7csDdDOfjsDHj+hOoBitNaLZldxHc3ERbYIp/YYJ6Bg7i+rce0Q2CsHzvpJ1/hytPXqG3nxxko7pkQm7rrA3UM4Iy21693WitavVpAmf+yof+LrEbdvjoqweRsZPXPE8fXn7N164lzWVMLi3a9q32qKe1lEX9RjCz+kTwhC5Rt95Y3gAuF0KDIvGnsNTdLI5hjklz5HS1UY2jKSHmHiUbCtNqjAmz08rr5Qdwm5oEI3GKd2PkA178ijjoHw/PaFeD9FyuGsTh6rt75Swspbn0Jjaji3ShODknCo7VJUd1CGO4dKmbChWF3Urm6mV7N9og16kyCywUVrZRm9yXmFmf6z18/6zB0aG4LZ8S+ZsyWPT9+U4Uetr1mr8MZ9r61pyOHDA2r48dyuo7ehpumOH+UVxpB/4wGHJTYWG6KuSItoVV96df4lXJDrwuK+403N4vZXqwakqfK/K+iTvHRXCnl4bzlOeCTFzHrXtwVSDZ7SBabKj6XFfVSNLfqo9ICjq+ys/+eQT9SkafFJNhBFm/Ftb0JVDyHlt1+uYGL/9fP7559Wn6MT5vlHOh+MQ58gLN6iT8+IMxoW9eO5Rc5z3GK43xB5GP+8ZG7oQHk/u5d7YLkRfvehNC1HwVlgvaTxkzpN+zLxPO7yPjEd7Oz137Anwe1RQyHPhA78acL7TsI6AfZWe0hgEdalsSTDsdTgmjquwcHASYGGX4mT/QkdKF40SnWsexSrs0Js+KQGF2NUkkJ9tD7IrJltkgMOlqg2YFzafcw+LFnngbY3Uew6cLJ5d8CFE/coHR53k4zZE1jLwoKMSOw7C1LmCBOOnn35auw9JjQF+Oflzzz2npqITp2AEIE6SY0uqRzAy7Km72RwiR6oslOJcs5fnJm2dO2QcMc4UaleTAGy7RVk0RhEEYyXUyaILxs8++0y+XBvkx9NPP03PPvusmooOjApIKrAloFwUaleTAGy7RbXYhUqok2HqXEE5jMuWLVOfQD7g/AFggXsBxAXqUvVQLdeyWo6jIMG4dOlSeuaZZ6R6ZpcrCIbPE58vPm98/gAAsCWgMGBXq5NKtgvVWCcLCkmD8oLrBZIK6iYA+YP7B5SaooekAQAAAABA9QPBCAAAAAAAfIFgBAAAAAAAvkAwAgAAAAAAXyAYgYTf4nJyWnyI6aXo/EYU8ztGuXTS6GO1YBAe+8NvMjGvw+N9qhX4oncAAAAgKUAw1hQmMaVeEu8HizbHb5yl0/COafOL7a0ydVQt5Im2n/z6pLEuarS3d8Jvb61XY423zuZsc7Z1nBohGgEAAIC8gGCsOdwvpw/xkvhVHTSiiS+9zJ5tUws58fMwut9HnUsddZxX27g3TG38Xk17mzG85xgAAGqFuKNHUfGOBpWSNJ10O0f4vfoZB4The43MOdRx/L42gGAERaPtbK6nzyoj1LFKLRRAesTyMF5w36w0QV0bWIDqxsgSmt3zjTkitXG+m56U+GXuAABQGvKLHhWeOsRCy/DbKEIqlJD12I5dYhfCzvPJTo7+HdlpU1StFoBgrDlsoaVKEXtIE/tzhZtdgm84y0C03GXv4hQR36yOfbU9pbniM3XELVBFgWcSAFDVRI8eeacOzdJwu1rIlxT1un/LUSH1bRgWPhinibEHNK+mvemjKfe27BK7M0CLchnKyJ7adD1AMNYcLqOiCSnZg+KcQTVdCH45jFx8bziZM9lCM+yhlIbAMkpT1OLZk+SQgUmYGkuNhREAACCRCFvfs7+Jhs/OUEugl7CfWkz2XJSccLER1+939Kv53uR6YJMQXi8fEIwgQ99VIeYi9g5z4LwOxw3mVzxCJipn0i0qpedQ9SRTR5yeRaNX0avA2wgAqDpKFz3KYggVh3Q6yE7+hgfU/aSXOtjBcOCBHNzoLf68PYy9zWoRX1y/v9qn5tsoQWkLVxazk7uy+fOydNODN+IOf1cOEIygYJrqNWHX3KvdXEHFL2QSkLMiSq5hMeXxaCX2PBcAAEgKpYke5WIQcj6dcjsadH0bL6u1Aart2H7D+j6c1zBO1HHY4e1VHTTAT9fQ25Dlg7TuLS38fbxFzq+VnEYIxprD1QsVpZAbc37ebIIKT6Z25sbI0dj6aGlRzL1Kdx6PKoV6TgEAoEKJJXoUE3Y0yMsr6P29d0g61OPh8ghJ26lV/Cg4eQ7dOfNHp+T3tZLTCMFYU5gTeb3d+QEeO1H00WN6L6uw5zC6mD5JjZznwr095B8CAEAJaKL6kE+zKD6GwTWOEjTAx+P3np5QZ4TLPUq6VqNVEIzAB/+RYu6i97IKew6jjRKsO4imVJ6LHPgSR+KxzLWs7QRmAEA1EWf0aJ4ejKmPgXh4/hIoqrhdChc+DhCoNfqINghGUDQsF76pBD+H0RKc9ltbsr1HK1zRTQ/YMBoNUq7RlMWdvyPzZcI/DxIAAJJLxOiRfBKFwU5mSouQgbYQ9OtY+wgrk6iKPCgyOMqll/xzCfk4DF5Kv2dEchtSYwMol/xUoD7T/fv3af369WoKJJ0kXy8WfI37vVOs+aHetfosq1oAtgSA/Inz/uFBJjzApHetED9vEA2U2DvGb3qZ70xG55zbpR4aCN/2sGAswzkrB2HqHDyMoCgU9BxGAAAAoAj4vVDCGMIf63KNlNZKjeUywsNYweB6gaSCuglA/uD+AaUGHkYAAAAAAFAwEIwAAAAAAMAXCEYAAAAAAOALBCMAAAAAAPAFghEAAAAAAPgCwQgAAAAAAHyBYAQAAAAAAL7kPIcRAAAAAADUFkHPYcSDuysYXC+QVFA3Acgf3D+g1ISpcwhJAwAAAAAAXyAYAQAAAACALxCMAAAAAADAFwhGAAAAAADgCwQjAAAAAADwBYIRAAAAAAD4UvBjdb788kv64osv6OuvvyZtVcCDJUuW0FNPPUXLli2jpUuXqrn5gUcvgKQCWwKKQZz2M8lUim1P+j1bK/UlDor+WB2uLJ9//jl99dVXMPAh4fPE54vPG5+/8pCmk8tPiv+zLFzspM6LC0SPR6lz7yiJTwpedjktdxd7GV7+hL6m+OB9ytlupnTS6GO1YJ6kT7jX4XGsoshzw0ucWE4np+XHiCzQ6F61vemTtLzgc8brM++rLI5r6E/m2jsQ5yLCOgoFtgSEIRn2szZgu+Bn6yrhnvWuLy77mdPmOdvH0GjtZ/5thTe563TuazG2qVOQYOSeBcifyjl/fTT15Ak90cv5DqpT3xaLuj0jzm1qZeqoWsgHs+D0E5op6rW3cW+Y2o5OZbY3sifs0RpEZwjhFV0c11HH+ez5cJYpccUCYMOm1t+4f4Im9jdmtldMg+MFbAmICupMgXDHVd3zegl7/1fa+c/uL4vFRnpwIGszZ1vHqTFKB9lw7nI73W68HRKyFMnxEicFCUZ2Q0eloaEhU3Tc0zaFLK8v47W8F6Z1MF7r0ZfXix/5nL9C4N6HVTlbqF/8a7ErqrhR5tUyxUCKIftmMBopc2/OT0S1HFcL+ZArOGdpuL2J6lepBfx4+IAm7s6HNyAOXAI7hLj2Fse8z2ohB34eRr6+AazqoBG1jdmzbdR2djazzd5mtUwJKfW9ACof1BkNtqsZwWO2DTmCprk3c8/bZepoG61bq74PoNLOf2Z/H9+g8Y1TDjtXt2eAhmmcbkSJWmkOBS7BTgXNIeEuVwO7+ImgIMEY1Q3NAmpubi5TggRVoctzyYeo22X05fXi99tSu/FTRwwVlYsQNPVqmbw43mIZpbA9pPZhmtW3f5WkeDX1bHUh4ywj1BFG+OlIQ7Fd3LZBCIP7jpBcY110oQzetvC00fA907kRJbQHOE0XpIfxQq5oF8ffyNc1Ss87T5Ia0grFrSF5nzc0HKSJj9W8fOF1Dd5WE7ncHmygoVtqQsHzDo4tqqm4WaSJQ+LYDk2IT0Xi4wk62DBEzqO+TUM585xUdJ0pAX1XdZswS7smGwPu5TRdv7uLtoW0q7Gdf3X/uOt13FRLfenfoXcEQjgHYqQoo6RvD1qGc3HsYNErQZKwGg1nYdGYKLRQZBx5gBK7p3UkWIoZ4Z6u6GH1v5NrzPRQqbsEhwCcpEe6qGlbCLl4sYe6RH9zlvdpRz65LJr3No/9DM8EdW1wnpNsCXFtpbe3hWZYlJtEuy3sS5B+UNFsOSTu8zSdfllNFwvRsO6my3Roi5r2g0WYFJ5CeBUk9lZQ25Do/A61iU+lZDMdurmWzhVTqNYUnMIyK6yadyd44eIgzbRuK/29Lu+fuXD1Og5WbaNdd1scts6y+eHFssR2lIS1tzHh7Ajkph9ZgrI4+1MUwUi0iVavJProI6K1q9WsKscWh+6SLNJ0csM47cp4pbrpwYYwgsgpgOwSqxBq3k59Yw8coXG/HEYu4fMKBUIctZAzDKELLtt4cNi+cX8TTbFIEkJ29uyMOPaootEZks7up9rejjj6hH45jFz8PbAy3L9jRnoo5f7J8NQUkTA2xRO4UWEvk9350rx30iNlz7e9UOwJ05bJeOp4/hBNiM6rc3k/lFdNbSPb6dXnh/MmcqfZXo/DC6gfgxRFat2vDBC9vduwDXEuXiG63L1ZTQezac0asZ1HdGf9akvs8TY1AZbxVkpxOZE9tswy2vHmeD31a2MfGy9vugaMvnyYayBY2Ub71h+md2vI6VBc6mhbaxvNzBvu78ej1DO5iwZcNtX2ZoWzCV7Xn+fr96BrGfc8iVb3uKh65PCwO+qzvrx7XW4s8bzunWxb1iiOfTZqx9gRktbsrYrMhEmbKgaWoMwjAheCmAWjZRR2vz1Au+XfK3R4a3hXM1/sSsTe70zlNpRE8HieZtr1XlSKth/tp+tKLElv3oYuIWt0vPMupNDgXLh8PYsO6mld+wzNc6/ImOfoVUKIOfaq7iCaytnPbEhXCkkWlcdZ7PVmwtYsWqVojCUhWW2vwHyVbC5qiOKx35YYdxsV61pbAld8LrNn8fbgbqJLdufrDLWJTqhsGI5PUutNa3761B3anSNm3AzQ4Y/2hV5+cewYTb6YVtvNej54/sO9an9uttLk8QDvl2jQjqntsgey9dox1ZAJO7k1ewyW90558i71EL12Wf3GPmbBrZs08NpWMsnFzd1zdKY96/+TInXrYRp4PSX/XmEBGuSpe/uwOrY0naZJmpb7qe2TA26cs9cmfWqnmu/N7cFztNY+3kvkvAZCGJ6ZO2Q+to7TdOd8wL6D0NTVN9HEvDtjXTkS3sq9321vVqTOuRH9HiSa/FBdUQ/v/O3BVPYezKl/uUS+N6VozLZlsUZRVGQmzMDMfKiikPRmOjR3mXpePk1pWQl66LK4gGFdzXyxKxFZSQNKIlhVT01jemJvmq4LgbRded1kviCPDrYmczAJlfi8UfP0YEwNSDEkY3uXrLgzIT1pbwhzFbCcRG43dzkprmIRxfniHKjjmYtqKn77HSjM8wnHx8fm5h4aeMXtmZsWcqaVmpWQWtG+j3ruPwpoHHbS6Q5Ljqz4RivtDFielyEWWw5huUjT167I/ZGdQBZi6hsvFj+ctMSa7DSm6PB76gsp/vZlxWAIFh/doZ7mcN7FFe1npIjrYUEnGtudp0TDGxRSFjb7W9JOr6DV66/Qw0dyrgcf0UMhK63lw3CbbirngTwX7EUNy8rVtOm9h2KLIA4W5meorV7LWJc24DptL5JHKot2D67eRFc4/OjJIj2630P7tE6QP9HvzSTiuC4emG1/iLYtJuIVjNK9vJsG3jtMKWkg2dMY5B6uDqxGwVySQ4p67+2i8Uze2yCtuxemslmj7gbrcwegdM83xvI4AM6f6T/qHJAS/VEzOtY+C8kRvffIRrSgY3KH8AvJJ2EhrT468BslLUqYgSoOYW6NxnYOMiqdITKicpvepGPyPootH9oO0XohPV5CbDXflNvNClbR6NleMi4h8vqkWLOX1z2GeXDnkb8strBCc6nXVQMqxNmVHPFbIBzmVh/DYzkPMuciQmidXl5La9RHUAg8wI1o1wuWNZQOgBvby3+f5yA6JHbnKjTR700+/rCPEDLiyGEMaXM9YCEfGu1Zj6UmXsHIBv7madopQyq2p7EwI1lJZCqrVhKH9jiV8HkOQrTQcE5+C5M6MkV9eT9+xoKFocwbdHnD/HIYg939Vsih8FCKE+7h+T92xhTC9znPjkFIpqI/AkkXnn45jCGew+gifaKRujYOy5GUBRnRImB7zKRgkh4nO2Qq5NHYORqQAlD3jHG+n9mLdXv0MBHn9tmoHCqjGGV7dqlHeUOs9WdCaSGQnpRr07nezC1bqeftc+aO9Oq1Rg9osFfGxgojX37NakAznkYWaLq3Thz37rflD6KjXwMOuwtxauF1DdbQ2pcH6GY+gl/PwQQFwM8A5AFuAxlbJL1VsUZOwt2Dwej1xbmeNWuUHeCO0XHbkxj93vSHbXiAiDZFwXwcE0FpRI5n4RbgrAhunwoj/kEvjx5aF9Fwo7OAsr1uXIIEVaHL2yUqUbdb/dTTOuqiHkP4OX1CCJqN9dE8ePbjWuybZb5b3HC5N2ihz2GsCBwCPqjowtPPwxghr0UJVh4Q9ORIhxCh1sCXUjxKJwhOcLfvwdS1VnpThqh49GwrTarwJs9PK2+VHcJuaDhHa0/peU/ZcCiPMtbz/UzoA1UatIEmm7sv0yb21tnfKa+dtTxHVNR27HxBITgvr+doi1o+M9hDHMOlTdkQrZ5fuLKZWsn+jRadkSLzpvp9EBzSsz45Bx5upq2vWfnlDefX0unX1GxPRGPNy3KDrULrlrDW9n/rQ2rVchjN10CI2KOn6Y4dMhQl7GOAOKy/KWQoHjhx5rpxNCn+DrQb73vQjPne0euLcz2ZdBHxm4cvnia75nndm0khtjSiMrPkp9rDiaK+v/KTTz5RnwqHL3IUYVbs5b3wWg/P98Jvu88//7z6FJ043zfK4ozDtyMv3KBOzvkz9Ja4l+QWahzCLJYR4n26UD9StB4TvxpwvtPg/eOQtN9IZh4dF/mmZoEnDN9bYnsPxfo5FFSQYeD1XaD68/mGk/j3jdQ1xgNxvM9Bvte3nLbECYdoj4lrVvmRDm5cUzxwIEo4twTwfh2jNwOFeGR4FKywN2/6hBcLsZ9JJgnvkg6yv8W7Z11wFGB6ayz1Xq8vpvZMhwf8RG57uAOu2s95sf7r24rg8eNt5AxO1cirfQpX55YkRTDWKkkRjEnEClV73hZFFavJxxZ8ajIHDyFYIiAYiwN7XW82l/CZdSEojmBk7+ZN2uoxetoGgrF8VLpgBE6KLhg//fRTPG2/AJYsWULPPfecmopOtQtGULnAloBiU6j9TDKVYNsr7Z6t5voSB2HqXEE5jE89FX8KZC2B8weABe4FEBXUmfJSaecf9aVwCjqDy5YtU59APuD8AWCBewFEBXWmvFTa+Ud9KZyCBOPSpUvpmWeeoaefflq6e0EwfJ74fPF54/MHAIAtAeGA/UwOlXDPor7ES0E5jKC84HqBpIK6CUD+4P4BpaboOYwAAAAAAKD6gWAEAAAAAAC+QDACAAAAAABfIBgBAAAAAIAvEIw1icd7iAt8f7DpBeudhvdPW/DL8LVlHdvm706K/wEAAACQBCAYaw7rlXLjrbM5Lz2fbR2nxjxFo3wvJ03lrLN7vpGWn3BLPxaE1svwM8seeJD3tgEAACj4XcM5tpTtfieNPlaTAOQBBCPICxaIWe9hmq4f76MpwwvPU0emqO/uvNN4PZ6nmfZdtE1/z3Hzduobe0DzajKL5Q09Oa0mAQAAOJk+mY3WbOiiibEuasxEcBCtAfEAwVhz1FHHeeX5yxgUqzTOd9OT8x1iCX8WLnbSYP0sjeyxl0zR9qP91JLjSWRh2UL9G+ud61xVT01j43RD6+0uXByk/vZ1VK+ms/D+ThG9A+8jAAAYae51RHacpVdYaAAKB4KxRkkdMRgWg4cwlzRd2N9E3RmxaMHrm6KWHBHKwjJ3vSnqfdJNDzZoYnVyF816itUUvdo6ThfgZQQAAA9ceeFcDJ14APIFgrGGMA1K8Sxehmb6Os2cfdXYYzWJ0KwX0g2LRm1Zh1jk75y94roXdtHMDRg/AAAwwdEcuqrZVFFm6weRzgNiA4KxhjB6Fb2Kh7dxYX6Gmuqz0q4QEcqhbeNysrjybjiM7c6FBAAAIOF8cdrhtKOcZtTbrBagCeqSUR3kNIL8gGCsOTweqWOXiCOVdRE6dZSoT+/hXu0jOqqNnHaJ0Lo9I9nvHGWKxC8BAACERkVt7g1TW/swzfJnh81to2H5ZArkNIL8gGCsSWzD4SpsaNQSpcDbw9hC/WoZAAAA/jhsac4oaTxlAsQDBCOIRF19E83MxxcYdngkHcXVC+ZH8bhHWwMAAPCJ1lglG5YGIH8gGEE0mrdT0+SNkucSLnwwTk3bWEKqkDpG/wEAgAPOKTd7E/nxZCPUoT/7FoCIQDDWJHbys6twKEMt4U2Ktm/siu0RN/2uJG29ZA2f9Sif7bKXbD1HMtwjgAAAAAAQB0t+KlCf6f79+7R+/Xo1BZJO+a6X/Wq/UvRYrVcZPjiAsEolAVsCQP7ke//IV7QeVxMGOAUIdhSYCFPnIBgrGFwvkFRQNwHIH9w/oNSEqXMISQMAAAAAAF8gGAEAAAAAgC8QjAAAAAAAwBcIRgAAAAAA4AsEIwAAAAAA8AWCEQAAAAAA+ALBCAAAAAAAfMl5DiMAAAAAAKgtgp7DiAd3VzC4XiCpoG4CkD+4f0CpCVPnEJIGAAAAAAC+QDACAAAAAABfIBgBAAAAAIAvEIwAAAAAAMAXCEYAAAAAAOALBCMAAAAAAPAFghEAAAAAAPiC5zBWMLheIKnkUze//PJL+uKLL+jrr78mzSwBkGHJkiX01FNP0bJly2jp0qVqbvVRqfdPrVyfaqRkz2FcuNhJy5d30uhjNcPm8Sh1Ll9OnRcX1IxkYx3HSUqraQfqWE5Oq2lF+sRy798kkgUa3Wu4VpI0ndw7KpYoLnye3efRjXUt+Ny6izrXfD1C7iuvS9bB6ZO0/EQhV8rv/PB5NdWDEOdU1a2cY7V/J/Y79D2UOS9iu4Z66TyvznrAdTnouhQLbuw+//xz+uqrryAWgSdcN7iOcF3hOgMsknL/5H19Am0z21fNNupF/S5j5wOxbaNfWxgO/7bMw/azjTYca1Jts07ZQtLOk+MuhV1ELyxxZy5JuBjJhW8w83mTxXSjswHQlonaaajbM0JPnjyRZeooUd9V6/OTJ72UUss4MRiUqOLQS7gVqT5mWNVBI+pYs2WK+tTXJnLvn+BOC/+mcb47u417u2h8Q5GPLSTsGQEgCqgzWZJ4LnL2ydUmRGtz66jjvG4b+2jKtmNHzC2Ce3v52HFPzRC1bQkgybZZJ0bBOEFdG1wndUOXmOuHdtHtctWvmSyM1BF7O6oxPjqV2W5vs1zEk4UPxuWxzMxHEz7JxHCtZGmhfrVELoZrxcV0vfhG3UHa8rO0a7IxT1G+QPN3w5x33aBY+9W3zcOQeKEJt9mzbdR2dlatb4Q6VqllvHh8g8bH+ul6XB2Px/M0oz6a0AW1rM9Ht3sIaZsFujHZRFO6cRXHO3CWaPyD8tdpDqMBEAXUmSxJPBeOfcppE6aIduTpqJG2cYbmg8RUc69mI2dp+Ogu2hZkx104NUMIkaozfZ36x8bpRqDoS7Zt1olRMLbR8D375Kpyb1jMrQIej1LP/glqOyrE0f4LgZ6c5GO4VrL4e7XCkr7RT31XdU+gEHNvDdPMjehnbuFiD3Vt7KOmiOd9YX6G+oVBYiHcKK5dsUmPdBG1t1H/OwHhZz/YqObTc2UDerzFEv2BnbRkUtFh6FtD1NDQIMpBmvhYzcsXXtfgbTWRy+3BBhq6pSYUPO/g2KKacrNIE4f0/eJpsa+HJsSnhPDxBB1sGCLnUd+moZx5TpC6kCW/c1HcuqHvU/rGjGhz9DYhRb2iU98fuU1YoNE3uqjpaBN1jUT57Tw9ON5FjYGOkbgQ+/lOP7W1U8T9TDYVO0pahuTydQvb3pu784GNu9wON8JHp2jkSK9Q/TPUEpSTBmJBuuknd9GsOO+999bRYOhc0TRd2E8ZUczewqjMz0/QxPy8mvKHwxYtJOrH+RGabR2nxrjqx8Z6IbUtJvY3SkFo6pFLsWp7Qz07aXW0rVXUXf2ekR0hol0v2FsBebHlEM3Npen0y2q6WAgxuZsu06EtajovVlDb0BzNDbWJT0lmMx26uZbOJUnYVj1JrxucdtRI462z1CvahNn6wdAaYOHiIPVnIop5OEbCejUl2f3kNmFKtA7++1k5trnMIen8kSG5bdfVtsIKCQs7vExGd3E/tdjrVJ5FGbpW7mK53QMPRE8lefkF4cknJB2e1DbRc9yhXxPVK9RCxLb3zyskwSJM5nSc77BEE4eLpWgMPu+WcegODiN7kqbrd/uo7+5g7rbG7F4qHx8bhuU0WC/Emrt+FCoa+Xi1EIUdHs9JnRB1dPB4H3XvCTYsvG/SyNrXe8M47boXItxeNtjLxJ47l/dOeqTs+bYXyuUtyXjqeP4QTYwddC3vh/K0qG1kPXr6/HDexMXMdl1eQP0YpChS635lgOjt3YZtiHPxCtHl7s1qOoCM1zNFh99T8/T917yYvI/6vrmnTcjj8vGEOsnnGghWttG+9YfpXZdHFUTE7bWOpW5Yy7u93V6ktjWJNkdvE9J0ckd/hLQhzqNvpAcHntCIsnUZexZoa5UDoTPstnJhzeDl1bTbMitPP3c/OawdJG4rxTbHIhhlIymVu7nYJy4XW5xpRVSi0Ng5ClJIWL8PzInIiEDOSBDCKacC2HkKvZSyc9rc+Qpyu9bFtHIcvAZiJBFXrp+72AItB8O14mK6Xnx+rpK2vOoVamLHHsTilTsqz6v7vMvroW4i/mza1+mT1Lif80EoM1Anakg6faKF6EAv9R4QBuINlzFqH6ZZea74mlvnMqd+8/Fn9i1FvZ7nVCDqY2agDZ9LO7RsF9+eqTBOolPWdLWXyE7ODuikOe/VJItFDrXuJro0R3NzXM5Q20qeKxqq45PUetOanz51h3YHCpcBOvzRvtDLL44do8kX02q7cxmPHs9/uFftz81Wmjwe4P0SovCY2i57IFuvHVMCUIi/rdljsDw6yrtzqYfotcvqN/YxC27dpIHXtpJJLm7unqMz7ZpPiMUoi0u13aznU9uGxopvtBJdm1bHskjT14hav+HvY1rRfobSa85FCF/6XAMhDM/MHTIfW8dpunMeXsZ84XSFhumtNGd3NGKrG7x8mtae90uH0MhpE4SNFW1A0NiBLMKOGtoLac+UfeXPuVqDO/UtNHN2gLZ9YA8UjOgYYc0wuYtePfIqDd9tydEYdltmbdtnP+32zOUMsKkE21yYYNQbu8Di9AzpJ8cKGep5dUU6Wby/skEVolCGOYepjRvoILd24HFG83CWC79R4jnFcU6sm8C+Xs5Ry6IYKr8lqmdpuN26rt6dBh+Czru7Z5lJrGYxl93nKCFpDoNzeFne8OIYZIg5qH7IXqVh/+zi1wO2OyVexXRuJbzNrNHNJGdXS96wYHNzDw284vbMTZOQWtSshNSK9n3Uc/9RgKDYSac7rAaTG8CdAcvLRvL1lMuDxo3lFbk/0guz9TBdUd94sfjhJF3JeAs1b44Uf/uyYjAEi4/uUE9zSO/io4dEp75lFGBGVjaLMzpJ0yxmXefXDxaNc3sfUiqUxzDaNciwcjVteu8hfaQmQVgsD+C5NaLjo3ulY60blsjc95H7XvFAtglZ2xZeLGaRKWImG6uK82kcWmhYtD9ZzRElJM2d8nHa9RaLUnYQ8GCdENHFoLYrsE1JJoUJRlNjp0bNOgSFLEUQgSwQ+ORveEDdajveldAKi05ID5HyCMr9F5VHiEbfx774NOosniqF7IivbHGOBtaKp1ApIX5iyiWMpCF5Z1322uaBzJnkMLh27GxkOAfF/7FATkHtLGGNkzBMYcPY0hgN0johxCMb3XwH1pQDmRs4R2/SMSm6woa/Alm/WjR1PkiP1xzNNd+U280KViF6bK8glxC5XjtPZT2VDo9hHtx5FEpiSXEZjRXU/CLR5Idi/SwoXmwOPK4Mq9eKszJA58J4mXSCroHOy2tpjfoIQnLrXS3cnKUYdWPNmp1Eb58LlaJRKE4vnLM4HQPcoXaGhqPD62A7q2sXYevlI28CnEQR2q4MFWCbSz/oxRZ5WrFChqa8Ou+LIgXCje3qIoQRCSoUmxMetBr7/CtVNWPl6DmvyXJqOZ7N29ALiypnD7CRusZc17VIN4Q0JH6h3xDIdRiEMgvtstYP0TN3bF8ao/g7YHyc+fT6i40Mf57aaQkm6XFSHg/B4tg5GpDiYwWtXn+FHj7iuZzvNyC/d3N79DC3cGpKoPK5jGKUBeulHrryEfu3rPXLhjMkK1ZvoiuZcJ7Glq3U49XAsgAzeN/kuuR+BKNvl8PoJuHghj21m8T6b08T7dPD2z7IPEZhC94UYtgREg8g5xr48fEjuhNFXAIL1dlye//irRuWF/OY6NL5dYaCvILBOYj5YLXrhdkzXofBzkr7m79jIh+SYptLLxhdbmn/4n1RvBp3ECcB+Y6u4nT7exRcMxASmX8lw7kNlLrWSm/KxopHz7bS5Nbs/LQKudkh7IaGc7T2lJ6LdYUOq+V5lHGQuJFCSG23QRtosrn7Mm3iULX9nWqIreU55Ky2Y+f1iUb78vrDlLKXz4RuxTFc2pTZJ0ceoAwB2r/RBr1IkXkz3GARbbupj/bR5dfUfBbSvF5tYE1WKG+mreLs7Bb/hwlX8jHzusOPqI12DWw4rL8pbCge5MD5rdJTbovG2OoGi8WUzOkNupaBbUKBHX1QOkovGAEAZjIjsA0lzl64e2CNXhIUEpGNnR3O1YWJHTJ2z1deFentaBefM7lbWihZz+di1G/0R9XI3Dx7/Y7BGELoZeZn1+VcXhRtnxzHoK8rs6/O5cXarMEH8jvda7OZvhVqgI9FZrtiHzd32+tx7b8o+nHL37jPjwfymEMua+FzDbzgQUOiQ/Ctgh4jBGRd0855PHXDqqeFPeIJ5JBw27zkp9rTNfN54TkoH7heIKlErZuffvppkR7EzJ6QY0RHvUNmlQR7XW82V1pDnc81YI/XTdrqMXqaWbJkCT333HNqqrpIzv2TP9V8faqRMHUOgrGCwfUCSSVq3fzss8/oq6++UlMABPP000/Ts88+q6aqi2q4f6r5+lQjYeocQtIAgLKzbNky9QmAcKDOZEniucD1qT4gGAEAZWfp0qX0zDPPSK8Eh7IAMMF1g+sI1xWuM8AiKfcPrk91g5B0BYPrBZIK6iYA+YP7B5QahKQBAAAAAEDBQDACAAAAAABfIBgBAAAAAIAvEIwAJIwvv/xSPiaDn632ySefeBb+npfj5QEAAIBiAsEIQIJg8ff555/LZ6oFPYiXv+fleHmIRgAAAMUEghFI0ieW08lp8eHxKHUW5WXw+ZPZNwdpOrn8pPg/GkEvwo+0nemTkV/XlD7RSaOP1YSBL774Qn2KRr6/AwBUB2EjE1EKohhAB4Kxplig0b1ukRRCdLGIdPzGWTovBstLFn2m3+olV6zFj9+L8KeOqoXyxnR+rRLmHDFff/21+hSNfH8HAKh8okQmolBwFCPTqWbb6N9ZLgbsIChFu+KPwengcDYEOD+Mjon8HCaFAsFYc7TR8D1dKPVSSn3jyaoOGtGElV5mz7aphfxJHdF/N0vD7UR9V/V5T6i3WS3sEl4tx4n6d2gCLIpXj2+20B7TNlq3Vn100E8t9rb1sqNffW9TRx3n1fHcG6a29mGaVcc2sqdOLeNPvsb+p//buBD1pTcgAIDyU4oIg982TJGbQKFWsCPCo4MeKUIWRnh5OwKsEr/ddZxPbmeOt2SnyxgBhGAEJWfhYg91CXE2s8Orx6kJL1M5EihxLdggvbOOZs93iDUWQh9Nmfbjap/6PgGsbKORq0SDIT2ZAIDqoRQRhqBttJ2dddjHrAPAg4IdEaZ2YkpY6whMX6d+mqH5QM+n29GilxBOl4j4RcKeFNye5Q8EY80xQV0bVE+FS8QcvMKwemqN892i0o8IY9FND3hfvPaBvYP2fsoSrSeXHumipgNhb64Fmr+rPuYQ1sOo8fABTYw9oHk1WQiLYwepYfC2mvKh+VXaNXkBXkYAaow4w9BelGIbpSVNJ3fM0PDZJtEmBrUtrnZTK+HSjVxtiF/bYWPwwIZNbSoWEIw1h6unpHnrZNh3Q5e4NWImU/F7iN7St5miXt6HbdetG0J3tfNvdpDTs3dvHQ2Gdsen6frdYXrV7uXmiE93aaSuMdso6MZD7aNX8fB2pm/MUN/RGYPHL2t4wubWrGg/Q+k156jh0AQtqnlm6mhb6wxdL3vODgCg1pjY36jZ0/jDtLmYQsUtQpoFY4V8B2ndvRHq2NNrtS3i996CzNvDGC7dyBWlyolOKUGZad/Esb0xTrtc2+ye7yl5HqgOBCPIIHMKOfdOTcdGJvQgbs5V1izHyOdmccPy93G62h/P08zG+uz67G3ohY/16FTufBliCMpbcRaHoRHitIW6qfdINzXtd9/gWcMTGLLRYNE4t/chpRqGyM/XWFffRDPz4SQ1AKAGuDWUjVB8PEEHBydo4lADNTSIkolcLMp5Q7fUZB44Q9JamFbm33GHXE3HikHI+bQjdm5gDw2IZbPtkd1GDYhvcux5SVCCMrPvddTx1i4ad3k1B+sHsvucIzKLDwQjKJim+thkXha+ga+S042/4QF1lyx/w5xHySOp3YN1uGR6mbZnVHoeU9R7j2/6mHrbq9fSTmHSzo35+xkBAIC5PShE4fRWmuverOYI3j5MD/fO0dxcmk7f361E4gpqG0rT2vMNdDBu+yI75dZAx3Jj5wZ6eQW9v/cOSS9fHmb0dx4hadvRwt5I5dhw7pdbZBYfCMaaI7fiF/LYgfn52APYWZRXMCvS4k8uDiZNJ8P24FgssqjV99MWvgX2AmUe43GiN+fm6Ez7CjUXAABMWB7Dc2vSTrHIvHyavrWFP6yg5hd30p1HtkBk0ThH+z5KhcuZLjJFcUTkRcAgTN1TacQjrcln8KbjMXTuUdKhBGpxgGCsKcwV3zs0GhyW1R95Y3bjm9eh/04vch2uZN/cZUPcMKvqqenufMlc9RLZIzSIWha+BfQCWSymPtpHc0NtwqT7szA/kyBDCwAoC7fepcPvqc8BbFrttCpr1uwkevscTXysZoTEmcMoSgEDKsM7Irw8f6XIoYwGh8PDhrqdj6FzlyCBWjwgGIEPQT0rZzG7+fNYh+2K9yxhbpgUbd84Tjdi7onxjRwl9zAOZP6i20tgZIFuTDbRdrl/SqiXdBQ8ACARbDlEc3NB3sLb9O7rRGtXq0nllTxGb4rfnqG2lWp2CIyPgfH0oMXhiGD82hZDx93liPAvllMizAsnMiVvW8seSFP0jM+Tl3PE6zfFBYIRVC2pbU3UNRKDYBrrokaTgZAlQT3Z6QvUtXG7MiLKmPqEPQAA1c3m7jmaa77pFI3vHaYUD3hp2E10yRaGLBZTMrex+CkvcTgi8iDQEaEXyynh7+lzlRqwtRCMQJLxnPFNVcIk2vwJ0cNq7qUpavHuofKxBt7kHvknmRKtl5c64u8dXbJkifoUjSV/OaENtgEAAAV7G/UIxcunKT3Hg17m6JDMZWSs/MXsNCgGOWF7rZjHEhQ62CZelvxUexrn/fv3af369WoKJB1cr+qDX/TP726NytNPP03PPvusmio/qJsA5E/U++fTTz8N92BtfqwOD54LkQ/thjuzzz33nJoC1UaYOgcPIwAJYtmyZepTNPL9HQCg8nnqqZBN+co2OpOHWGRCbwNULagBACSIpUuX0jPPPCM9hkHhaf6el+Pl+XcAgNqkFB1GdEoBBCMACYPFH4eXOfzz/PPPexb+npeDWASgtonS0YwCOqVABzmMFQyuF0gqqJsA5A/uH1BqkMMIAAAAAAAKBoIRAAAAAAD4AsEIAAAAAAB8gWAEAAAAAAC+5Ax6AQAAAAAAtUXQoBeMkq5gcL1AUkHdBCB/cP+AUhOmziEkDQAAAAAAfIFgBAAAAAAAvkAwAgAAAAAAXyAYAQAAAACALxCMAAAAAADAFwhGAAAAAADgCwQjAAAAAADwBc9hrGBwvUBSyadufvnll/TFF1/Q119/TZpZAlXMkiVL6KmnnqJly5bR0qVL1VxQqfdPtV3PYp3TJJ6nkj2HceFiJy1f3kmjj9UMm8ej1Ll8OXVeXFAzSkWaTgZu11pm+Ym0mq4VFmh0r+FaScQ52TsqliguXF9OTquJPEmf8DqGLLydqHUvfULUCa4XrmLtL5+7k+IshYHrFy/rd74D4PtHXQ/er0LPWZJhw/z555/TV199BbFYQ/C15mvO157rAMiPpNw/eV/P6ZPFaYt5vQZ7bhc/m1rMc1pYvdfalGKdNw/KFpK2RKb5IhrFp44SosbfhhU8j+dphv/enQ+3fE2jxLVXMVVY140aTbjxDaGtP6/1LNCNyQmamJ9X0+FIHXlCT544y+zZNvWtgRyDlIc4NBi1MMfpJW6tEkLY+t1HdilBB4LhXjyobVAH8ieJ5y5nn1x2LnoH2LtdkMXLVh2dyrHpdultVssYKNU59d6Ood0tkT32IkbBOEFdG1wHt6FLzPWjj6bcF/Fqn/rOh1UdNKKWtxrzNhq+p35/voPqrKV8EBXvDbVvY13UE9ELVfkYrpUsLdSvlsjFcK24mK4XG4YdpC0/S7smGyMYiDrqOK9+e2+Y2tqHaVata2RP8NVl0icaqWvjFE1RS2Qvo5v5eZ9a3NyrjtE6zuGju2jbKvVdFFxGLcxxmsStVabE1QqBdh/JwtdSO9eyhLqfCodDPqC2QR3InySeO8c+5bQJU0Q78hGNWluvF24n1BJxUapz6r8dV7tbInvsRYyC0XAhi3ARC0b2coSYILthnKKm/Y1iXthQYzXgcdOFFRoBpG/0U9/VXkqpaSkA3xqmmRslOMPKa9YipOKTIykpqrrno17ffMPI8/TgeBc1BorvJCJ6sztmRM0Q+1+GNI1yhtEK5tYQNTQ0iHKQJj5W8/KF1zV4W03kcnuwgYZuqQkFzzs4tqim3CzSxCF9v3ha7OuhCfGpSHw8QQcbhshxFDwvYJsVXQfKTH7nrrh1Q9+n9I0Z0ebobUKKekUHtb8UbUKelKo+VlK9r/hR0pb3Z4IePLSmPbHd4aJRlGLpfD1d4OkTRL0slq4StfB0mV2+wMXDBzQx9kBIsSBUuGLDA+rm6ynEop3DaHnittN1KeTy6Ri00bq16qOQgV71ZOHiIPVnPIURxffxFqt+ypJnzmO+yHtjkNbdG6GR809otn6w9PtQyWw5RHNzaTr9spouFkJM7qbLdGiLms6LFdQ2NEdzQ23iUwlZ2UZn9j6klI8YBuWmTHWj2Dhsq7MkPy9ctTeqFBotK5Qyh6QLJU3Xj1ufTD2VCek5VCc5EzocoQ5TyND+vswu39KQT0g6PKltoue4QxdmVgpA07Zs/7J/h7XNoBs2LXqmfUdnaDDnRskeg7UOO4yt92J1RI9WXn+v771JHdHrjAoR5NSTNF3YTzTcGXXtCkdIWtvemOWxbFH1PE4yOZA3tju2WbdnREwPEL0R7hoVj9s0JD13Lu+d9GDZ821PlstbkvHU8fwh0ek46FreD+VpUdvIevT0+eG8iYuZ7bq8gPoxSI+OWvcr4ry/vduwDXEuXiG63L1ZTQeQ8Xqm6PB7ap6+/5pw433U9809nUs+51Sw5Vt0+v65UOcNxIjbax1L3bCWd3u7vUhtaxL2Wm8TOKLRT31am1AUHClDucUvhzEI3dt/e1Dcq2P2eXXZoYI8ts6QdDZVSbV/4hyWklgEo9XAOC+EXrzzsZzqWZYIJyB9ggVOmxAUbaIXMZjjEWk7O6u2T4ZkWSWODL2Pcqv44qLlB5qKp2A2XCsupuvFN6ntsZWlkcZbZx03Z99Va3u+N+z0SWqhbuo90k1N+3tc1zcbVud1mAaANO6fyHQaHMUj5JpdRyN1jblFtZ/Hjb2bLTRzdoC2fWAP5oopJK1yCqeOqukYyeRAHlFGWxuVrdeTQoxqIdwe3E10aY7m5ricobaVPFc0VMcnqfWmNT996g7tDvRaDdDhj/aFXn5x7BhNvphW253LePR4/sO9an9uttLk8YCGQIjCY2q77IFsvXZMNSRC/G3NHoPl0VHenUs9RK9dVr+xj1lw6yYNvLaVTHJxc/ccnWnXfEIsRllcqu1mPZ/aNjRWfKOV6Nq0OpZFmr5G1PqNIB+Tzzllb+LcIcO+iu3v3USHR4OuF4gLFjUN01tpzu5oxFY3ePk0rT3vlw6hkdMmtBCJNiC6bfFwdridU2EG9GVK1GiK1ZG92Zy1DURX6PC1tZTm83pJ1HHbNnD0gT3rYTtVoVHtX5gxHzFSmGAs4KLoIjNn4IqXF1CDG3f2urSJRrr3yIhoULkieV34AJHkKmEHVlQa/qNqXcUhqmzvnFVYvNiCTxZbcOjInt0sDbdb1zXyOeW6xUnSct1i+/d20bijh+rEewCIoZj2V+C/Dq86yWLREsR8jNl6HU8+aN60r6N69bFS2dzcQwOvuD1z0ySkFjUrIbWifR/13H+kGjQvdtLpDqvB5AZwZ8DyspF8PeXKJeTG8orcH+lF2HpYNBH+LH44SVcy3kLNmyPF376sGAzB4qM71NMc0rv46CHRqW8ZxaWRlc3ijE7SNItZ1/n1Jto5zbB6bfhlQQFYHsBza0THR/dKx1o3LJG57yP3veKBy9sXXSw623HWDbZTSBbd2eEe0OdbgvVGBhkZOEdrRWfPnRrSs1eF8rdspZ73HtJHcq6ARePNtXQujhznMlOYYDRdFKV4HYJClggXJQj2PAmxyNuwhQg39rNnyeX2dqEEbvLzFoqDSRDl3HR28RBVJYGvk8xF1MLHXNe4h+qbY5rvYBUn4Z8TyY89aKQHB2LoZLg93YXk0tqPjKp0ZG7gHL1Jx6ToChv+CmT9asuweyE9ZHM013xTbjcrWIVIsr2CXELkeu08lfVUOjyGeXDnUTiZxeIyGiuo+UWiyQ/F+llQvNgceFw5BJ1TnSjLgvy49a4Wbs5SjLqxZs1OorcTmmrA+dkxDuK7PRrcUZS8vJbWqI+SlatpE3shI3vX3ZG9wtu3Qij9oBd78IlWOHRodjV7iD/VU3H3UCzvTvQcNeCFGkjiuCaWZ9fOQdQLh/Kdz9c0hHbD3LyyI2K4jnzdy5pjyj1cfb8sz2vBIVtXz1sWv+M03EOOwuEZlfvoeQ+Z1uH4nV58OmElYEX7GUqf2mkJJja87ymPh2Bx7BwNSAGyglavv0IPH/FczvcbkN+7YYMvWjg1JVD5XEYxyoL1Ug9d+Yh9Bdb6ZcMZkhWrRRORCedpsAfCq4H18MDJdcn9CEbfLofRTcLBDXtqN4n13xYdpX16eDsEOefUDxYdYZcF+aM6W27vX7x1w/JiHhNdOr/OkP8zl0UJ0TmOI+UoDjj9Y25uHz3c6t2BzdokhbQxN2krdxrD5iBLnJE9q8ToeMuD0gtGU+PoWSD+ykv0UH5QPmtZPZfVQhz3UAXchzL/SoZzGyh1rZXelI3VZjrE+YPCYNvz08oI2yHsBg4ZndJzsUTPXi3Po4wd+X4G9IEqDdpAk83dl2kTh6rt71RDbC3PIWe1HTvJXTTal9cfppS9fCaPSRwD5zmpfXIkxcsQoP0bLYQlRebNcHlQ2nZTH+2jy6+p+Sr3Sh9Yk230NtNWcXZ2i//DNWnRzqnN7ek7IfIjQVxIgcOecls0xlY3WCymZE5v0LUPbBNCOAHiSDmKD3H/CvG3ddopGu10Fd0mSbF4nnMbTTm9lUf875JmzwWPfsoroTUuOFTIgxCsvLIMMtTpN3KbRyRVjkiN43px7080s4WHVCPA27xQP1JQ/eBXA853untbVj5h15iazCHc9eX9s7zeZsLVba6D12n7k1dpfq8QL2/l0TPk+vqGMETCoM6LHvb1beW8p6IRtW5+8skn6lPccMN2jOhoYeHgJMDClBv5aF6KYpDnOeXGUx+AYeD5559Xn2qb5Nw/hRH6erJu4Kc1xC32lB7xgtOxvNq+KOeUO7fOQTDRiFbvuZ1TbcrD+M5bmDoXv2AEJQPXCySVqHXz008/LdIDbKtHMDKFNkzxkMc55cECx4ne9Mn7XLJkCT333HNqqrZJzv2TP5V+PaOc00Luy6ScJwjGKgfXCySVqHXzs88+ky/jB7XL008/Tc8++6yaqm2q4f6p9OtZqnOalPMUps6VPocRAABcLFu2TH0CtQrqQP4k8dxV+vUs1f5X0nmCYAQAlJ2lS5fSM888I3vbHKIBtQFfa77mfO25DoD8SMr9U03Xs5jntFLPE0LSFQyuF0gqqJsA5A/uH1BqEJIGAAAAAAAFA8EIAAAAAAB8gWAEAAAAAAC+QDACAAAAAABfIBgBAAAAAIAvEIw1C7+67qT43wW/Sinyy9v5VUWuF8A7SrTt8IvmT06riZDwqwJHH6sJP3i7xn20imO7/Go+x4vxxTlT0/b2+DWCnReDXp0PAAAAVDYQjCAG6qjjvOEl8LJMUZ9aKn+8BWlksdbca9hHq0wdVcsAAEDNYXAiODr2Hk4GG6MTIOA3oKKAYKwl2GOWEVst1C/+tWjiK4pXj72AocVa+zqqVx8dHG/JbFsvLcfV9xk0QXpvmNrah2lWiTyvF8eHgb2DzmNuo3Vr1UebsS5qzOwbnzObCerasJwa90+oaUvURvWMAgBAPLA4c9pSR4kcOQqGbWhm/TuEddRtuiM6A6oBCMZaYlUHjSihZSq9zWq5ANhIDNbPFiTWJEenjPuRKE+fJk6d3tI2Gr73hGbPtqlpFrVTRO/ASAIAykGKejU76ihXC4/zmKjbM2LeHpfzHcIqgmoCgrEGYe9gphfIJVLPM00X9jdRd1ix+HieZtTHHEJ7GDUePqCJsQc0rybjJHVkhDpWqYm8SNGrreN0AV5GAEBF4ow6Sa9hEI7IlVWQ112dQDDWGOwdbCGnZ2+2fjD8DT59nWbOviqkkUWO+HSXDV1C4Kmwri5MfXIJuXh5O9M3Zqjv6AwN5uyvFSLmbRrDwobBLhxO7t/hnGcVLefGMyRtpu6FXTRzAxk7AIBKpI+mdFuc45lUgjITbl6g0TfGadc97TeidM/3hBuECCoKCEYQiYX5GWqqz3oXU0echoILh2n7rubOf3JEyExDb9S7uEY+C9HXQt3Ue6Sbmva7DZIVIubtGMVmgEB1ll5LEJtC+CrMYnsjOSTjCM2vqqemu/MISwMAqhAlKDPh5jrqeGsXjavOul0G6we0aI1bZIJKBYKxxmCBMyVkl35zN853F56PGBZjHiXnBrp6trJoIWIWmjuIplh0cq7OPTZSeY6+Mz1ax8eYORK7DQXhFwBAdZBHSNq26eyNVHnpzvbELTJBpQLBWINYXkFNpEkRVmKEaAsttFgsbnhA3bbnj2EjdZWoJWKvVYq/d9ZpA1lUOfCAGj0e/+CX2J0d9AIAAMmlrd74rAoNj0EzPu2DIyXJPUraHSECFQ8EYw3h9JTlPlYnTMigrr6JZuZL7FGTPVhNLNpwmDlir3V+foL6Dhh+I9Y1dXSG5gs1cDzIZ2M9etIAgMTAqURh4XYibGfelJKULYUOIgRJA4KxhvB9BAKXMOKreTs1Td6IOReFe7YGQVgE6uvbqN/06BvOjzzeRPUFGriFD8apaZt1JJZAx0NrAQDFJWjwIQ/wm9jfaE3n/TxGLzvNz6D18iaWzraD4gPBCCKSou0bu2J5dEzGgJlKER4yy0jRLMPPru3JMHWhhs165NB2NejGEugwlgCA4uLv6XOVcqQggapgyU8F6jPdv3+f1q9fr6ZA0inf9eI3CgzSunsIOWThXnYjPTgQ/gHo1QxsCQD5U877hyMj2TdY5cJPwHDaOMv2dY2pyRz4CRZoK5JOmDoHwVjB4HqBpIK6CUD+4P4BpSZMnUNIGgAAAAAA+ALBCAAAAAAAfIFgBAAAAAAAvkAwAgAAAAAAXyAYAQAAAACALxCMAAAAAADAFwhGAAAAAADgS85zGAEAAAAAQG0R9BxGPLi7gsH1AkkFdROA/MH9A0pNmDqHkDQAAAAAAPAFghEAAAAAAPgCwQgAAAAAAHyBYAQAAAAAAL5AMAIAAAAAAF8gGAEAAAAAgC8QjAAAAAAAwJeCn8P45Zdf0hdffEFff/01aatKDEuWLKGnnnqKli1bRkuXLlVzqwM8qwsklWq0JaD8VLM910n6/VMr16GWKPpzGLmCfv755/TVV18l1sDzfvH+8X7y/oIFGt27nJYv9yh7R8USGo9HqdO03PKTlFaLpE8sp5PTaiIk4X+TppPufWJ4v0zzvY7PuGxUDPsyfTJ3W7J00uhjXkD8RjtXkdCOMZ9znAvvi2lfVTmR117GQiXYElB+YM/NlPr+yfs6eNptA8K2dl40WPiLncb53oS1wS776LCHHutg+19Gu1lqChKM3JupJCptf4tHGw3fe0JPnhjK+Q6qU0tJVnXQiPpu9mwb9V21l+2llFokMuImazlO1L8jTyHlCYvFRnpwwN5HrRx4QI2BhioPsdncm9mG8/yMUMcqtUwQBtEZxiCyiHT/LltM5zZFvfb5cJd7w6JWlA/cmyAqqDNZynkuwm9b2Nc3umhirIt6Igm+MDjFXvTONf++hShjv5/QFLVEFKbVT0GCkV3fhdDQ0KA++WNaLuxvdQrd3+phgro26OJCK569pQW6MTlB/Tes77mXZ/+GxV841E39zjqalSJlHQ36blMwfZ36x8bpRsZbp/ZzgzA8coE4qaOO81mDkRFSG+udItqD+fkJmpnP08AcnXJsd2RP8BZTR7T9dJQp6lPLOHEaVUcpyvkMD+5NEBXUmSzlPBdhtm21F9nOfPd8o5i2ozBm0jf6aWLyhtVZ1zrVjfvdloo7+rrYmyLaEVE0cjsjbHBvs5oWpI5MUZO9fSApSDB6ub5vDzZIQdfQMES31Twd67sGmpuby3wunNs0pNbVcGiCFtVcHYS6bHw8jEfMfsOFiz3UtbGP+o63yBuxbs9I5jdTR9VCnthCZZDW8XZtL6btvdx23TIGOZ48YQjemaHhs03UNcKiUvOQGT1iLPhmad07SgTphUWq23sagoUPxqlpWwhf6uNRGhTCeWL/BXG0SaaPpuxz6C4e174UVPS9eWtI2bGDNPGxmpcvvK5Bk9W0YNs6dEtNKHjewTGTxTPw8QQdVHYy8xue52Ez82ORJg4pW2y3Adp2c45PfuduK9iem9sPG9jzLDnnIqAeRcbn+vldB9ux0DjfLW2MLciszu4A0RuWfc4Rd2xP7w7T8MYuusDfuSI5DqYviLZJF3uinbjal3FuFB3RJjraGq0UnkaULIo2Srrn0pwQhIdos5pmLANiCUUujP3Z/s4L+zvv5TbTIV7XzdO0U80BXvh4GA2hTA59Nu5voqkjvdQrhNqM6L1Fc9XbQi8bpnXk5NnGwCHo7PCy+M2eXpqtHwyZK2LwEuasOyxpuiCOe7vW6zRjhVro7KwQz/3Ukk9Oi8Po+Pe8C0Psn+N66yXuFIEaYcshYcPSdPplNV0shAjYTZfp0BY1nS8vn6a0sJVn2leoGTFz6106vP6ysu2qDVjZRmd4+lKPXCQYYc9vrqVzsQpZkC+3Rw/TJtmmi9Ktt+r+ZBwLdmfUkcOYtdW6Z08us+EBdQub3XHEcgD4Ca+F+Rlqq69XU4q166jt7rzLAeFD8/aMM8QmfaKFZlq3+bcbmpA1FcdxVQFFE4wmbHFoows/93c2vIz9nf4Z5IuHoMoUZ24i9xBbRE9v1p4vvYJT1LS/J6SoYeGXK06sHMbc+ZYQZY+kFb6wbzg2PH6i0T+fz1VCCjo2GHTVlas51kWNcj22uLL2lXu4HEZOCQM3fFeIv6ii0RGS1vIf1fbCh/398MlhlKWAvNSioEUNdO+d7u3IeKHYq6Utk/Gw8Pwhmhg76FreD91Dpnv09PnhvImLme26vID6MUhRpNb9ygDR27sN2xDn4hWiy6Eaa+f+h/U0TduRoYxIs7x82XPn2h97/a5zuvjoDu1cs0ZNFYAQmfvWH6Z3XR5VEJZH2XqQqQM+1zTjKdeXZxbp0f2dtHa1mgyLITdbpr5kbKhelD3l37BYzNiibNSouN46to1WKNvepxaybDrIUlLBGBWuuLo4tEUjyI98RJXsIeZ45/jmCjuoI0igOot1g1rCxt07k/viETb1zuczlBChVymUhcHI6SG2s3jm9VgGjUUl575k12kZOBaNsRg4tb3gsL8fZtHuVZKS6H17cDeR7dWYO0NtK3muEEPHJ6n1pjU/feoO7Q4URAN0+KN9oZdfHDtGky+m1XbnMh49nv9wr9qfm600eTzA+yVE4TG1XfZAtl47phpn0WhvzR7D3FAbrRD/2obEZ/bAvWZ75+xjFty6SQOvbXVEbGw2d7u9hWpdarun758LFrfvHaaHzWp5mqTpzPIDYupNua70KaLJD5WUHDxHa+39v0TWOVUiOPX6Fbryekra6lChcul9dEajbDZ3nKY75+FlzIu3J0VHlK/RZep5+6Ym6k3XVNTJ82ul55nnX6bdsqNkdXhSdPi9K3R4q0tgBhHgfXMWJRDlb9wdV6sN8fLW1dU30cT8vJpSPHxAEyFzz7O4OtR+7YRJDHuW6onclFQwZnovqnjNs+GK68Y0D4SjcFFlGjTRSfOdIVzvHGbI+a1WfDxy+gCbTBmpp5EcIRsgjEI9zsFaR48wqmGEpTynOcv5G7iS0L6OskGafER7+dncLK7CK27P3LRo7FqpWQmpFe37qOf+owBBsZNOd1hyZMU3WmlnwPK8DLHgcXlZpq9dkfsjbdXWw3RFfePF4oeTdCXjLeRGV30hxd++rBgMAXvteprDhwKznk1tu368fJq+JYXxClq9/go9fCTnCnponxKjK9rPKGF6m26+bQsIUdgryqiwc/rUTtp5yhLcBYe9V66mTe89pI/UJIhApo6tobUv36FHGaFnuKZcJ0WnISXrTAPtflt+Lb+30i3EPSQ7CFonJiT+jgq/9BuzPb9QP+K0Uc2vujroop3aMUPDncH22wS3N85OM7d712m7LmTzEcNVQFlC0n7FhGX4nMVrWRCESfRpxUtUScGnBq04boZuerAhRLhAezxPTrlqHtPLyPxJlTCtFxmeztlXP2HkNXJYQx5jD9Fb0UWTIyczH9yJ06HErQeP52lGfXQScO2jhtGLjcwNnKM36Zi8592DPfJm/Wohi3yw8+2ab8rtZgWr3WiqIj2D/tjCySrRG1udO4/8ZXEG9my+vokuy20WK7eyR61flQh5bZF5ea2QPKDoZDzbVik4V1bh7aiYpeF2tVAObKtMj0izwtNOQcd2Xw8ncypRhMeaGcjxWAqLOm8StuxpTJrdLCIlD0nrok8vXvB3eiW2i99vgB8+eWw+z+Lj0cJ0dsBwE6bo1bNt+T9Oxpc0XT/eR1MGT1/dnm7qG3tAztvaz8PYQv1qKU+kqC3M0OTC5zugh2nqrfoN0gkKhzjyhPRwSH7Xvtywl4O9VlIwSY9TNmS6OHaOBqQA1D1jt2nI9nq54OR90vPrVN6WUYyyYL3UQ1c+Yv+WtX47JBuGFas30ZVr07nezC1bqedtjzDx6rVGD6hcl9yPkNgiiz2yYTyMkWCP1QDdLEVu4ceP6E6QwAeFw/XOEbYuM4bH3FgIcXigzyDonLYt/+gOD3Qkars7mPF8LlwcFG3HBI1/UIw2rrIouWA0iT8uEIDJpu6FXUTGgS58g01QU30xwpgp2u4x6ljexI6wq02Eh5JXKnmHQ3w8jGV+DqOJ7OO5Gih1rZXelGE0Hj3bSpMqHMrz08q7ZYewGxrO0dpT+mjcbPiURxkHhUn1gSoN2kCTzd2XaZPKzZNFhaxz8rzsQSNCcF5enw3zZQeHiGO4tCkb0tVHAq9splayf6Pli0mRGbJB19dxnKj1NTU/NlZQ29HTdMcOz4sSKlcxDzisvylCKB7kyco2epPze9X1jJSrWAwMo5YtFmj0nf7cUdGxwA4Hyzs5cp4jZ500Oj1KPfyEkEgDPauXJT/VHqIU9f2Vn3zyifrkhA39zeZoLm2upCwcTfB3bryWlYnXwki+6REuev7559Wnyif2d0lzSPYNogFPYcWCw+2pY4FWoFeOPWY3tnvmDHJOSc7DWh0DTWz4hm+krjE1mUOh+yqOf+88vWo4PxyS9hvJzG+Aidzr1a7HvFj/9W2F5kV673/cxGVLCodHDB8T9aWwcHASYGGa4kE0hYR/A+xj0WGP7vTWcMcQYl+ryZ7rJOf+CUd+14HtNacAedlksz2Pbku53XLlIOZgbWu8dTabjsTt0g4SYtH+ndX+8QPCM9uXy3jHrvKy+2UiTJ0rSDB++umnxod2smC0kmY5z8U8+i1++HEBu0kGovg5YwYjwy9Mf+6559RU5RO7YARVjknw6/BDveNJ0I7LlhRO9QhGJp/OuAMWYWrADudXFjwoJSzadmWuXKBgZHt+k7b6tB/VZs91knP/BFPN16GWKLpg/Oyzz+QLyCuFp59+mp599lk1VflAMIKkUu22BJSfarPnOpV0/1TzdaglwtS5gnIYly1bpj5VBpW2vwDUCrg3QVRQZ7KU81zgOtQOBQnGpUuX0jPPPCN7GOyWTiK8X7x/vJ+8vwCA5FEJtgSUH9hzM6W+f3AdapOCQtKgvOB6gaSCuglA/uD+AaWm6CFpAAAAAABQ/UAwAgAAAAAAXyAYAQAAAACALxCMAAAAAADAFwjGGoXfnuJ8gTvDbwIZJfMbM/mhz4ZXytXQi9cBACCpfPnll/J5jPwQb37zSxyF18Xr5HUDAMFYS/Cr5pTQ41ftTexvzAi/3Hd26mRfieR+V/EUtUA0AgBAGWFB9/nnn8uHd8f5xhdeF6+T1w3RCCAYa4lVHTSihN7s2TZqOzubEX6V8r5LAAAATr744gv1qXjktQ1+17J0KPC7mjtp9LE1u1RwJM3fGVIK2OFyUvyvkTkvjOF7HceyNgG/KRIQjDVJmi5ID+OF3Ao31kWN7HV0hKZT1Ptklta9o8LQWhmsF6LzSBxvHwYAAJAPX3/9tfpUPPy2wcLM3TYECjUt4mUquSlTbliEGn7rmVZlIozw8thOpsQv3Bznc0c/0fGW7HSk44sXCMZag3sry1tohr2LV4laRAV03NjtwzTLXsfzHVSnZlnUUcf5bCjaLiN7nEsBAAAoLXGGob0I2oYeseISGLXSIl7uwhGwYExt0hT1qW9DMX2d+mmG5gM9n200fM+9Lbv0Utwuk7o9I4btqJLTNpcOCMYaQvZadszIii+FXnOvqIBTRDu8enNBPStnCe4RAgAAAEkgTSe5PTzbRF0bgryEE2KZQtq9fumcyfyOvYZBGDyw5W5jIRhrCKvXMkIdq9QMCYebbU+h+OzovZi9il4F3kYAAEgYt4aoYfC2mlikiUMN1NCgimv+0C01mQf6IMpihGlzMTk0WoQ0C8YK+Q7SunuiPdzTS0/uraNB8XtvQebtYQzX7vXRlP67q24/qBKUmXCzOLY3xmmXa5vd8z0lzwPVgWCsNWRI2n2T6cV0o3Oeh2lZVTBKGgAAEsftQSEKp7fSXPdmNWcFtQ3N0dwclzSdvn+OJj6256dp7fkGOji2KJeMijMkrYVpZf5dI3WNqelYMQg5n5CtnRvYQwNiWc15osLjA+Ib/r70njwlKDP7Xkcdb+2icZdXc7B+QHP4uEVm8YFgrDVkGNq+uWZpuN3nRnfg6iHZJaenBAAAoLxYHsNza9KaWLRYHDuoPIwpOvyemimxxOS+j1Ka5zEGjk6JtsJqa8qNnRvo5RX0/t47JL18eZjR33mEpO0cT25j5Tl075dbZBYfCMYaJn1C9Po2DtOuycYEPHoAAABALNx61yUGFR9P0LHXN9Fl28P4spqvsWbNTqK3bc9j+WiqL5UMCiIoNcud5uXGSvvK+Z3P00XSJ1ziUh8lHUqgFgcIxlpEJdO2kOi1HOkQN4M18CUO17bl8i9F/goAAAAjWw7JsLPRW/jyWlrDfz+epkmHqLS8ksfoTfHbM9S2Us0OiTOHUZQCUpXm5yfUpyC8PH/Ja4O4bQwb6k4dMQjMTAkSqMUDgrGmUEnCG1QybaaHo3pABx7IZzCaK7XLpW4Xl2vdcunH/5gBAAAA0djcPUdzzTezonFlM7XSYUpxSPo4Uetr1mxLLKbo4d45OtO+Qs0Lj/ExMJ4etOCnb7SIfetnJ4b47C2y/Dx/hjYo4LmPzmJ58RyevqCSt0Dm9tfUZvJ58vImev2muCz5qfZwpfv379P69evVFEg6uF4gqaBuApA/Ue8ffu9zKXj++efVp5DwIMsb24V4rBfip4fordJ6x9ird6F+JBFvMuN94cE24Z8mwoKxdOcsTJ2DhxEAAAAAoMjkhO21Yh5HUOhgm3iBh7GCwfUCSQV1E4D8iXr/fPrpp0V/28uSJUvoueeeU1Og2oCHEQAAAKhynnqq+E15KbYBkg1qAAAAAFDBLFu2TH0qHqXYBkg2EIwAAABABbN06VJ65pln6Omnn5ah47jgdfE6ed28DVDbIIexgsH1AkkFdROA/MH9A0oNchgBAAAAAEDBQDACAAAAAABfIBgBAAAAAIAvEIwAAAAAAMCXnEEvAAAAAACgtgga9IJR0hUMrhdIKqibAOQP7h9QasLUOYSkAQAAAACALxCMAAAAAADAFwhGAAAAAADgCwQjAAAAAADwBYIRAAAAAAD4AsEIAAAAAAB8gWAEAAAAAAC+FPwcxi+//JK++OIL+vrrr0lbVc2zZMkSeuqpp2jZsmW0dOlSNTde8KwukFRgS0AxKIVdTQKVev/UyvWpRor+HEauoJ9//jl99dVXMPAu+HzweeHzw+cpWaTp5PKT4v8sCxc7qfPiAtHjUercO0rik4KXXU7L3cVehpc/oa8pCgs0ureTRh+Lj9MnaXne6wkDb8t5zGZ4OcPxZkqYdQi085g+sZxOTluzS0bOdWQ8rqVdinr+/YEtAWFItl0tH0m5fwq+Ppl2QGsbYoTbOaPt04psB32JqY3Qj7Ho7V88FCQYuTcDgqn889RHU0+e0BO9nO+gOvVtMAahkiNmcmGh5fiNo5hvSudv8jE4ddRx3nWsmTIlzoQTkwGKKg4zYj0qLAoz2w1zrCnqNR6XKFfdR1ZaYEtAVFBnsiTxXPjtU352s/AOb92eEc3uzdJwu5jZPkyzmi0c2RPUskVrI5x2Ovy+OjA6AEpPQYKRXd9eNDQ0ZIo9rf91oy+vl6iY1sHFhOl7+7PXb3TCLMP4nadSkhVTLdQv/rXYlVdUxHm1TPFwic4QgjN1RFveUQw3pYCPr4Wmssvd20XjG8L29hSmmztTxHlrX0f1alHGaYCe0NRR9UVoFujG5ARNzEe9AsJ4bhinXff0Yw0SjT4Gd0e/WqY8JOUeAZUD6kyWJJ6LoH1qOzvrsJ29zeoLT+Lr8FptYSM9OCB+e+ABNbINDCviIrYRtKqDRgrYV2bhg3GaGHtQgnban4IEo5frm4XU3NxcpoRBX14vYUWZjWkdXEzrCfo+LpISYvMUYEK8OSp4VI63WDdLWV3qabp+XIjSIyk1LRA36sDZGboexePnvrkdxSxUC2HhYg91bRym4bstkbyMCxcHaebsAHWsUjPksRKNfxC0DoO32C76uSsxSblH8uLWkLQfDQ0HaeJjNS9feF2Dt9VELrcHG2jolppQ8LyDY4tqys0iTRzS94unxb4emhCf8sW9zgL5eIIONgyR86hv01DOPCcVXWdiJr9zUYy6kSV51ycbSh6st8SqFKnNvZb923Zdib4AJ0OJ2wgWqD37m2hYtGUtZfYyVt0oactw55a44XUWW2gWBUfvKKYckaPKq+crODSPpih5hWCTwMZ6h2fUHVppOa6+CMTy9jXOd4vz1iFDHN3zjWId4Tyi8/MT1FTv9NHW1TeF8FQ6r4OjJCDkUZFsOSRsQZpOv6ymi4UQk7vpMh3aoqbzYgW1DYlO8lCb+JRkNtOhm2vpXEziBYShtHVjYj/bO9v+RIwE5UU2lGwMO9vC8UkvFdR1drUROR7JCNEc6Qnd8IC6xT51cDRLeUNLnhOvqDrBqHsN7WLPjwtbLDL8t3JEoyuM+aSbHoQK2ZpFRjTR5/RsZW/YCeraINZXcEg0RduPiv3UvZyqZ7Y9E+qwj8N8zM78R1NpoX6DN9UztDLWJW9up4i0w8LXaTsvr4lsywO8na7L74thQH1COlwi5aWWAvYy2Z0+zRMiPVL2fNsL5fKWZDx1PH+IJsYOupb3Q3la1DayHj19fjgP22Jmuy4voH4MUhSpdb8yQPT2bsM2xLl4hehy92Y1HUDG65miw++pefr+a15M3kd939zTnnxo8Kwar411He3zKM9JGCG4so32rT9M77o8qiAibq91LHXDWt7t7Y6C025qIk3a2EbqGlPTMRFs37XiES3Lt41w50lm7b65/bO3c32b69woUbv9hvV9qYVj0QSjVSGtYqN/Lgb6NvWif+fGnq8LStNyjGlZxhaNXr9LDI/naaZ9F22zw5hKZNkhW9nj29AlqrCOt8iQoo/d8wWFMttomAVsDIMuWHBNkbpZuUhxrPcWbdFq7kF650waSphjVkbCmddon0+vXmzQ9xb19W00M+8U7AvzM9RWb0ouCBrV5yxJ8f7eHtxNdMnu+J2htpU8VzRUxyep9aY1P33qDu32CeFaDNDhj/aFXn5x7BhNvphW253LePR4/sO9an9uttLk8QDRI8TTMbVd9kC2XjumhJUQUFuzx2B5dJR351IP0WuX1W/sYxbcukkDr20lk1zc3D1HZ9o1nxCLNhaXartZz6e2DY0V32glujatjmWRpq8RtX4jyMd0RZzTrdZ+XtpEh0f5nHpdG/YWnqY75/l83aZ3X99El3UvlhCGZ+YOmY+tw/4dyAdOV2iYFtfJ7mjEVjd4+TStPe+XDpEnMmKlBqTEiMm+z55ty+nwy+Jh32NvIzzaP3s7XnmdQd8Xi6IJRsvgWcVG/1wM9G16FR1b/Lnnu6dtTMva+H2XGFbVU9PYON3IhKGtvD/bAydvnHvDogqbMfWuyiYu3InFCnkj8TFIsTaSzfELTYC4SkjYtm5PNzXt78mmFChvardxhJ/fqL7cEjxKsDRsbu6hgVfcnrlpEpKEmpWQWtG+j3ruPwoQFDvpdIfVYHIDuDNgedlIvp5y5RJyY3lF7o/sHG49LCSTP4sfTtKVjLdQ8+ZI8bcvKwZDsPjoDvU0h/QuPnpIdOpbRgFmZGWzOKOTNM1i1nV+vcmeU1q91jqnftdGiMI3X5ykVAN3Aszi0MjK1bTpvYf0kZoEYbE8gOfWiI6P7pWOtW5YInPfR+57pTyYO8tm7Lascf9ENjQeOge/MtqIYoAcxpoiRb1yNK1duQdpncMD54V1g9iJwnqReXehbjR3WLuA/En2lKqP8RPxkQkCZy6OOjZhl4uL61rmeFNN+IyS5hLaYJYImRs4R2/SMXkPFxL+crB+dda7ZUJ6vEQHsPmm3G5WsAqRZHsFuYTI9dp5KuupdHgM8+DOI39ZbMPiMhorqPlFoskPxfpZULzYHHhc+bLz5Z3qUwReXktr1EcQklvvauHmLMWoG2vWiGv69rlQKRo6OXazAPvD0ZWwsFg0tWUyOhVqH6K3EXZ6kn68nRfLPeY5OokWjGys2dDmoHIwTA1I1jhbxQaiUeEY4RXWAzdPD2iYBgyep9QRcYPcnQ/oUZnC2j7b5oeYum4uR+GweeYG5Fw/V4/P8b1Vwud6+PUe+XFETtyP1ckc21q1gIvgHBitBBmvvK6lxyjpMj+H0Y8V7WcofWqnJZikx0l5PASLY+doQArAFbR6/RV6+Ijncr7fgPzeze3Rw9zCqSmBjy2RgvVSD135iP1b1vplwxmSFas30ZVMOE9jy1bq8WpgbW+dmrSR65L7EYy+XQ6jm4SDG/YGbhLrvy3uk316eFt5qvxyDtmTKoWE57URiPOc+mgfnRnaR/RKmDxSxceP6E6QwAe5qM6W2/tXjLpxTHTponaGjHbTJ4QbZDfDewqtqJopEhOuLWOitRFeo6pH9nh4RIPaP0cpxWChLEURjFxR2QjbJQh9Wb3o34XF/XuTeLRx76f9Gy/cy5pKdVJP66iLegzh5/QJcYO4R4UVSma0WpjCXrXgkGu0XA+VV2JYT6EDQ+LPgaleZP6Vuq9S11rpTdlYcT5cK01uzc5Pq5CbHcJuaDhHa0/puVhX6LBankcZO/L9DMhBGWq7DdpAk83dl2kTh6rt71RDbC3PIWe1HVtciUb78vrDlLKXzwwCEcfAeX9qnxxiTIYA7d9og0mkyLwZTmhp22WRdvk1NZ+FNK9XG1iTFcqbaas4O7vF/+HCldlzGnhtZN7cHRXC3kzf4tzGUIOPxLkVYnRT2FA8yIHzW6Wn3BaNsdUNFospmdMbdD/FQXx20zA4UhGtLSteGxG9/SsdS36qPSwp6vsrP/nkE/UpGK6AtkAzibc44W2YCLPdYu3n888/rz7FR5zvkubHw4jmlkZeuEGdbxANGCo99/JaXI+N4bzH/HPeuKcmGva3RqjjoehV3dheRJHE27pA9eeDbjBezn+EXt/VEAKUH6WgzuO8OG882q2kCcra9rNXh0PShh6wDSebx3T+i2lLosEN2zFxbIWFg5MAC1Nu5B05adUMC01hb970Cf0Xw64mgeTcP4UR+fqwd022A/XZtiFyHnowhbVlMbURJW3/gglT5woSjJ9++ikenhoCfiH7c889p6biI07BCECcJMeWVI9gZNjrerM5O3K7emGP103a6jF6mimWXU0C1dAWV/P1qUbC1LmCQtJPPVV1Y2aKAs4TAP4U7x7hkZzVIRYZDjFWv1hkNtMhH7HIwK5mSeK5wPWpPgq6osuWLVOfgB84TwD4g3sERAV1JksSzwWuT/VRkGBcunQpPfPMM/T0009L9zPIwueDzwufHz5PAABvYEtAGGBXzSTl/sH1qW4KymEE5QXXCyQV1E0A8gf3Dyg1Rc9hBAAAAAAA1Q8EIwAAAAAA8AWCEQAAAAAA+ALBCAAAAAAAfIFgrEn4CfOG91LuHRXfhMHj93YJvZ4s/OT9cO97TtNJuX7eh04afaxmGzC/fzT77k3TNvmNN7m/cZZOwysSrXOS+15PXp/puMIfb0T4TQnytVfB5wcAAHS+/PJL+uyzz+SDwPntMXEUXhevk9cNKhsIxpqDhUQjPThgeC/lgQfUGFrs5fcuTS8BZUIXfGaRFgy/oim7b1PUp+Z74Xwp/iwNt4uZ7cM0m5nHL423j45ftWfvI78qqp9aMtNFEoQKk7AN3B6/LtD1G73ke44BAJUPC7rPP/+cvvrqq1jfGsPr4nXyuiEaKxsIRpBMpk9SC00pkTZFTft7SuotswSZEIEbp2hqYxc1sqjKeWF9ino1IekuxX53NL/7NNL2VnXQiLa8XmbPtqmFAADVhx2Z8eaLL75Qn4qHexvOjq8zIlJIFCbzW+4k5xHx8oP32dm5dkZzcr/XMO5P5USDIBhrjjrqOD9L697JepYy5Z11NOvjHXQyQV0bDOuQJTc0qzMzH3z7pm/M0HCn/SL2FL16lmj8gzhvexN841rH0Di5S3oVZ+sHabDeEmZTQsIaj8/luQtr5Pp3ZH/jLP7nDwAAnGRtl6NEEEtff/21+lQ89G2wsGqc7852XO/tovENUYST6ZiDbadTpLpLEYQbpwnZ69/QRRNjygEhS2XZegjGmoRFo9PDJEtosej8PXunnN6uXiHxTCzQjckJmpifV9NeLND8XfVRY2J/o7jBWqhfTceBJdpsI6Edl+FcpI4Yjo/F4oZx2pUJz08RiXUGicbsukzF6/w5sc5HZRoeAECcGGz6vWFq21gf0qZboWMHt4aoYfC2moiH7Da4LWiiqSOapVvVQQORHQPu1Khg2+lMO9KLSkGKm+Zew7bsEs7WJwUIxhpCzwkMLDnhVwvTOhr3CxHoEC+quNfx+AaNbxym4bvX8xI3ligNzkPUcXrxcsWmleM4Qh2r8ju2hQ/Gic4OyN9bpKj3ah/138geob0PcecIeor04+wJ5ZxKNQ0AqDnYNjVtqyQ5Ujk424QwtlbPd1fFo41NMhCMNYS/V8tV9J6fRv7rWKDRN8ZpV2cHdRwgavG9WeqofqP6qNFUH7avbGHeV+8eXRznx4Q98IYHy8Qh2gM5yrmfReotAwAqgDRd2N9E2wvOo35EE4caqKFBFM3buDh20Jqnz2ePZMMQWVOL8ncHxxblVC51tK11xtkOPB6lnv1Eu16IYuddqVElEmHOznqurbUFpR1pSp9oIXIMwLTSnfLN0SwXEIw1h0eui10i5LwYxY/HDZs+0UjjrcoT19wrbxa/m7u+nqhrxP4+LuMXBkNPUC+u81P3wi4ix4Ac8fsd/dTn0bMvliiNg6iCHACQTCyB4uocZ3LnIqSvvD0pOqBzNDeXptP3z9HEx2LexxN07Forpefs+btp6JaYv+UQpU/doXMsEm+9S4fXX6Yz7SvkakxwaFi2A7Ztlak9VrQnPK6QtGYzZWSHcwbVdCmxBaU9EDF1xEpV0tsSzt/MDlS0hW+yU4sgGGsOj/xFWcKGey3RaQ8G0YscGOISgiwsedns42gsY8HLeoVp7e+tm8tg/MISeZScz8hnzglSS2XgkccyWds2BFZPMmjEMp+TQnuXOaHyAnrX8/PlMKsAgLjhQR38hIkcG5R5PFgEW/raPmpbyR9W0Or1V+jhI6LFD4WIfLFZzLHmt+3toTuPLE/iivY3qfVaihpeIbrcvVnO88OZTxhVLPojIzsmmx0D0UPSql3h/bGvg8MhYAvfPNu5EgHBWHP4eRjDDiiZpwdjfdStCUAb7kn1HXfmKLJXTReLNl7zbXRvXOAjY/KA1x/Lel2PqynGvroxJm57eiQDvMqitBwvXq4lAKAUWPd5Dw2UPDrhZCftfFl9rDiaqD5AtBptr4/YdYzKzhklXbjjoJRAMNYk+T10O0s9rWvvp0GDsOBQSP/R7YnuJdUefl7l3OIn4gEACUQ+2quH6K1i3b+36ebbPbR1C9GK1ZvoyrVpsnyKizRxfoA2rbb8jbcHU/Rw7xk6s5dod5gR1pk3U+VL7uPd8hdg7AhRHwPh1KVw4WOzwMyWUjgY4gKCsSbxe4ZimOdQWQKkez539LB82HZZe7cGXD06RynIWBWGcwS3XvCIHABABGSUI96QruTt3Wpwy26iS4dIBpk5V/HFSUrJ+SmafDFNh4SQ5IEwu++fpm+Jz7TlWzK3sZDH8gRHgMwdYc/fuJ6Xm1s4wma/rSv/5zGyQDSJdu80JD6OIly7IrDkp9rDl+7fv0/r169XUyDp4HqBpIK6CUD+xH//8Jte5ulVnwgSv/e5FDz//PPqk4A9jDe2x+5kYHF2fZsQj2uFSHyDaCD0M4bDwh7G67Q9Qs5hZp8S6lEMU+fgYQQAAABAeZDPjXV7+1QpYwQoGNsbaSgeAy29o0qVkcsID2MFg+sFkgrqJgD5U47759NPP81920vMLFmyhJ577jk1BZIEPIwAAAAACOSpp4ovB0qxDVA8cPUAAACAGmfZsmXqU/EoxTZA8YBgBAAAAGqcpUuX0jPPPENPP/20DB3HBa+L18nr5m2AygU5jBUMrhdIKqibAOQP7h9QapDDCAAAAAAACgaCEQAAAAAA+ALBCAAAAAAAfIFgrDmsF9SbHhwqi8cDR03wS9U7c94nzW8U8FoHPx3fsM1EP5wVAAAAABCMNYf5/ZtWmaI+tZQn2vs4G/dP0MT+7Puk/Z9Uz2Kxhehq7nanqAWiEQAAAEgwEIw1h5+HkV++HoB8yb0l9GbPtlHb2dmM8EvqOzIBAAAAUBgQjDVJGw3fc3r5MiX0S9rTdEF6GC+ITy7GuqiRBagjNJ2i3ieztO4dt0hdToP1QnTG/PJ5AAAAAMQHBGNNMkFdG3KFm1U6afSxWsyL6ZNiuRaaYe/iVZIvYHeEo9uHadYoPs3h8JE94SQqAAAAAMoDBGPN4ZfDyGWEOlapRQ3wQJflO2akh1IKveZe8Zspoh3LDQNgmIBBNq5iXgcAAAAAygne9FLBRL1e6RPLqeW4mgji6BTCxCBvYEsAyB/cP6DU4E0vwEHqiMmj6FH8xKIMSZs9hFY5mZvX6PVIHbtglDQAAACQWCAYa44YnsMow9C2uJyl4XZyjJZ+8qSXzHKzj6Yyy2jlauDDfAAAAABQRiAYa44Cn8PoIn2ikbo2DtOuycaA5zACAAAAoFKBYKw5CnwOo416gHcLca5jhxCh1sCXKG+K8UIOrDGGtQEAAABQDiAYaxKP0DCXwOcwKsG5YZx28bMcM7mO/JxFMX3ggXwGo3m0c798BE+OUN3hlKl1e0bEvniFtQEAAABQajBKuoLJ73qx4GukrjE1mQM/1Nv/0ToABAFbAkD+4P4BpQajpIGBwp7DCAAAAIDaA4IRAAAAAAD4AsEIAAAAAAB8gWAEAAAAAAC+QDACAAAAAABfIBgBAAAAAIAvEIwAAAAAAMCXnOcwAgAAAACA2iLoOYx4cHcFg+sFkgrqJgD5g/sHlJowdQ4haQAAAAAA4AsEIwAAAAAA8AWCEQAAAAAA+ALBCAAAAAAAfIFgBAAAAAAAvkAwAgAAAAAAXyAYAQAAAACAL3gOYwWD6wWSSj5188svv6QvvviCvvrqKzUHgCzPP/+8+lT9wLaDUpP85zBOn6Tly5fTyWk1LUnTSTGv8+KCmgalQ5z7vaMU9cynT7ivYQCPR6kzj+2Y8d/nhYudxn1Ln+ik0cdqIhILNLpX/Zbr74m0Nbso8LaWy3vEXE6Kow9DKfc5P1gs/vVf/zXEIgB5E2AvXHaSbaNxuYx94LY4jI2x2mzjurjEYusDthFo0zx+73usAduUxeP8CDubq2HE+oznQrPPCScGwRjxpCqRKMuOfjmrf4e9XGWctEqHBV7mGoQUD5F+w4LQXlYv+RgOr3UVva4Y6nWI/Xecp5wSVuDZ1FHH+Sf05ImpTFGfWiqD6VyFvL7lhj2LX3/9tZoCAORHGw3fM9kLUc53CIuSpW7PiPpulobb+2jKXu5ISi0RlhT12r91l3vDYo9ceNp0reTY2ojbMKIdI5erORbUhWubavm+q9q8J71iKQuHABfaZmJ/o8/xVCYxCEbnSZ09a126trOzxpNKzb3afHcZoY5VajlQFLhSt9BU5pxPiakgb67pN4FCpH2YZtXymeIyWKFY1UEj6vdct7L1KkxdWaAbkxPUfyNf0eQyMCH2P3VEW95RDAIvCF/D2kL97euoXi0q0c6VLIEGMTnAswhAHExQ1waTvRDFy2Y/vkHjY/10XUZidC+lsDFygQLZWO+0myY75W4vcmytj2NqQ5c46mKitr1jhoavDtOMdHDlOiyyAtxQ8mn7Eki8IWnRwPXsty7dxP4eXw9QjiemShR4sknThf1NNKX1IFNHpqhp/wUfz5f5N33Hr/v8JiFMX6Au0fdsOz5YmZ5rt2F1lDwEKCgOt4aooaFBlIM08bGaly+8rsHbaiKX24MNNHRLTSh43sGxRTXlw8cTdPDQBIVYMhKLYwfDbR+UAB8Po9FzKATiG13UdLSP+ndwBESPapTCxggxJoRYm7DUjYHREFcHXi+RvaIhyERDW4ikV7GbHux4QN28vXu7aFwJc7fDxaFtQusaH6GfIG0Um2CU7lih9Mn2AF1tkifA5L3iE9pyXL/4omKOOSuM7c6NlBsH/Hk8TzNur5SYWtc+Q/O2oOLrICuqCp+G+U2JmJ+foIn5eTUVAN/sO4imzo/QiLy58wlh91OLduMmLq/W3XN3eyRVygcoMlsO0dxcmk6/rKaLhRCTu+kyHdqipv1gcSiF520aKoJIBEnFR3gYc/QaqWvjFPUe6aXZszPC3sWc6vPwgbf3TwqyQVp3T9hoIVJn6wfFtN/2nfbY/9jyQa3fFmhaNLS3WS6QRevMj+zJWmGpbbRo3GzrODUGCj6/1CNREuSdLFgw2mq6cb5bHlzm5KmT3T2v4vgRc6ns0GPOhQLFJRMa0NIIEkGart/to767Bm+hS+TKzss768RxqGOQN7foHUYWjc4ebdYwKKNcREGW44HPKS3Uf7zF+qzfW+7QTqbnXfx9jh8hdqTnzuW9YzGUmT8klmIWaeKQtkzGU8fzh2hi7KBreT/4N/b6dY+ePj+cN5G9b/Z6HF44/RikoFPrfmWA6O3dhm2Ic/EK0eXuzWo6mE1r1ojtPKI761fTCjWPmR7Ut6vIeElFyXg4nefB6fnMXpvU61fUPEa/ZtlzLT2jY9ljDvRI8v5A6EYkQHg4bDqHnltohttZZSNkSJUdPW+E9WgFDLLhwvZG2Sm7w52xbTe2i33KphZZIV1R/9+wvnc6i3xyGGUJ0165BGeOLVT2ngWaMR2IQ/Qm0Wq3K6KNYkeY5u2s2zNAwzRON+x2x+2QqTAKFoyZnC37JCk3rn2xc74X8Lypo/qJFxfiqFDl2jKgCKyqp6axB+T00c3Tg7EmqvfKB8znN0UgfaKF6EAv9R4wGDSXyJWGJ6dXxgYna5xSRwrJl1VhnyLmCHrnQhpKqPum+PscN7cHdxNdmqO5OS5nqG0lzxUi5vgktd605qdP3aHdPiFciwE6/NG+0Msvjh2jyRfTartzGY8ez3+4V+3PzVaaPB4gaIQoPKa2yx7I1mvHlAAUompr9hjmhtqEoFtBbUPi86Ueotcuq9/Yxyy4dZMGXttKJrm4uXuOzrRnJaEUqVsP08DrKfn3CgtQW3y9d5geNlv7c5omadren/NrKS23OUeXabcSyWqf1P6fvn9O7T8Lyey1SZ/ayTMltwfP0Vr7uC6R41wPXCN6k+ffPE10bdr/3LHXdu9DSoUS+CC4g6kV2cG0xKXuHZOwoye0R8ssUKeOmsPi9rZyNAGLs4wXLrtOy1kUQpRqxTsK5CE4vWynbzqQu0RoSxxtVVzHVjrizWGMQE6DmLlw1oXNqcggBlL0KocdNI8UC7GZs6+Kb7zI5zfxwh5DdvNLAyIMmnTzh/BY+xvRmEMvYcgJ7QcRYFASlNtSDDY399DAK27P3LSQOa3UrITUivZ91HP/kb/4oJ10usOSWiu+0Uo7A5bnZYjFlkNYLtL0tStyf6T3jIWY+saLxQ8nLbEmvWopOvye+kKKv31ZMRiCxUd3qKc5nHdxRfsZKeJ6WNAJAbrzlBC/UpQKXj5N35ICeAWtXn+FHj4SH3l/hJBMKe/f7rf5e4ush1Tbf/qIHgq5aa1H5zbdfPsKHd6qzhF7SzV69qp9WNlGZ+z98YNF4821dC6O3NAqp+AOpv70kox9madXQ3nuikmQ19RZ4tYNMlrlPi9acXtBt7MjTGubFi72UBftom1GQVneY8uHsglGtycyizUiKXH5YlUCe9/kKGdV4VmIBVXEfH6Tdb07S9TryjesTHfQjJy9P0Hr8jOiU0fVQr64ww8FiEzOBVUfw+NnUDwS0g3nvfNiyLzPpCFzA+foTTomBYh7sEfeuEK0ObCgYU9Y80253axgFcLT9p5xCSF6pFizl9c9hnlw55G/LLawwsgcJpbiVoi2Kzni10DGq2kV6VVlD+nrm+iynKflaHKYW33MpUctr0qEELqRlatpk5Dmh0fhZwzGZyQxF48OZjaFx2VjDjwQtiQpodOAYwvhQGD4WKO0QVaY/P/f3v2ERnXtcQD/oUSFSBEkiDROzELBZlEIGJrA04WCBiESRNuF1EXx8YSQ0IZSaNCFkoKLVBIChUoWShZFCWKgxEJcxEWUCAEXPkEXMX8eUoIoVSGokXd+55x759yZc//OTHJn5vspx965mZl7ZyY587u/3zn35rwvutm+Q/g7x/yu3DNxnJ6FZmw5MbAOCYwECgsYbXV+PS4ge25Fp9nfkPz7FWkqP/jyBFJ+KfkcsR4TkM6Pe5Qk/2At2+P9Ke0Rl62EEVB6sB2hm41P/RB7/EpQhtHyd+Lzvo9+Ey+vmTZOxkwGTBxA/OmUUjkDdpUGZABoZMy4xJqT3XLM3uwh4rF9Dj12zxqMcsB6o5fuLC6KG+r5Jx5ECdqUunoR6thKr/vbqPeKU97NUZ+xZkDlc8n9CKPKyGPfq+DWzTQGBW68zSvT9tLvsQzJd4szu06G0fwMZFDp5Fp3UebYAE0XK7CXn800tRUj8KwKAeP8fM9VyKceIxr5xRLUtH5LI8We3GjrJz19o9nMfjLJa4uDn7842VTPd2WKJqwUQ2EBYxHq/N6TYHLD6UKqTfKrrqRI4PlFc5vqmPhoN/wsANFPxFtpeKKEKoc2Usvddroox+k1UxePH9RlT14/o4MJp4Td2HiVMr/2ynVKtkzKs4zN8X425kSVRmOiSXP3GDVxts75mc7aqftzyVZvxxkvKALOsb3ZUm92Eoh4DTeasqVbc3LHzlZqJ+cxRilWBpk+QV2eZVp6qpY4xszUq2VfOzvoIo/tdPdTb9fcl36i9u/V3T3737ZAZ3ncpSSC1b5BeuyU7UVLfLodDhbluMou67hNKJYddKCd7BNd+LRkxR6rnqCfVAIyjCU/DyM41u9a0nykETBjk2dJp6Fmn2bF/7zEHyWPW4kZiPBYwakDMWa0c2b6Z6IBuZ1k28xKus+naf50kokvnPUTX5C/iMcuiN9hnukXMUvrxc9znRquBR3V8n32iE5b37TgA67w971Y+xxd3N/Nly9f6qVi4xLtBaK+wsrBacCBaQtPoqnSbBuuJV0AT59rYfs+5gkaCfrl5H1rkEK/JxQ5xEmfK9omWn+qxP7e830NIf18ws8hrii/c+sXMELBKuLzEh3V6flvq+/ggDvw0QYaLXHgtl4QMJYGZ12nW7Mzt6sJAsZqJoKtwOFqfEqc9Z6gU94QMFY4fF6QVnF/N7kE9eHDB30LIB8CRoDSifI7t36zpAEAtM2bN+slAABIIwSMALDuOGCsra2lmpoa2rAB3RIAQNqgJF3G8HlBWuF3EyA5/P3AWkNJGgAAAAAKhoARAAAAAAIhYAQAAACAQAgYAQAAACAQJr2UsfX7vJKemd7n5Kt9k6W98ojPVQ78z9TP+zlFB40TwfIVAnppgEb/dS/4igkG9zGek5IHXLHA5+pHca4+kBZxfzdLd+JusOHZ6DwzHaczSqdi9u1uP5cJudpLEpa+1dPvBV5hxrgClXFVGHu/CaWGSS8Qiv84T/+RdxXRCOJe45iDsCHabXnMs4Yh+uxy9jLzfrjjs15L1GjutZm5o3LW513c3ryofZEZ2+VLUI3/e4/eprFvNjJYJJrMeW/42up0JOSxADHxSdLfvn1LKysreg2UNw6+nP7NaeH9HPf/3seYrRTX+OfvAef5OekwTt/ty24T/Vy6IWCsan/TvQkR1MzP69vp1vKTGUg9o5FOlX0zAyw3E/f5SRo11nub/RJS2YCUs6CX6LDTsZ25SZHfIWO7z37vkNdEd7ZbbllCqHzv37/XS1D+cg/iwy+Vt+ObUeP+ZlP9a/G10I/W7amGPjLdEDBWsb//6KXvvhihkf8eTpBl9B4ZepvtyJY7im56bnnMnvnu2CVpue+ig3x0JPgoODcrGfQ6vQGp0a6dpAZ9n+hm6LrMMF7Pfy+cbKcIRN29af2R/nmym4aMfVVNZWXRkUIprK6u6iWAhDzVG1VZCZNfLSph1QeKBgFjVVJlARWonaST1/6h7nkunUb9o90hH2MNrmTzO7L1ObqMFSyq0ovc92ujNOoEoZaSNpdbhhqyGT5u/DrNsselIzmdlVnKTlqS4fLyZ4fpEWcX/yKZqfSUWniMJ+9PbunemhX1ju+pDrM03Dgs/nUs03hXIzV2jYslsOP37ByNv9A3tdmhRhp+qG9YfPr0SS9B+cs5iI8wzKconP5MN66seDgBpbM/on88TJNGHycaHyyv1f5CYggYq4ozfoQndIg/UiNQU9m1gzQlf+4fOEYZR+g22QHYxtb4N98MoBvI8SBpc991EHpgSj2HmbWLQJW0nQBXvD/7btNxt6zDwWi8I185JujII1kakoO2OXOoxyFaX5snQA1rpRhTVA7qqGN4juaGO8QSxNHcPUOZa/mBJFSinJK00b/LA2Mey61vryknoHT2R/SJkyJk9PRt+55Tt7G/zthvjGlMFwSMVcXJ8IVlAP3HvviWbW1NdgBh2Uhv850Z52bfshk3Dl7dDkUGZuLnRtaOx+eozGm2Y+KMo29593/z9KjzOB1wM3otdLDvEk3pbchOLKTTVWOCcrOC6n1Vr00sm5nFwLGWua2ys43Lt85RY2OjaCdoQK9zs4u8fsjIOYr7nruVzTfm3s7zYpzODY1nn8vIVma3y01nNvn+ZkYz93ZUcrvDNCz3X2/ffR7jtRnZwdkhsXxr2N0nJ0PoyRZG3h8RbJ9pop6b2fcOqo88MH4yIkLKEkhQklbfIzxO0glyvd85zthvDMVJFwSMkJg12+hbVjBnx1laicoRuQGuGZDyzzwd0ucN9OWt23TPzeLN0FT/eTqo7yM7sSidrixJW16j2yxZy5DHVPyR9sNharnbTjNzczQ3N0a9erWbXbyRXcPqvmonunvfDbzu3yVq/yok/3ilhxbO8PPP0CBN0H0doNV1/ibW8fo5mvn1MV3lwHNnK7Ub91l+MEF0qDVZhvPKY8pMi9ckty/+/+cCLYrVy7cu6P0RbVpsrd8JAO9Qz92Mei/E6x64HyXYa6auud+oY6e+adr/NQ0+vYosI8T0JTWEHaD6HPD6Hvh7Kir5s6TXrIwOiSBghARUmTl3fCA3WWqw/tE72UtLK9WRL+NAzKcT8mQoJbGPT47TbbcD4wkn/tlWX062UzY129CcLe2bweXzUbr3ybbJPv3zCra89Jh6z8QoOZsB3Yv7YqmdWm3BkunYIH29nxfqqH7vHVpYkmtVtk5n81p+uKNX1lHrIaKJBxzCRQxI/RzT++Zun/Fz3qGBUzrD2NYjwsQs972oz9DRp0s6kEwq5/VChcqfiJj8QHOenvudZ9civy/1EVZRMcrSkD4IGKtI/PGHfrgzOU/dlqPIlp8m6Xz/lGXcX0CGMXRsjX0c5OF+Z9KKt+WNFezPGS+jGz8+j6dDK7wEPHNZHEV/MULHJ7yTbcBrcdEMl6IwArqlheTZPxGKjff3UNMNJ8N4VK8XW3CzmIu0ECUgje0oDU7rDCO3ko7RPEqZer0IFcg+9Md/+E3Y2Gnz1GIFjJ3m/tR2Xt6AA3ke1uOboYR1hYCxisQff+ingXZ3XqIhyySOmcuio+k76JOVO285MbVugdsrcBzkemTudIcsZwPKmehq4kvcSTk26mS78SbjpN2uXUfd0uvskDmG0V9d51lqWlykWRGIn+00Q624s6qdYEpl/Vw7O+js3gVafDhNFDH7qcZDRplkorJ+KoMZDb9Hj5dUxpOD3Ogh9jItPW2i+qIHvFC2MHYaEkDACAmoAC53Qgk3FSD5BX/GybDzWgkDoDgZxoLpbKgz29p9L3RJ/j/P5QBx64zpiPupJtYkKJWnWF3nRRp8ekKWZ6/uGqPBY/oH8nQxIvg7JULIK+rn2dPENFMbnRD/tYmlpFSmsqeNS8MXiA55x0o2txKdOEXU5paSi6e5e4yafmhRJWluxqQeG5nxlPdvoYVDgyLMjYhL9nsLeY8AwtmqPar5ZCh9+jvZMJYxlXAt6TKGzwvSCteSTgvOtopAuM9nQoywfft2vQRpgb4d1hquJQ0AUMVmh1po4Yx/sAgAEBUCRgCACtXcPUddAeX0DRvwFQAA0aC3AACoUhs3btRLAADBEDACAFSpTZs26SUAgGAIGAEAqkxNTQ1t3bqVtmzZotcAAATDLOkyhs8L0gq/mwDJ4e8H1lrsWdI8nuXjx4/6FgAAAABUMo77ooxn9gSMtbW19ObNG30LAAAAACoZx30c/4XxBIzbtm2TJ9BdWVnRawAAAACgEnG8x3Efx39hPAEjD4Cuq6ujpaUlevXqFcrTAAAAABWG4zuO8zje47gvygQ4z6QXB0ecr1+/pnfv3tHq6qpeCwAAAADljscschmaM4tRz5ZgDRgBAAAAABw4DyMAAAAABELACAAAAACBEDACAAAAQCAEjAAAAAAQCAEjAAAAAARCwAgAAAAAgRAwAgAAAEAgBIwAAAAAEAgBIwAAAAAEQsAIAAAAAIEQMAIAAABAAKL/AyIac47LWygrAAAAAElFTkSuQmCC)\n",
    "\n",
    "출처 : https://pythonblog.co.kr/coding/11/#google_vignette/"
   ]
  },
  {
   "cell_type": "code",
   "execution_count": 30,
   "metadata": {},
   "outputs": [
    {
     "name": "stdout",
     "output_type": "stream",
     "text": [
      "네이버 스포츠 뉴스\n",
      "link2\n",
      "인터넷 링크를 작성하는 방법은\n",
      "네이버 스포츠 뉴스와\n",
      "다음 스포츠 뉴스처럼\n",
      "HTML 링크로 작성할 수 있습니다.\n",
      "\n"
     ]
    }
   ],
   "source": [
    "# 첫 번째 <p> 태그 내부에 있는 id='link1' 요소의 텍스트 출력\n",
    "print(soup.select_one('p > #link1').text)\n",
    "\n",
    "# 두 번째 <a> 태그의 'id' 속성 값을 가져와 출력\n",
    "print(soup.select('a')[1].get('id'))\n",
    "\n",
    "# 두 번째 <p> 태그의 텍스트 내용을 출력\n",
    "print(soup.select('p')[1].text)"
   ]
  },
  {
   "cell_type": "markdown",
   "metadata": {},
   "source": [
    "<hr>"
   ]
  },
  {
   "cell_type": "markdown",
   "metadata": {},
   "source": [
    "# Requests,Urllib\n",
    "\n",
    "### 2-1. robots.txt로 확인\n",
    "\n",
    "- 네이버 뉴스의 크롤링 가능 여부 : https://news.naver.com/robots.txt"
   ]
  },
  {
   "cell_type": "code",
   "execution_count": 1,
   "metadata": {},
   "outputs": [
    {
     "name": "stdout",
     "output_type": "stream",
     "text": [
      "User-agent: Yeti\n",
      "Allow: /main/imagemontage\n",
      "Disallow: /\n",
      "\n",
      "User-Agent: facebookexternalhit\n",
      "Disallow: /*/template\n",
      "\n",
      "User-Agent: Twitterbot\n",
      "Disallow: /*/template\n",
      "\n",
      "User-agent: *\n",
      "Disallow: /\n",
      "\n"
     ]
    }
   ],
   "source": [
    "import requests\n",
    "\n",
    "# 로봇 배제 기준 확인(robots.txt 파일 가져오기)\n",
    "resp = requests.get('https://news.naver.com/robots.txt')\n",
    "print(resp.text)"
   ]
  },
  {
   "cell_type": "markdown",
   "metadata": {},
   "source": [
    "- 3가지의 User-Agent 제외하고 모든 부분에 대해 허용"
   ]
  },
  {
   "cell_type": "markdown",
   "metadata": {},
   "source": [
    "### 2-2. Requests\n",
    "\n",
    "- 데이터 전송시 딕셔너리 형태로 주고 받기에 별도로 디코딩 과정이 필요 없음\n",
    "- get 메소드로 해당 웹 페이지 정보 읽기 가능\n",
    "- 수신한 HTML 문서에 대한 encoding이나 headers 정보를 간단하게 파악 가능\n",
    "- 모든 텍스트 정보를 확인하기 위해 간단하게 text 메서드 활용"
   ]
  },
  {
   "cell_type": "code",
   "execution_count": 3,
   "metadata": {},
   "outputs": [
    {
     "name": "stdout",
     "output_type": "stream",
     "text": [
      "Encoding :  utf-8\n",
      "Expires: None\n",
      "Content-Type: text/html;charset=utf-8\n",
      "\n",
      "Headers:\n",
      "{'date': 'Tue, 17 Dec 2024 10:58:03 GMT', 'cache-control': 'no-cache, no-store', 'x-xss-protection': '1; mode=block', 'x-content-type-options': 'nosniff', 'x-frame-options': 'SAMEORIGIN', 'content-language': 'ko-KR', 'vary': 'Accept-Encoding', 'content-encoding': 'gzip', 'access-control-allow-credentials': 'true', 'access-control-allow-headers': 'accept, content-type', 'access-control-allow-methods': 'GET, POST', 'content-length': '40563', 'content-type': 'text/html;charset=utf-8', 'referrer-policy': 'unsafe-url', 'server': 'nfront'}\n"
     ]
    }
   ],
   "source": [
    "import requests\n",
    "\n",
    "# 웹 페이지에 GET 요청을 보냄\n",
    "r = requests.get('https://news.naver.com/')\n",
    "\n",
    "# 인코딩 방식 출력\n",
    "print('Encoding : ', r.encoding)\n",
    "\n",
    "# 헤더에서 'Expires' 정보 출력\n",
    "print('Expires:', r.headers.get('Expires'))\n",
    "\n",
    "# 헤더에서 'Content-Type' 정보 출력\n",
    "print('Content-Type:', r.headers.get('Content-Type'))\n",
    "\n",
    "# 전체 헤더 정보 출력\n",
    "print('\\nHeaders:')\n",
    "print(r.headers)"
   ]
  },
  {
   "cell_type": "markdown",
   "metadata": {},
   "source": [
    "- 본인의 개인 블로그에 접근하는 방법\n",
    "- 아이디와 패스워드 입력\n",
    "\n",
    "- requests + bs4의 select활용"
   ]
  },
  {
   "cell_type": "code",
   "execution_count": 7,
   "metadata": {},
   "outputs": [
    {
     "name": "stdout",
     "output_type": "stream",
     "text": [
      "\n",
      "!\n",
      "\"class\"\n",
      "\"p\"\n",
      "'''<p class='para'>빅데이터 분석과 활용</p>'''\n",
      "'html.parser'\n",
      "1. HTML 구조의 이해\n",
      "2.HTML 문서의 사례와 텍스트 추출\n",
      "3. 웹크롤링 방법 사례\n",
      "<html><head><title>웹크롤링 연습</title></head><body><p class=\"title\"><b><h1>HTML 연습</h1></b></p><p class=\"link\">인터넷 링크를 작성하는 방법은<a class=\"blog\" href='https://ai-bigdataanalysis.blogspot.com/' id=\"link1\">인공지능 기반 덱스트 데이터 분석 블로그</a>와<a class=\"wikidocs\" href=\"https://wikidocs.net/book/6280\" id=\"link2\">인공지능 기반 빅데이터 자연어 처리와 통계 분석</a>처럼HTML 링크로 작성할 수 있습니다.</p><p class=\"story\">그리고 HTML 문서는 글자의 크기도 조정 가능해서<h2>크게</h2>작성할 수도 있고, <h4>작게</h4> 작성할 수도 있습니다.</p></body></html>위에 있는 소스코드로 작성된 HTML 파일을 웹브라우저로 열면 아래와 같은 형태의 웹페이지로 출력됨을 알 수 있다. 특히 여기서 인공지능 기반 덱스트 데이터 분석 블로그와 인공지능 기반 빅데이터 자연어 처리와 통계 분석의 경우는 a 태그에서 href 속성을 이용한 링크로 연결되어 다른 웹페이지로 이동할 수 있다.\n",
      "HTML은 웹 문서를 만들기 위하여 사용하는 기본적인 웹 언어의 한 종류이다. 하이퍼텍스트를 작성하기 위해 개발되었으며 인터넷 서비스의 하나인 월드와이드웹(WWW)을 통해서 볼 수 있는 문서를 만들 때 사용하는 웹 언어의 한 종류이다. 특히 인터넷에서 웹을 통해 접근되는 대부분의 웹 페이지들은 HTML로 작성되는데 문서의 글자 크기, 글자색, 글자모양, 그래픽, 문서이동(하이퍼링크) 등을 정의하는 명령어들이 있다. HTML에서 사용하는 명령어는 태그(tag)라고 하는데 꺽쇠괄호'<>'를 사용하여 나타낸다. HTML 문서는 크게 Head 부분과 Body로 나누어지는데 Head 부분에는 문서의 제목을 포함한 기본적인 정보들을 포함하고 있으며 Body 부분에는 실제 웹 페이지에 나타나는 본문 내용으로 구성된다. 그래서 이러한 구조를 간단하게 요약해서 표기하면 아래와 같은 그림으로 표현할 수 있다.\n",
      "as\n",
      "body=soup.find(\"div\", {\"class\":\"post-body entry-content\"})\n",
      "for para in body.select(\"p\"):\n",
      "from\n",
      "from bs4 import BeautifulSoup as bs\n",
      "html_src = resp.text\n",
      "https://wikidocs.net/127846\n",
      "import\n",
      "import requests\n",
      "pip install bs4\n",
      "print\n",
      "print(resp)\n",
      "print(soup.select_one(\"#Profile1 > div > a\").get(\"href\"))\n",
      "resp = requests.get(url)\n",
      "soup = bs(html_src, 'html.parser')\n",
      "soup.select_one(\"#Blog1 > div.blog-posts.hfeed > div > div > div > div.post.hentry.uncustomized-post-template > h3\").text.strip()\n",
      "text\n",
      "text =\"\"\n",
      "text=text+para.text.strip()\n",
      "url = \"https://enjoystat.blogspot.com/2024/03/html.html\"\n",
      "가. 기본정보 추출\n",
      "그리고 태그를 파싱해서 그안에 담겨있는 텍스트를 추출하거나 속성에 해당하는 속성값을 추출는 방법을 정리하면 아래와 같다.\n",
      "기본적인 웹페이지의 정보를 크롤링하기 위해서는 아래와 같이 requests나 urllib 라이브러리를 이용하여 HTML 정보를 불러오고 이를 BeautifulSoup으로 파싱하여 구체적인 텍스트 정보를 얻을 수있다.\n",
      "나. 태그사이에 있는 정보 추출\n",
      "다. 속성값 추출\n",
      "라. 반복되는 내용 추출\n",
      "먼저 뷰티풀소프라는 라이브러리를 아래와 같이 설치한다.\n",
      "보다 다양한 HTML 태그에 대한 이해를 위해서 자주 사용하는 태그들을 표의 형태로 정리하면 아래와 같다.\n",
      "와\n",
      "웹크롤링을 하기 위해 우선적으로 해야할 일은 우리가 정보를 추출하고자하는 웹페이지의 로봇배제기준을 확인하여 추출이 가능한 웹페이지인지 확인해야한다. 현재 이 블로그의 로봇배제기준을 확인하려면 웹페이지 주소창에 있는 주소에 추가하여 /robots.txt 를 추가하여 확인하는 것이다.\n",
      "웹페이지에 있는 세부 텍스트 내용은 통상 패러그래프 태그인 P 태그에 반복적으로 들어있기 때문에 아래와 같이 for문을 이용하여 추출할 수 있다.\n",
      "이라는 파이썬 라이브러리는 이와 같이 HTML 문서를 파싱하여 텍스트 데이터를 추출할 수 있는 유용한 도구이다.\n",
      "이러한 구조를 사람이 보기 편한 Text 문서로 파싱하기 위해서는 BeautifulSoup라는 라이브러리를 이용해야 한다.\n",
      "이해를 돕기위해 아래와 같이 HTML 소스코드를 아래와 같이 작성하여 '웹크롤링 연습.html'로 파일을 저장하고 웹브라우저로 열어보면 HTML로 작성된 문서의 규칙을 이해할 수 있다.\n",
      "좀더 구체적으로 위에 그림 중에 본문 문단을 의미하는 p 태그의 코드 기준으로 설명하면 HTML 요소는 시작 태그와 /로 시작하는 종료 태그 사이에 내용들이 들어 있으며, 시작 태그 안에는 속성명(Attributes) 'class'와 속성값(Values) 'para'를 포함하고 있고, '빅데이터 분석과 활용'이라는 내용을 포함하고 있는 태그이다.\n",
      "참조 :\n",
      "코랩을 이용해서 위에 그림으로 설명한 P 태그의 내용을 추출하는 방법을 설명하면 아래와 같은 코드를 실행시키면 추출이 가능하다.\n",
      "태그 내에 작성되어 있는 속성값을 추출하기 위해서는 get(\"속성명\") 메소드를 활용하여 속성값을 추출할 수 있다.\n",
      "태그사이에 있는 정보를 추출하기 위해서는 f12 또는 Ctrl+Shift+I로 소스코드가 팝업되도록 펼치고, 좌상단 element select 또는 Ctrl+Shift+C로 마우스 선택기를 활성화하여 추출하고자하는 행에서 우측마우 클릭하고, copy - copy selector 선택 복사하여 아래와 같이 Select_one문에 붙여넣기하여 기본정보를 추출할 수 있다.\n"
     ]
    }
   ],
   "source": [
    "import requests\n",
    "from bs4 import BeautifulSoup as bs\n",
    "\n",
    "# 웹 페이지 요청\n",
    "response = requests.get('https://ai-bigdataanalysis.blogspot.com/2024/03/html.html')\n",
    "\n",
    "# HTML 파싱\n",
    "html_doc = response.text\n",
    "soup = bs(html_doc, 'html.parser')\n",
    "\n",
    "# 특정 div 태그 선택\n",
    "content = soup.select_one('div.post-body')\n",
    "\n",
    "# 텍스트 추출 (중복 제거)\n",
    "text_set= set()  # 중복 제거를 위해 set 사용\n",
    "if content:\n",
    "    for para in content.select(\"span\"):\n",
    "        text_set.add(para.text.strip()) # 중복 제거\n",
    "\n",
    "# 정렬 및 줄바꿈 추가\n",
    "text = \"\\n\".join(sorted(text_set))\n",
    "\n",
    "# 최종 텍스트 출력\n",
    "print(text)"
   ]
  },
  {
   "cell_type": "markdown",
   "metadata": {},
   "source": [
    "### 2-3. urllib\n",
    "\n",
    "- requests 라이브러리와 다르게 데이터 전송시 바이너리 데이터로 변환하여 주고 받기에 HTML 문서를 수신했을 때 디코딩 과정이 필요하다.\n",
    "\n",
    "- 한글은 UTF-8, EUC-KR, cp949 형태가 존재\n",
    "\n",
    "- HTML 문서의 Head 부분에서 관련된 정보를 찾아 적절한 포맷에 맞게 디코딩을 해야한다."
   ]
  },
  {
   "cell_type": "code",
   "execution_count": 8,
   "metadata": {},
   "outputs": [
    {
     "name": "stdout",
     "output_type": "stream",
     "text": [
      "Encoding: utf-8\n",
      "<!DOCTYPE html>\n",
      "<html class='v2' dir='ltr' lang='ko'>\n",
      "<head>\n",
      "<link href='https://www.blogger.com/static/v1/widgets/3566091532-css_bundle_v2.css' rel='stylesheet' type='text/css'/>\n",
      "<meta content='width\n"
     ]
    }
   ],
   "source": [
    "# urllib.request 모듈에서 urlopen 함수를 import\n",
    "from urllib.request import urlopen\n",
    "\n",
    "# 웹 페이지 요청 및 응답 객체 가져오기\n",
    "# 'https://ai-bigdataanalysis.blogspot.com'페이지에 접근하여 응답 객체를 html 변수에 저장\n",
    "html = urlopen('https://ai-bigdataanalysis.blogspot.com')\n",
    "\n",
    "# 응답된 페이지의 인코딩 방식 확인\n",
    "# 서버에서 응답한 HTP 헤더에서 'Content-Type'의 charset값을 가져와 인코딩 방식을 출력\n",
    "print(\"Encoding:\", html.headers.get_content_charset())\n",
    "\n",
    "# HTML 내용을 읽어와서 디코딩(기본적으로 UTF-8로 인코딩된 경우)\n",
    "# 서버로부터 받은 데이터를 바이너리 형식으로 읽어온 후, 문자열로 디코딩하여 저장\n",
    "html_doc=html.read().decode()\n",
    "\n",
    "# 디코딩된 HTML 문서의 처음 200자를 출력\n",
    "# HTML 소스의 일부를 출력하여 페이지 구조를 확인\n",
    "print(html_doc[:200])"
   ]
  },
  {
   "cell_type": "markdown",
   "metadata": {},
   "source": [
    "- UTF-8이 아닌 EUC-KR이나 cp949일경우 decode('cp949')로 변경\n",
    "- urllib과 bs4의 find 문 활용한 웹 크롤링 방식"
   ]
  }
 ],
 "metadata": {
  "kernelspec": {
   "display_name": "Python 3",
   "language": "python",
   "name": "python3"
  },
  "language_info": {
   "codemirror_mode": {
    "name": "ipython",
    "version": 3
   },
   "file_extension": ".py",
   "mimetype": "text/x-python",
   "name": "python",
   "nbconvert_exporter": "python",
   "pygments_lexer": "ipython3",
   "version": "3.9.13"
  }
 },
 "nbformat": 4,
 "nbformat_minor": 2
}
