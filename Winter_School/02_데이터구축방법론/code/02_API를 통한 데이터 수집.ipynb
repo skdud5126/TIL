{
 "cells": [
  {
   "cell_type": "markdown",
   "metadata": {},
   "source": [
    "## **🔍 Objectives**\n",
    "\n",
    "### **1. 실습 개요**\n",
    "- 📊 **공공데이터 API 실습**  \n",
    "- 🔄 **JSON, CSV, XML 데이터 처리 실습**  \n",
    "\n",
    "---\n",
    "\n",
    "### **2. 실습 진행 목적 및 배경**\n",
    "- **공공데이터 API**를 통해 구조화된 데이터를 요청하고 응답받는 기술을 익힙니다.  \n",
    "- **JSON, CSV, XML**과 같은 다양한 데이터 포맷의 구조를 이해하고 이를 변환하거나 저장하는 방법을 학습합니다.  \n",
    "- 학습자는 데이터를 수집, 처리, 저장하는 유연한 워크플로우를 체득하게 됩니다.  \n",
    "\n",
    "---\n",
    "\n",
    "### **3. 실습 수행으로 얻어갈 수 있는 역량**\n",
    "- 실시간 데이터를 **수집**하고 **분석**하는 기술 습득  \n",
    "- 데이터를 다룰 때 **포맷 변환 및 저장 능력** 향상\n",
    "\n",
    "---\n",
    "\n",
    "### **4. 데이터셋 개요 및 저작권 정보**\n",
    "\n",
    "#### **📁 데이터 개요**\n",
    "- **데이터셋 이름**: 노령 인구 통계 데이터  \n",
    "- **데이터 제공자**: 공공데이터포털 (대한민국 정부)  \n",
    "- **내용**:  \n",
    "  - 특정 연도의 노령 인구 통계를 제공 (전체 및 연령대별 인구).  \n",
    "  - **분석 목적**: 정책 분석, 학술 연구, 보고서 작성 등.  \n",
    "  - **형식**: XML 또는 JSON 응답 데이터.  \n",
    "- **컬럼명 설명**:  \n",
    "  - `year`: 데이터의 연도  \n",
    "  - `all`: 전체 노령 인구 수  \n",
    "  - `age65-69`: 65-69세 연령대 인구 수  \n",
    "  - `age70-74`: 70-74세 연령대 인구 수  \n",
    "  - `age75-79`: 75-79세 연령대 인구 수  \n",
    "  - `age80-84`: 80-84세 연령대 인구 수  \n",
    "  - `age85-89`: 85-89세 연령대 인구 수  \n",
    "  - `age90u`: 90세 이상 인구 수  \n",
    "\n",
    "#### **📜 저작권 정보**\n",
    "- **소유자**: 보건복지부  \n",
    "- **저작권 표시**: 공공의 이익을 위해 제공되며, 특정 조건에서 재사용 가능.  \n",
    "- **출처**: [공공데이터포털](https://www.data.go.kr/)  \n",
    "\n",
    "---\n",
    "\n",
    "### **5. 실습 핵심 내용**\n",
    "- 🔑 **API 키 발급 및 활용법 학습**  \n",
    "- 📂 **JSON, CSV, XML 데이터 포맷 처리 실습**  \n"
   ]
  },
  {
   "cell_type": "markdown",
   "metadata": {},
   "source": [
    "### **Prerequisites**\n",
    "\n",
    "```\n",
    "requests>=2.28.1\n",
    "pandas>=1.3.0\n",
    "jsonschema>=4.0.0\n",
    "urllib3>=1.26.12\n",
    "\n",
    "```"
   ]
  },
  {
   "cell_type": "markdown",
   "metadata": {},
   "source": [
    "# API 데이터 수집\n",
    "\n",
    "- JSON과 XML 데이터 구조 숙달\n",
    "- 공공데이터 API 활용해보기\n",
    "- 네이버 API 활용해보기\n"
   ]
  },
  {
   "cell_type": "markdown",
   "metadata": {},
   "source": [
    "### 1. JSON\n",
    "\n",
    "### 1-1. 데이터 저장\n",
    "\n",
    "- 구글 드라이브를 마운트하여 구글 드라이브에 JSON 파일 저장"
   ]
  },
  {
   "cell_type": "code",
   "execution_count": 3,
   "metadata": {},
   "outputs": [
    {
     "ename": "ModuleNotFoundError",
     "evalue": "No module named 'google.colab'",
     "output_type": "error",
     "traceback": [
      "\u001b[1;31m---------------------------------------------------------------------------\u001b[0m",
      "\u001b[1;31mModuleNotFoundError\u001b[0m                       Traceback (most recent call last)",
      "Cell \u001b[1;32mIn[3], line 1\u001b[0m\n\u001b[1;32m----> 1\u001b[0m \u001b[38;5;28;01mfrom\u001b[39;00m \u001b[38;5;21;01mgoogle\u001b[39;00m\u001b[38;5;21;01m.\u001b[39;00m\u001b[38;5;21;01mcolab\u001b[39;00m \u001b[38;5;28;01mimport\u001b[39;00m drive\n\u001b[0;32m      2\u001b[0m drive\u001b[38;5;241m.\u001b[39mmount(\u001b[38;5;124m'\u001b[39m\u001b[38;5;124m/content/gdrive\u001b[39m\u001b[38;5;124m'\u001b[39m, force_remount\u001b[38;5;241m=\u001b[39m\u001b[38;5;28;01mTrue\u001b[39;00m)\n",
      "\u001b[1;31mModuleNotFoundError\u001b[0m: No module named 'google.colab'"
     ]
    }
   ],
   "source": [
    "from google.colab import drive\n",
    "drive.mount('/content/gdrive', force_remount=True)"
   ]
  },
  {
   "cell_type": "markdown",
   "metadata": {},
   "source": [
    "- 파일을 저장할 디렉토리 생성"
   ]
  },
  {
   "cell_type": "code",
   "execution_count": 4,
   "metadata": {},
   "outputs": [
    {
     "name": "stdout",
     "output_type": "stream",
     "text": [
      "'/content/gdrive/MyDrive/' 폴더가 생성되었습니다.\n"
     ]
    }
   ],
   "source": [
    "import os\n",
    "# my_path: 각자 데이터셋 파일이 있는 경로로 설정 바랍니다.\n",
    "my_path = \"/content/gdrive/MyDrive/\"\n",
    "if not os.path.exists(my_path):\n",
    "    os.makedirs(my_path)\n",
    "    print(f\"'{my_path}' 폴더가 생성되었습니다.\")\n",
    "else:\n",
    "    print(f\"'{my_path}' 폴더가 이미 존재합니다.\")\n"
   ]
  },
  {
   "cell_type": "markdown",
   "metadata": {},
   "source": [
    "- 여러 사이트의 아이디와 비밀번호 관리하는 JSON 파일\n",
    "\n",
    "- 다른 사용자가 접근할 수 없는 곳에 저장해두고 불러서 사용"
   ]
  },
  {
   "cell_type": "code",
   "execution_count": 5,
   "metadata": {},
   "outputs": [],
   "source": [
    "import json\n",
    "admin={\n",
    "    '1.name' : \"hong gildong\",\n",
    "    '2.mysql' : { \"id\" :\"mysql\", \"pass\" : \"12345\" },\n",
    "    '3.naver_api':{\n",
    "        'id' : 'gildong',\n",
    "        'api_key': 'my_naver_6789',\n",
    "        'api_secret': \"12345\" },\n",
    "    }\n",
    "with open(os.path.join(my_path, 'admin_ex.json'), 'w') as f:\n",
    "    json.dump(admin, f) #들여쓰기 옵션"
   ]
  }
 ],
 "metadata": {
  "kernelspec": {
   "display_name": "Python 3",
   "language": "python",
   "name": "python3"
  },
  "language_info": {
   "codemirror_mode": {
    "name": "ipython",
    "version": 3
   },
   "file_extension": ".py",
   "mimetype": "text/x-python",
   "name": "python",
   "nbconvert_exporter": "python",
   "pygments_lexer": "ipython3",
   "version": "3.9.13"
  }
 },
 "nbformat": 4,
 "nbformat_minor": 2
}
