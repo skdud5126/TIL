{
 "cells": [
  {
   "cell_type": "markdown",
   "metadata": {},
   "source": [
    "## **🔍 Objectives**\n",
    "\n",
    "### **1. 실습 개요**\n",
    "- 📊 **정형 데이터 EDA**  \n",
    "- 🔍 **전처리된 정형 데이터로 간단한 분류 모델 성능 비교**  \n",
    "\n",
    "---\n",
    "\n",
    "### **2. 실습 진행 목적 및 배경**\n",
    "- 본 실습은 정형 데이터를 다루며, **데이터 분석(EDA)**, **정제(Cleaning)**, **전처리(Preprocessing)** 기술을 직접 적용합니다.  \n",
    "- 학습자는 실제 데이터셋을 다루며 **결측값**, **이상치**, **중복 데이터** 처리 방법을 배우고, 데이터 품질을 개선하는 기술을 익힙니다.  \n",
    "\n",
    "---\n",
    "\n",
    "### **3. 실습 수행으로 얻어갈 수 있는 역량**\n",
    "- **정형 데이터의 EDA 기술 학습**  \n",
    "- **정형 데이터의 전처리 방법 습득**  \n",
    "- **정형 데이터 기반 간단한 분류 모델 구현 및 성능 비교**  \n",
    "\n",
    "---\n",
    "\n",
    "### **4. 데이터셋 개요 및 저작권 정보**\n",
    "\n",
    "#### **📁 데이터 개요**\n",
    "\n",
    "**정형 데이터**  \n",
    "- **데이터셋 이름**: [Students' Academic Performance Dataset](https://www.kaggle.com/datasets/aljarah/xAPI-Edu-Data/data)  \n",
    "- **내용**: 학생들의 학업 성과에 관한 데이터로, **성적 예측 및 분석**에 활용됩니다.  \n",
    "- **저작권**: 데이터셋은 Kaggle에 공개되어 있으며, 연구 및 학술 목적으로 사용될 수 있습니다.\n",
    "- **컬럼명 설명**:  \n",
    "  - `gender`: 학생의 성별 (`M`: 남성, `F`: 여성)  \n",
    "  - `NationaliTy`: 학생의 국적  \n",
    "  - `PlaceofBirth`: 학생이 태어난 국가  \n",
    "  - `StageID`: 학생이 다니는 학교 (초, 중, 고)  \n",
    "  - `GradeID`: 학생이 속한 성적 등급  \n",
    "  - `SectionID`: 학생이 속한 반 이름  \n",
    "  - `Topic`: 수강한 과목  \n",
    "  - `Semester`: 수강한 학기 (1학기/2학기)  \n",
    "  - `Relation`: 주 보호자와 학생의 관계  \n",
    "  - `raisedhands`: 수업 중 손을 든 횟수  \n",
    "  - `VisITedResources`: 과목 공지를 확인한 횟수  \n",
    "  - `Discussion`: 토론 그룹 참여 횟수  \n",
    "  - `ParentAnsweringSurvey`: 부모 설문 참여 여부  \n",
    "  - `ParentschoolSatisfaction`: 부모의 학교 만족 여부  \n",
    "  - `StudentAbscenceDays`: 결석 횟수 (`7회 이상`/`미만`)  \n",
    "  - `Class`: 학생의 성적 등급 (`L`: 낮음, `M`: 보통, `H`: 높음)  \n",
    "\n",
    "---\n",
    "\n",
    "### **5. 실습 핵심 내용**\n",
    "- **정형 데이터**의 **EDA**  \n",
    "- **정형 데이터**의 **전처리**  \n",
    "- **정형 데이터** 기반 간단한 **분류 모델 성능 비교**  \n"
   ]
  },
  {
   "cell_type": "markdown",
   "metadata": {},
   "source": [
    "### **Prerequisites**\n",
    "\n",
    "```\n",
    "numpy==1.26.4\n",
    "pandas==2.2.2\n",
    "matplotlib==3.8.0\n",
    "seaborn==0.13.2\n",
    "konlpy==0.6.0\n",
    "```\n"
   ]
  },
  {
   "cell_type": "markdown",
   "metadata": {},
   "source": [
    "<hr>\n",
    "\n",
    "# 정형 데이터 : Students' Academic Performance Dataset 실습\n",
    "\n",
    "- numpy, pandas : 파이썬 라이브러리. 수치연산과 데이터 분석을 편리하게 하는 다양한 기능 제공.\n",
    "- matplotlib, seaborn : 파이썬 시각화 툴"
   ]
  },
  {
   "cell_type": "code",
   "execution_count": 1,
   "metadata": {},
   "outputs": [],
   "source": [
    "# 필요한 라이브러리 불러오기\n",
    "\n",
    "import numpy as np\n",
    "import pandas as pd\n",
    "import matplotlib.pyplot as plt\n",
    "import matplotlib.font_manager as fm\n",
    "import seaborn as sns\n",
    "\n",
    "# 나눔 폰트를 matplotlib에 설정\n",
    "plt.rc('font', family='NanumGothic')\n",
    "\n",
    "# seaborn을 예쁘게 그리기 위한 설정\n",
    "sns.set_style(\"whitegrid\")"
   ]
  },
  {
   "cell_type": "markdown",
   "metadata": {},
   "source": [
    "# 1. 데이터 EDA\n",
    "\n",
    "### 1-1. 데이터 CSV 파일로 불러오기"
   ]
  }
 ],
 "metadata": {
  "kernelspec": {
   "display_name": "Python 3",
   "language": "python",
   "name": "python3"
  },
  "language_info": {
   "codemirror_mode": {
    "name": "ipython",
    "version": 3
   },
   "file_extension": ".py",
   "mimetype": "text/x-python",
   "name": "python",
   "nbconvert_exporter": "python",
   "pygments_lexer": "ipython3",
   "version": "3.9.13"
  }
 },
 "nbformat": 4,
 "nbformat_minor": 2
}
